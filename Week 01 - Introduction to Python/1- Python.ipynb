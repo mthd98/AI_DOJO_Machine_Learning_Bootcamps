{
  "cells": [
    {
      "cell_type": "markdown",
      "metadata": {},
      "source": [
        "# Python\n",
        "\n",
        "<!--<badge>--><a href=\"https://colab.research.google.com/github/TheAIDojo/Machine_Learning_Bootcamp/blob/main/Week 01 - Introduction to Python/1- Python.ipynb\" target=\"_parent\"><img src=\"https://colab.research.google.com/assets/colab-badge.svg\" alt=\"Open In Colab\"/></a><!--</badge>-->\n",
        "\n",
        "\n",
        "Python is an interpreted high-level general-purpose programming language. Its design philosophy emphasizes code readability with its use of significant indentation. Its language constructs as well as its object-oriented approach aim to help programmers write clear, logical code for small and large-scale projects."
      ]
    },
    {
      "cell_type": "markdown",
      "metadata": {
        "id": "vlUfZR5I5mPb"
      },
      "source": [
        "## The Python Interpreter\n",
        "<a id='interpreter'></a>\n",
        "\n",
        "Excecution of Python programs is often performed by an **interpreter**, meaning that program statements are converted to machine executable code at **runtime** (i.e., when the program is actually run) as opposed to **compiled** into executable code before it is run by the end user. This is one of the primary ways we'll interact with Python, especially at first. We'll type some Python code and then hit the `Enter` key. This causes the code to be translated and executed. \n",
        "\n",
        "Interpretation allows great flexibility (interpreted programs can modify their source code at run time), but it's often the case that interpreted programs run much more slowly than their compiled counterparts. It's also often more difficult to find errors in interpreted programs. \n",
        "\n",
        "We can interact with the Python interpreter via a prompt, which looks something like the following.\n",
        "\n",
        "    (base) C:\\Users\\nimda>python\n",
        "    Python 3.6.4 |Anaconda, Inc.| (default, Jan 16 2018, 10:22:32) [MSC v.190064 bit (AMD64)] on win32\n",
        "    Type \"help\", \"copyright\", \"credits\" or \"license\" for more information.\n",
        "    >>> print(\"Hello World\") # note: this will print something to the screen. \n",
        "    Hello World\n",
        "    >>>\n",
        "\n",
        "Above, the `print` function prints out a string representation of the argument. The `#` denotes a comment, and the interpreter skips anything on the line after it (that is, it won't try to interpret anything after the `#`). \n",
        "\n",
        "Of course, we can save Python code into a program file and execute it later, too. \n",
        "\n",
        "\n",
        "### Jupyter Notebooks\n",
        "\n",
        "We'll also interact with Python using Jupyter Notebooks (like this one). When we hit `Run` in the menu bar, we are performing an action analogous to hitting enter from a command prompt. The code in the active cell will be executed. Users should be aware that though we are intereacting with a Web page, there is a Web server and Python enviroment running behind the scenes. This adds a later of complexity, but the ability to mix well-formatted documentation and code makes using Jupyter Notebook worthwhile.\n",
        "\n",
        "\n",
        "<a id='variables'></a>\n",
        "## Python Identifiers and Variables\n",
        "\n",
        "### Identifiers\n",
        "\n",
        "An **identifier** in Python is a word (a string) used to identify a variable, function, class, etc. in a Python program. It can be thought of as a proper name. Identifiers start with a letter (a-Z) or an underscore `_`; this first character is followed by a sequence of letters numbers, and underscores.\n",
        "\n",
        "Certain identifiers, such as `class` or `if` are builtin keywords and cannot be redefined by users. \n",
        "\n",
        "### Variables\n",
        "\n",
        "As in most programming languages, **variables** play a central role in Python. We need a way to store and refer to data in our programs, and variables are the primary way to do this.  Specifically, we assign data values variables using the `=`. After the assignment has been made, we may use the variable to access the data as many times as we like. \n",
        "\n",
        "In general, the righthand side of an assignment is evaluated first (e.g., 1+1 is evaluated to 2), and afterwards the result is stored in the variable specified on the left. That explains why the last line below results in a value of 6 being printed. On evaluation of the righthand side, the current value of `blue_fish` (3) is added to itself, and the resulting value is assigned to `blue_fish`, overwriting the 3."
      ]
    },
    {
      "cell_type": "code",
      "execution_count": null,
      "metadata": {
        "colab": {
          "base_uri": "https://localhost:8080/"
        },
        "executionInfo": {
          "elapsed": 1661,
          "status": "ok",
          "timestamp": 1621106763980,
          "user": {
            "displayName": "muntadher alkaabi",
            "photoUrl": "https://lh3.googleusercontent.com/a-/AOh14Gj1adaCWpR-cnwQQK4viQZvo0gyRf1A0y9AkvnPMt0=s64",
            "userId": "00221067971932357642"
          },
          "user_tz": -180
        },
        "id": "GSijsPFT5mPg",
        "outputId": "9626ff80-90bd-46a4-d578-013b3c5fa8db",
        "pycharm": {
          "is_executing": false
        }
      },
      "outputs": [
        {
          "name": "stdout",
          "output_type": "stream",
          "text": [
            "1\n",
            "2\n",
            "3\n",
            "6\n"
          ]
        }
      ],
      "source": [
        "one_fish = 1\n",
        "two_fish = one_fish + 1\n",
        "blue_fish = one_fish + two_fish\n",
        "print(one_fish)\n",
        "print(two_fish)\n",
        "print(blue_fish)\n",
        "blue_fish = blue_fish + blue_fish\n",
        "print(blue_fish)"
      ]
    },
    {
      "cell_type": "markdown",
      "metadata": {
        "id": "OF_xwiDK5mPo"
      },
      "source": [
        "### Dynamic Typing\n",
        "\n",
        "Note that no data type (e.g., integer, string) is specified in an assignment, even the first time a variable is used. In general, variables and types are *not* declared in Python before a value is assigned. Python is said to be a **dynamically typed** language. \n",
        "\n",
        "The below code is perfectly fine in Python, but assigning a number and then a string in another lanauge such as Java would cause an error."
      ]
    },
    {
      "cell_type": "code",
      "execution_count": null,
      "metadata": {
        "colab": {
          "base_uri": "https://localhost:8080/"
        },
        "executionInfo": {
          "elapsed": 2613,
          "status": "ok",
          "timestamp": 1621106765124,
          "user": {
            "displayName": "muntadher alkaabi",
            "photoUrl": "https://lh3.googleusercontent.com/a-/AOh14Gj1adaCWpR-cnwQQK4viQZvo0gyRf1A0y9AkvnPMt0=s64",
            "userId": "00221067971932357642"
          },
          "user_tz": -180
        },
        "id": "pCLOdJea5mPp",
        "outputId": "71e027a1-a087-4d7a-90e9-876774cc3705",
        "pycharm": {
          "is_executing": false
        }
      },
      "outputs": [
        {
          "name": "stdout",
          "output_type": "stream",
          "text": [
            "1\n",
            "hello\n"
          ]
        }
      ],
      "source": [
        "a = 1\n",
        "print(a)\n",
        "a = \"hello\"\n",
        "print(a)"
      ]
    },
    {
      "cell_type": "markdown",
      "metadata": {
        "id": "cawiwz685mPw"
      },
      "source": [
        "## Data Types\n",
        "<a id='datatypes'></a>\n",
        "\n",
        "As in most programming languages, each data value in a Python program has a **data type** (even though we typically don't specify it). We'll discuss some of the datatypes here. \n",
        "\n",
        "For a given data value, we can get its type using the `type` function, which takes an argument. The below print expressions show several of the built-in data types (and how literal values are parsed by default). "
      ]
    },
    {
      "cell_type": "code",
      "execution_count": null,
      "metadata": {
        "colab": {
          "base_uri": "https://localhost:8080/"
        },
        "executionInfo": {
          "elapsed": 2602,
          "status": "ok",
          "timestamp": 1621106765125,
          "user": {
            "displayName": "muntadher alkaabi",
            "photoUrl": "https://lh3.googleusercontent.com/a-/AOh14Gj1adaCWpR-cnwQQK4viQZvo0gyRf1A0y9AkvnPMt0=s64",
            "userId": "00221067971932357642"
          },
          "user_tz": -180
        },
        "id": "4RUfCH9A5mPw",
        "outputId": "55785984-b4ba-4854-e39b-a1efb25fb3a0",
        "pycharm": {
          "is_executing": false
        }
      },
      "outputs": [
        {
          "name": "stdout",
          "output_type": "stream",
          "text": [
            "<class 'int'>\n",
            "<class 'float'>\n",
            "<class 'str'>\n",
            "<class 'bool'>\n",
            "<class 'list'>\n",
            "<class 'tuple'>\n",
            "<class 'dict'>\n"
          ]
        }
      ],
      "source": [
        "print(type(1))  # an integer\n",
        "print(type(2.0))  # a float\n",
        "print(type(\"hi!\"))  # a string\n",
        "print(type(True))  # a boolean value\n",
        "print(type([1, 2, 3, 4, 5]))  # a list (a mutable collection)\n",
        "print(type((1, 2, 3, 4, 5)))  # a tuple (an immutable collection)\n",
        "print(\n",
        "    type({\"fname\": \"john\", \"lname\": \"doe\"})\n",
        ")  # a dictionary (a collection of key-value pairs)"
      ]
    },
    {
      "cell_type": "markdown",
      "metadata": {
        "id": "MU1GP1vi5mP3"
      },
      "source": [
        "<a id='numbers'></a>\n",
        "### Numbers\n",
        "\n",
        "The basic numerical data types of python are:\n",
        "*  `int` (integer values), \n",
        "*  `float` (floating point numbers), and \n",
        "*  `complex` (complex numbers). "
      ]
    },
    {
      "cell_type": "code",
      "execution_count": null,
      "metadata": {
        "colab": {
          "base_uri": "https://localhost:8080/"
        },
        "executionInfo": {
          "elapsed": 2591,
          "status": "ok",
          "timestamp": 1621106765127,
          "user": {
            "displayName": "muntadher alkaabi",
            "photoUrl": "https://lh3.googleusercontent.com/a-/AOh14Gj1adaCWpR-cnwQQK4viQZvo0gyRf1A0y9AkvnPMt0=s64",
            "userId": "00221067971932357642"
          },
          "user_tz": -180
        },
        "id": "s7nIy4hq5mP4",
        "outputId": "2a0de420-ca4e-4a03-cc1c-8bfe88accbc8",
        "pycharm": {
          "is_executing": false
        }
      },
      "outputs": [
        {
          "name": "stdout",
          "output_type": "stream",
          "text": [
            "<class 'int'> :  1\n",
            "<class 'float'> :  1.0\n",
            "<class 'complex'> :  (1+2j)\n",
            "<class 'float'> :  10000000000.0\n",
            "<class 'complex'> :  1.0\n",
            "<class 'complex'> :  2j\n"
          ]
        }
      ],
      "source": [
        "x = 1\n",
        "y = 1.0\n",
        "z = 1 + 2j\n",
        "w = 1e10\n",
        "v = 1.0\n",
        "u = 2j\n",
        "print(type(x), \": \", x)\n",
        "print(type(y), \": \", y)\n",
        "print(type(z), \": \", z)\n",
        "print(type(w), \": \", w)\n",
        "print(type(u), \": \", v)\n",
        "print(type(u), \": \", u)"
      ]
    },
    {
      "cell_type": "markdown",
      "metadata": {
        "id": "UeKvxBCX5mP_"
      },
      "source": [
        "In general, a number written as a simply integer will, unsurprisingly, be interpreted in Python as an `int`.\n",
        "\n",
        "Numbers written using a `.` or scientific notation are interpreted as floats. Numbers written using `j` are interpreted as complex numbers.\n",
        "\n",
        "**NOTE**: Unlike some other languages, Python 3 does not have minimum or maxium integer values (Python 2 does, however). \n",
        "\n",
        "<a id='arithmetic'></a>\n",
        "### Arithmetic\n",
        "\n",
        "The arithmetic operations available in most languages are also present in Python (with a default precedence on operations). "
      ]
    },
    {
      "cell_type": "code",
      "execution_count": null,
      "metadata": {
        "colab": {
          "base_uri": "https://localhost:8080/"
        },
        "executionInfo": {
          "elapsed": 2580,
          "status": "ok",
          "timestamp": 1621106765128,
          "user": {
            "displayName": "muntadher alkaabi",
            "photoUrl": "https://lh3.googleusercontent.com/a-/AOh14Gj1adaCWpR-cnwQQK4viQZvo0gyRf1A0y9AkvnPMt0=s64",
            "userId": "00221067971932357642"
          },
          "user_tz": -180
        },
        "id": "ytoO_HRO5mQA",
        "outputId": "33791168-8c3b-4c14-c240-51173664dc5f",
        "pycharm": {
          "is_executing": false
        }
      },
      "outputs": [
        {
          "data": {
            "text/plain": [
              "3"
            ]
          },
          "execution_count": 5,
          "metadata": {
            "tags": []
          },
          "output_type": "execute_result"
        }
      ],
      "source": [
        "1 + 3 - (3 - 2)  # simple addition and subtraction"
      ]
    },
    {
      "cell_type": "code",
      "execution_count": null,
      "metadata": {
        "colab": {
          "base_uri": "https://localhost:8080/"
        },
        "executionInfo": {
          "elapsed": 2569,
          "status": "ok",
          "timestamp": 1621106765129,
          "user": {
            "displayName": "muntadher alkaabi",
            "photoUrl": "https://lh3.googleusercontent.com/a-/AOh14Gj1adaCWpR-cnwQQK4viQZvo0gyRf1A0y9AkvnPMt0=s64",
            "userId": "00221067971932357642"
          },
          "user_tz": -180
        },
        "id": "JTqqhkAN5mQF",
        "outputId": "b8d69404-a708-422a-cde4-72bb612985fb",
        "pycharm": {
          "is_executing": false
        },
        "scrolled": false
      },
      "outputs": [
        {
          "data": {
            "text/plain": [
              "8.0"
            ]
          },
          "execution_count": 6,
          "metadata": {
            "tags": []
          },
          "output_type": "execute_result"
        }
      ],
      "source": [
        "4 * 2.0  # multiplication of an int and a float (yields a float)"
      ]
    },
    {
      "cell_type": "code",
      "execution_count": null,
      "metadata": {
        "colab": {
          "base_uri": "https://localhost:8080/"
        },
        "executionInfo": {
          "elapsed": 2559,
          "status": "ok",
          "timestamp": 1621106765130,
          "user": {
            "displayName": "muntadher alkaabi",
            "photoUrl": "https://lh3.googleusercontent.com/a-/AOh14Gj1adaCWpR-cnwQQK4viQZvo0gyRf1A0y9AkvnPMt0=s64",
            "userId": "00221067971932357642"
          },
          "user_tz": -180
        },
        "id": "X4ZAefJz5mQL",
        "outputId": "024f3404-b748-4838-e2f5-3ea524d53163",
        "pycharm": {
          "is_executing": false
        }
      },
      "outputs": [
        {
          "data": {
            "text/plain": [
              "2.5"
            ]
          },
          "execution_count": 7,
          "metadata": {
            "tags": []
          },
          "output_type": "execute_result"
        }
      ],
      "source": [
        "5 / 2  # floating point division"
      ]
    },
    {
      "cell_type": "code",
      "execution_count": null,
      "metadata": {
        "colab": {
          "base_uri": "https://localhost:8080/"
        },
        "executionInfo": {
          "elapsed": 2548,
          "status": "ok",
          "timestamp": 1621106765131,
          "user": {
            "displayName": "muntadher alkaabi",
            "photoUrl": "https://lh3.googleusercontent.com/a-/AOh14Gj1adaCWpR-cnwQQK4viQZvo0gyRf1A0y9AkvnPMt0=s64",
            "userId": "00221067971932357642"
          },
          "user_tz": -180
        },
        "id": "kkqR6pyv5mQQ",
        "outputId": "30b5dcef-d6a0-43fb-89bf-0033b3be2eb5",
        "pycharm": {
          "is_executing": false
        }
      },
      "outputs": [
        {
          "name": "stdout",
          "output_type": "stream",
          "text": [
            "2.0\n",
            "<class 'float'>\n"
          ]
        }
      ],
      "source": [
        "print(5.6 // 2)  # integer division\n",
        "print(type(5.6 // 2))"
      ]
    },
    {
      "cell_type": "code",
      "execution_count": null,
      "metadata": {
        "colab": {
          "base_uri": "https://localhost:8080/"
        },
        "executionInfo": {
          "elapsed": 2538,
          "status": "ok",
          "timestamp": 1621106765132,
          "user": {
            "displayName": "muntadher alkaabi",
            "photoUrl": "https://lh3.googleusercontent.com/a-/AOh14Gj1adaCWpR-cnwQQK4viQZvo0gyRf1A0y9AkvnPMt0=s64",
            "userId": "00221067971932357642"
          },
          "user_tz": -180
        },
        "id": "MI5Ylv_u5mQV",
        "outputId": "20728af7-bd40-4071-8a14-6b16d54e2cb1",
        "pycharm": {
          "is_executing": false
        }
      },
      "outputs": [
        {
          "data": {
            "text/plain": [
              "1"
            ]
          },
          "execution_count": 9,
          "metadata": {
            "tags": []
          },
          "output_type": "execute_result"
        }
      ],
      "source": [
        "5 % 2  # modulo operator (straightforwardly, the integer remainder of 5/2)"
      ]
    },
    {
      "cell_type": "code",
      "execution_count": null,
      "metadata": {
        "colab": {
          "base_uri": "https://localhost:8080/"
        },
        "executionInfo": {
          "elapsed": 2528,
          "status": "ok",
          "timestamp": 1621106765133,
          "user": {
            "displayName": "muntadher alkaabi",
            "photoUrl": "https://lh3.googleusercontent.com/a-/AOh14Gj1adaCWpR-cnwQQK4viQZvo0gyRf1A0y9AkvnPMt0=s64",
            "userId": "00221067971932357642"
          },
          "user_tz": -180
        },
        "id": "on5weYPq5mQa",
        "outputId": "2897e76c-3e36-4801-80e1-eaa5e30656ea",
        "pycharm": {
          "is_executing": false
        }
      },
      "outputs": [
        {
          "data": {
            "text/plain": [
              "-3"
            ]
          },
          "execution_count": 10,
          "metadata": {
            "tags": []
          },
          "output_type": "execute_result"
        }
      ],
      "source": [
        "2 % -5  # (not so intuitive if negative numbers are involved)"
      ]
    },
    {
      "cell_type": "code",
      "execution_count": null,
      "metadata": {
        "colab": {
          "base_uri": "https://localhost:8080/"
        },
        "executionInfo": {
          "elapsed": 2518,
          "status": "ok",
          "timestamp": 1621106765134,
          "user": {
            "displayName": "muntadher alkaabi",
            "photoUrl": "https://lh3.googleusercontent.com/a-/AOh14Gj1adaCWpR-cnwQQK4viQZvo0gyRf1A0y9AkvnPMt0=s64",
            "userId": "00221067971932357642"
          },
          "user_tz": -180
        },
        "id": "mFAqQRpu5mQg",
        "outputId": "39b5e581-dd09-401e-efd8-3a49312c2892",
        "pycharm": {
          "is_executing": false
        }
      },
      "outputs": [
        {
          "data": {
            "text/plain": [
              "16"
            ]
          },
          "execution_count": 11,
          "metadata": {
            "tags": []
          },
          "output_type": "execute_result"
        }
      ],
      "source": [
        "2**4  # exponentiation"
      ]
    },
    {
      "cell_type": "markdown",
      "metadata": {
        "id": "9EeC0NMT5mQm"
      },
      "source": [
        "### Data Type of results\n",
        "\n",
        "When two numbers of different types are used in an arithmetic operation, the data type is usually what one would expect, but there are some cases where it's different than either operand. For instance, though 5 and 2 are both integers, the result of `5/2` is a `float`, and the result of `5.2//2` (integer division) is a float. "
      ]
    },
    {
      "cell_type": "markdown",
      "metadata": {
        "id": "085YrXK45mQn"
      },
      "source": [
        "### Strings\n",
        "<a id='strings'></a>\n",
        "Strings in Python (datatype `str`) can be enclosed in single (`'`) or double (`\"`) quotes. It doesn't matter which is used, but the opening and closing marks must be of the same type. The backslash `\\` is used to escape quotes in a string as well as to indicate other escape characters (e.g., `\\n` indicates a new line). Upon printing, the string is formatted appropriately. "
      ]
    },
    {
      "cell_type": "code",
      "execution_count": null,
      "metadata": {
        "colab": {
          "base_uri": "https://localhost:8080/"
        },
        "executionInfo": {
          "elapsed": 2506,
          "status": "ok",
          "timestamp": 1621106765135,
          "user": {
            "displayName": "muntadher alkaabi",
            "photoUrl": "https://lh3.googleusercontent.com/a-/AOh14Gj1adaCWpR-cnwQQK4viQZvo0gyRf1A0y9AkvnPMt0=s64",
            "userId": "00221067971932357642"
          },
          "user_tz": -180
        },
        "id": "cBcNDZT_5mQo",
        "outputId": "43840669-9a03-493c-e829-ebdd9a5d4a24",
        "pycharm": {
          "is_executing": false
        }
      },
      "outputs": [
        {
          "name": "stdout",
          "output_type": "stream",
          "text": [
            "This is a string\n",
            "this is a string containing \"quotes\"\n",
            "this is another string containing \"quotes\"\n",
            "this is string\n",
            "has two lines\n"
          ]
        }
      ],
      "source": [
        "print(\"This is a string\")\n",
        "print('this is a string containing \"quotes\"')\n",
        "print('this is another string containing \"quotes\"')\n",
        "print(\"this is string\\nhas two lines\")"
      ]
    },
    {
      "cell_type": "markdown",
      "metadata": {
        "id": "nGOg3lIX5mQt"
      },
      "source": [
        "To prevent processing of escape characters, you can use indicate a *raw* string by putting an `r` before the string. "
      ]
    },
    {
      "cell_type": "code",
      "execution_count": null,
      "metadata": {
        "colab": {
          "base_uri": "https://localhost:8080/"
        },
        "executionInfo": {
          "elapsed": 2500,
          "status": "ok",
          "timestamp": 1621106765140,
          "user": {
            "displayName": "muntadher alkaabi",
            "photoUrl": "https://lh3.googleusercontent.com/a-/AOh14Gj1adaCWpR-cnwQQK4viQZvo0gyRf1A0y9AkvnPMt0=s64",
            "userId": "00221067971932357642"
          },
          "user_tz": -180
        },
        "id": "gLeRn9c75mQu",
        "outputId": "76ce34dc-3b8a-4d86-9167-353b1b0ef048",
        "pycharm": {
          "is_executing": false
        }
      },
      "outputs": [
        {
          "name": "stdout",
          "output_type": "stream",
          "text": [
            "this is string \\n has only one line\n"
          ]
        }
      ],
      "source": [
        "print(r\"this is string \\n has only one line\")"
      ]
    },
    {
      "cell_type": "markdown",
      "metadata": {
        "id": "x0pJwehS5mQy"
      },
      "source": [
        "#### Multiline Strings\n",
        "Multiline strings can be delineated using 3 quotes. If you do not wish to include a line end in the output, you can end the line with `\\`."
      ]
    },
    {
      "cell_type": "code",
      "execution_count": null,
      "metadata": {
        "colab": {
          "base_uri": "https://localhost:8080/"
        },
        "executionInfo": {
          "elapsed": 2490,
          "status": "ok",
          "timestamp": 1621106765141,
          "user": {
            "displayName": "muntadher alkaabi",
            "photoUrl": "https://lh3.googleusercontent.com/a-/AOh14Gj1adaCWpR-cnwQQK4viQZvo0gyRf1A0y9AkvnPMt0=s64",
            "userId": "00221067971932357642"
          },
          "user_tz": -180
        },
        "id": "JSJmAq_n5mQz",
        "outputId": "f41da3df-8315-495f-d9a0-c1983ecdae12",
        "pycharm": {
          "is_executing": false
        }
      },
      "outputs": [
        {
          "name": "stdout",
          "output_type": "stream",
          "text": [
            "Line 1\n",
            "Line 2\n",
            "Line 3Line 3 continued\n"
          ]
        }
      ],
      "source": [
        "print(\n",
        "    \"\"\"Line 1\n",
        "Line 2\n",
        "Line 3\\\n",
        "Line 3 continued\"\"\"\n",
        ")"
      ]
    },
    {
      "cell_type": "markdown",
      "metadata": {
        "id": "EFg25iKI5mQ3"
      },
      "source": [
        "#### String Concatenation \n",
        "Strings can be concatenated. You must be careful when trying to concatenate other types to a string, however. They must be \n",
        "converted to strings first using `str()`. "
      ]
    },
    {
      "cell_type": "code",
      "execution_count": null,
      "metadata": {
        "colab": {
          "base_uri": "https://localhost:8080/"
        },
        "executionInfo": {
          "elapsed": 2479,
          "status": "ok",
          "timestamp": 1621106765142,
          "user": {
            "displayName": "muntadher alkaabi",
            "photoUrl": "https://lh3.googleusercontent.com/a-/AOh14Gj1adaCWpR-cnwQQK4viQZvo0gyRf1A0y9AkvnPMt0=s64",
            "userId": "00221067971932357642"
          },
          "user_tz": -180
        },
        "id": "rUTCbY-D5mQ4",
        "outputId": "ffa9783e-949b-422a-c264-7e893776b16e",
        "pycharm": {
          "is_executing": false
        }
      },
      "outputs": [
        {
          "name": "stdout",
          "output_type": "stream",
          "text": [
            "This line contains 4 components\n",
            "Here are some things converted to strings: 2.3, True, (1, 2)\n"
          ]
        }
      ],
      "source": [
        "print(\"This\" + \" line contains \" + str(4) + \" components\")\n",
        "print(\n",
        "    \"Here are some things converted to strings: \"\n",
        "    + str(2.3)\n",
        "    + \", \"\n",
        "    + str(True)\n",
        "    + \", \"\n",
        "    + str((1, 2))\n",
        ")"
      ]
    },
    {
      "cell_type": "markdown",
      "metadata": {
        "id": "59xM_wtn5mQ8"
      },
      "source": [
        "`print` can take an arbitrary number of arguments. Leveraging this eliminates the need to explicitly convert data values to strings (because we're no longer attempting to concatenate strings)."
      ]
    },
    {
      "cell_type": "code",
      "execution_count": null,
      "metadata": {
        "colab": {
          "base_uri": "https://localhost:8080/"
        },
        "executionInfo": {
          "elapsed": 2473,
          "status": "ok",
          "timestamp": 1621106765143,
          "user": {
            "displayName": "muntadher alkaabi",
            "photoUrl": "https://lh3.googleusercontent.com/a-/AOh14Gj1adaCWpR-cnwQQK4viQZvo0gyRf1A0y9AkvnPMt0=s64",
            "userId": "00221067971932357642"
          },
          "user_tz": -180
        },
        "id": "RtMCkSM35mQ9",
        "outputId": "4e922a9d-3a61-410f-e6ce-5e1d8a60821b",
        "pycharm": {
          "is_executing": false
        }
      },
      "outputs": [
        {
          "name": "stdout",
          "output_type": "stream",
          "text": [
            "This line contains 4 components\n",
            "Here are some things converted to strings: 2.3 , True , (1, 2)\n"
          ]
        }
      ],
      "source": [
        "print(\"This\", \"line contains\", 4, \"components\")\n",
        "print(\"Here are some things converted to strings:\", 2.3, \",\", True, \",\", (1, 2))"
      ]
    },
    {
      "cell_type": "markdown",
      "metadata": {
        "id": "hKx6NZhE5mRB"
      },
      "source": [
        "Note, however, that `print` will by default insert a space between elements. If you wish to change the separator between items (e.g., to `,`) , add `sep=\",\"` as an argument. "
      ]
    },
    {
      "cell_type": "code",
      "execution_count": null,
      "metadata": {
        "colab": {
          "base_uri": "https://localhost:8080/"
        },
        "executionInfo": {
          "elapsed": 2467,
          "status": "ok",
          "timestamp": 1621106765144,
          "user": {
            "displayName": "muntadher alkaabi",
            "photoUrl": "https://lh3.googleusercontent.com/a-/AOh14Gj1adaCWpR-cnwQQK4viQZvo0gyRf1A0y9AkvnPMt0=s64",
            "userId": "00221067971932357642"
          },
          "user_tz": -180
        },
        "id": "CK3MnJ_k5mRB",
        "outputId": "4d9326f5-5a9b-4a60-908a-7f27c642c797",
        "pycharm": {
          "is_executing": false
        }
      },
      "outputs": [
        {
          "name": "stdout",
          "output_type": "stream",
          "text": [
            "This---line contains---4---components\n",
            "Here are some things converted to strings:---2.3---,---True---,---(1, 2)\n"
          ]
        }
      ],
      "source": [
        "print(\"This\", \"line contains\", 4, \"components\", sep=\"---\")\n",
        "print(\n",
        "    \"Here are some things converted to strings:\", 2.3, \",\", True, \",\", (1, 2), sep=\"---\"\n",
        ")"
      ]
    },
    {
      "cell_type": "markdown",
      "metadata": {
        "id": "f47-8VYu5mRG"
      },
      "source": [
        "You can also create a string from another string by *multiplying* it with a number"
      ]
    },
    {
      "cell_type": "code",
      "execution_count": null,
      "metadata": {
        "colab": {
          "base_uri": "https://localhost:8080/"
        },
        "executionInfo": {
          "elapsed": 2460,
          "status": "ok",
          "timestamp": 1621106765144,
          "user": {
            "displayName": "muntadher alkaabi",
            "photoUrl": "https://lh3.googleusercontent.com/a-/AOh14Gj1adaCWpR-cnwQQK4viQZvo0gyRf1A0y9AkvnPMt0=s64",
            "userId": "00221067971932357642"
          },
          "user_tz": -180
        },
        "id": "zrtiQnD45mRG",
        "outputId": "dd02c0a9-f676-4ebc-b012-09b202a9aca0",
        "pycharm": {
          "is_executing": false
        }
      },
      "outputs": [
        {
          "name": "stdout",
          "output_type": "stream",
          "text": [
            "abbaabbaabba\n"
          ]
        }
      ],
      "source": [
        "word1 = \"abba\"\n",
        "word2 = 3 * word1\n",
        "print(word2)"
      ]
    },
    {
      "cell_type": "markdown",
      "metadata": {
        "id": "R1fkdiDo5mRL"
      },
      "source": [
        "Also, if multiple **string literals** (as opposed to variables or string expressions) appear consecutively, they will be combined into one string.  "
      ]
    },
    {
      "cell_type": "code",
      "execution_count": null,
      "metadata": {
        "colab": {
          "base_uri": "https://localhost:8080/"
        },
        "executionInfo": {
          "elapsed": 2454,
          "status": "ok",
          "timestamp": 1621106765145,
          "user": {
            "displayName": "muntadher alkaabi",
            "photoUrl": "https://lh3.googleusercontent.com/a-/AOh14Gj1adaCWpR-cnwQQK4viQZvo0gyRf1A0y9AkvnPMt0=s64",
            "userId": "00221067971932357642"
          },
          "user_tz": -180
        },
        "id": "m-iFgnrj5mRL",
        "outputId": "026db47d-d67b-4e88-dc64-1cf53a1b242e",
        "pycharm": {
          "is_executing": false
        }
      },
      "outputs": [
        {
          "name": "stdout",
          "output_type": "stream",
          "text": [
            "this is the way the world ends.\n",
            "<class 'str'>\n",
            "('this ', 'is ', 'the ', 'way ', 'the ', 'world ', 'ends.')\n",
            "<class 'tuple'>\n"
          ]
        }
      ],
      "source": [
        "a = \"this \" \"is \" \"the \" \"way \" \"the \" \"world \" \"ends.\"\n",
        "print(a)\n",
        "print(type(a))\n",
        "a = \"this \", \"is \", \"the \", \"way \", \"the \", \"world \", \"ends.\"\n",
        "print(a)\n",
        "print(type(a))"
      ]
    },
    {
      "cell_type": "markdown",
      "metadata": {
        "id": "R458fAKX5mRQ"
      },
      "source": [
        "#### Substrings: Indexing and Slicing\n",
        "\n",
        "A character of a string can be extracted using an index (starting at 0), and a substring can be extracted using **slices**. Slices indicate a range of indexes. The notation is similar to that used for arrays in other languages.\n",
        "\n",
        "It also happens that indexing from the right (staring at -1) is possible. "
      ]
    },
    {
      "cell_type": "code",
      "execution_count": null,
      "metadata": {
        "colab": {
          "base_uri": "https://localhost:8080/"
        },
        "executionInfo": {
          "elapsed": 2449,
          "status": "ok",
          "timestamp": 1621106765146,
          "user": {
            "displayName": "muntadher alkaabi",
            "photoUrl": "https://lh3.googleusercontent.com/a-/AOh14Gj1adaCWpR-cnwQQK4viQZvo0gyRf1A0y9AkvnPMt0=s64",
            "userId": "00221067971932357642"
          },
          "user_tz": -180
        },
        "id": "gKf3Zxlp5mRQ",
        "outputId": "11a7af61-746e-4e2a-9350-044124af8607",
        "pycharm": {
          "is_executing": false
        }
      },
      "outputs": [
        {
          "name": "stdout",
          "output_type": "stream",
          "text": [
            "w\n",
            "this\n",
            "is the way the world ends.\n",
            "this\n",
            ".\n",
            "ends\n",
            "ends.\n"
          ]
        }
      ],
      "source": [
        "string1 = \"this is the way the world ends.\"\n",
        "print(string1[12])  # the substring at index 12 (1 character).\n",
        "print(string1[0:4])  # from the start of the string to index 4 (but 4 is excluded).\n",
        "print(string1[5:])  # from index 5 to the end of the string.\n",
        "print(string1[:4])  # from the start of the string to index 4 (4 is excluded).\n",
        "print(string1[-1])  # The last character of the string.\n",
        "print(string1[-5:-1])  # from index -5 to -1 (but excluding -1).\n",
        "print(string1[-5:])  # from index -5 to the end of the string."
      ]
    },
    {
      "cell_type": "markdown",
      "metadata": {
        "id": "rqdIy7sd5mRX"
      },
      "source": [
        "**NOTE**: Strings are **immutable**. We cannot reassign a character or sequence in a string as we might assign values to an array in some other programming languages. When the below code is executed, an exception (error) will be raised. "
      ]
    },
    {
      "cell_type": "code",
      "execution_count": null,
      "metadata": {
        "id": "aDs9bxzX5mRY",
        "pycharm": {
          "is_executing": false
        }
      },
      "outputs": [],
      "source": [
        "a = \"abc\""
      ]
    },
    {
      "cell_type": "code",
      "execution_count": null,
      "metadata": {
        "colab": {
          "base_uri": "https://localhost:8080/",
          "height": 162
        },
        "executionInfo": {
          "elapsed": 2895,
          "status": "error",
          "timestamp": 1621106765605,
          "user": {
            "displayName": "muntadher alkaabi",
            "photoUrl": "https://lh3.googleusercontent.com/a-/AOh14Gj1adaCWpR-cnwQQK4viQZvo0gyRf1A0y9AkvnPMt0=s64",
            "userId": "00221067971932357642"
          },
          "user_tz": -180
        },
        "id": "hiOzpINo5mRb",
        "outputId": "72baaa87-c8cf-4c99-ff9e-aed565fd3b16",
        "pycharm": {
          "is_executing": false
        }
      },
      "outputs": [
        {
          "ename": "TypeError",
          "evalue": "ignored",
          "output_type": "error",
          "traceback": [
            "\u001b[0;31m---------------------------------------------------------------------------\u001b[0m",
            "\u001b[0;31mTypeError\u001b[0m                                 Traceback (most recent call last)",
            "\u001b[0;32m<ipython-input-22-4da7dae318af>\u001b[0m in \u001b[0;36m<module>\u001b[0;34m()\u001b[0m\n\u001b[0;32m----> 1\u001b[0;31m \u001b[0ma\u001b[0m\u001b[0;34m[\u001b[0m\u001b[0;36m0\u001b[0m\u001b[0;34m]\u001b[0m \u001b[0;34m=\u001b[0m \u001b[0;34m\"b\"\u001b[0m \u001b[0;31m# this will raise an exception.\u001b[0m\u001b[0;34m\u001b[0m\u001b[0;34m\u001b[0m\u001b[0m\n\u001b[0m",
            "\u001b[0;31mTypeError\u001b[0m: 'str' object does not support item assignment"
          ]
        }
      ],
      "source": [
        "a[0] = \"b\"  # this will raise an exception."
      ]
    },
    {
      "cell_type": "markdown",
      "metadata": {
        "id": "IPJ2uPbp5mRf"
      },
      "source": [
        "#### Splitting and Joining Strings\n",
        "\n",
        "It's often the case that we want to split strings into multiple substrings, e.g., when reading a comma-delimited list of values. The `split` method of a string does just that. It retuns a list object (lists are covered later). \n",
        "\n",
        "To combine strings using a delimeter (e.g., to create a comma-delimited list), we can use `join`. "
      ]
    },
    {
      "cell_type": "code",
      "execution_count": null,
      "metadata": {
        "colab": {
          "base_uri": "https://localhost:8080/"
        },
        "executionInfo": {
          "elapsed": 779,
          "status": "ok",
          "timestamp": 1621106786814,
          "user": {
            "displayName": "muntadher alkaabi",
            "photoUrl": "https://lh3.googleusercontent.com/a-/AOh14Gj1adaCWpR-cnwQQK4viQZvo0gyRf1A0y9AkvnPMt0=s64",
            "userId": "00221067971932357642"
          },
          "user_tz": -180
        },
        "id": "2oNgBBMi5mRg",
        "outputId": "390df685-1da3-47a2-a430-618aa7446f1f",
        "pycharm": {
          "is_executing": false
        }
      },
      "outputs": [
        {
          "name": "stdout",
          "output_type": "stream",
          "text": [
            "['The', 'quick', 'brown', 'fox', 'jumped', 'over', 'the', 'lazy', 'dog']\n",
            "The,quick,brown,fox,jumped,over,the,lazy,dog\n",
            "['The', 'quick', 'brown', 'fox', 'jumped', 'over', 'the', 'lazy', 'dog']\n",
            "The-quick-brown-fox-jumped-over-the-lazy-dog\n"
          ]
        }
      ],
      "source": [
        "text = \"The quick brown fox jumped over the lazy dog\"\n",
        "spl = text.split()  # This returns a list of strings (lists are covered later)\n",
        "print(spl)\n",
        "joined = \",\".join(spl)\n",
        "print(joined)  # and this re-joins them, separating words with commas\n",
        "spl = joined.split(\",\")  # and this re-splits them, again based on commas\n",
        "print(spl)\n",
        "joined = \"-\".join(spl)  # and this re-joins them, separating words with dashes\n",
        "print(joined)"
      ]
    },
    {
      "cell_type": "markdown",
      "metadata": {
        "id": "6ZE6Ecsi5mRj"
      },
      "source": [
        "Similarly, to split a multiline string into a list of lines (each a string), we can use `splitlines`. "
      ]
    },
    {
      "cell_type": "code",
      "execution_count": null,
      "metadata": {
        "colab": {
          "base_uri": "https://localhost:8080/"
        },
        "executionInfo": {
          "elapsed": 552,
          "status": "ok",
          "timestamp": 1621106787313,
          "user": {
            "displayName": "muntadher alkaabi",
            "photoUrl": "https://lh3.googleusercontent.com/a-/AOh14Gj1adaCWpR-cnwQQK4viQZvo0gyRf1A0y9AkvnPMt0=s64",
            "userId": "00221067971932357642"
          },
          "user_tz": -180
        },
        "id": "Y7lMLwRn5mRj",
        "outputId": "e0789b3f-fd38-4893-b4e0-ed744925f03a",
        "pycharm": {
          "is_executing": false
        }
      },
      "outputs": [
        {
          "name": "stdout",
          "output_type": "stream",
          "text": [
            "['one', 'two', 'three']\n"
          ]
        }
      ],
      "source": [
        "lines = \"\"\"one\n",
        "two\n",
        "three\"\"\"\n",
        "li = lines.splitlines()\n",
        "print(li)"
      ]
    },
    {
      "cell_type": "markdown",
      "metadata": {
        "id": "lbmPxz1Y5mRm"
      },
      "source": [
        "To join strings into multiple lines, we can again use `join`. "
      ]
    },
    {
      "cell_type": "code",
      "execution_count": null,
      "metadata": {
        "colab": {
          "base_uri": "https://localhost:8080/"
        },
        "executionInfo": {
          "elapsed": 703,
          "status": "ok",
          "timestamp": 1621106788314,
          "user": {
            "displayName": "muntadher alkaabi",
            "photoUrl": "https://lh3.googleusercontent.com/a-/AOh14Gj1adaCWpR-cnwQQK4viQZvo0gyRf1A0y9AkvnPMt0=s64",
            "userId": "00221067971932357642"
          },
          "user_tz": -180
        },
        "id": "_OyseUqx5mRn",
        "outputId": "9585ce82-b07a-4554-f919-072477271fbe",
        "pycharm": {
          "is_executing": false
        }
      },
      "outputs": [
        {
          "name": "stdout",
          "output_type": "stream",
          "text": [
            "one\n",
            "two\n",
            "three\n"
          ]
        }
      ],
      "source": [
        "lines = [\"one\", \"two\", \"three\"]\n",
        "data = \"\\n\".join(lines)\n",
        "print(data)"
      ]
    },
    {
      "cell_type": "markdown",
      "metadata": {
        "id": "Y-ctZsPD5mRr"
      },
      "source": [
        "<a id='boolean'></a>\n",
        "### Boolean Values, and None\n",
        "\n",
        "Python has two Boolean values, `True` and `False`. The normal logical operations (`and`, `or`, `not`) are present. "
      ]
    },
    {
      "cell_type": "code",
      "execution_count": null,
      "metadata": {
        "colab": {
          "base_uri": "https://localhost:8080/"
        },
        "executionInfo": {
          "elapsed": 916,
          "status": "ok",
          "timestamp": 1621106789324,
          "user": {
            "displayName": "muntadher alkaabi",
            "photoUrl": "https://lh3.googleusercontent.com/a-/AOh14Gj1adaCWpR-cnwQQK4viQZvo0gyRf1A0y9AkvnPMt0=s64",
            "userId": "00221067971932357642"
          },
          "user_tz": -180
        },
        "id": "sO_e9UBP5mRr",
        "outputId": "e15bc4d4-2d42-4ced-b649-9d1fda00187f",
        "pycharm": {
          "is_executing": false
        }
      },
      "outputs": [
        {
          "name": "stdout",
          "output_type": "stream",
          "text": [
            "False\n",
            "True\n",
            "False\n"
          ]
        }
      ],
      "source": [
        "print(True and False)\n",
        "print(True or False)\n",
        "print(not True)"
      ]
    },
    {
      "cell_type": "markdown",
      "metadata": {
        "id": "AeUtrc6E5mRv"
      },
      "source": [
        "There is also the value `None` (the only value of the `NoneType` data type). `None` is used to stand for the absence of a value. However, it can be used in place of False, as can zero numerical values (of any numerical type), empty sequences/collections (`[]`,`()`, `{}`, etc.).  \n",
        "\n",
        "Other values are treated as `True`. Note that Boolean expressions are short-circuited. As soon as the interpreter knows enough to compute the appropriate Boolean value of the expression, it stops further evaluation. Also, the retun value of the Boolean expression need not be a Boolean value, as indicated below. The value of the last item evaluated is returned. "
      ]
    },
    {
      "cell_type": "code",
      "execution_count": null,
      "metadata": {
        "colab": {
          "base_uri": "https://localhost:8080/"
        },
        "executionInfo": {
          "elapsed": 592,
          "status": "ok",
          "timestamp": 1621106789792,
          "user": {
            "displayName": "muntadher alkaabi",
            "photoUrl": "https://lh3.googleusercontent.com/a-/AOh14Gj1adaCWpR-cnwQQK4viQZvo0gyRf1A0y9AkvnPMt0=s64",
            "userId": "00221067971932357642"
          },
          "user_tz": -180
        },
        "id": "-oRQuUp-5mRv",
        "outputId": "2ba15bbf-b508-4d5e-eb24-1809bb2ad880",
        "pycharm": {
          "is_executing": false
        }
      },
      "outputs": [
        {
          "name": "stdout",
          "output_type": "stream",
          "text": [
            "True\n",
            "66\n",
            "aa\n",
            "False\n",
            "True\n",
            "True\n",
            "()\n"
          ]
        }
      ],
      "source": [
        "print(1 and True)\n",
        "print(True and 66)\n",
        "print(True and \"aa\")\n",
        "print(False and \"aa\")\n",
        "print(True or {})\n",
        "print(not [])\n",
        "print(True and ())"
      ]
    },
    {
      "cell_type": "markdown",
      "metadata": {
        "id": "BvkHes5x5mRx"
      },
      "source": [
        "<a id='comparisons'></a>\n",
        "#### Boolean Comparisons"
      ]
    },
    {
      "cell_type": "markdown",
      "metadata": {
        "id": "xci_UG7I5mRz"
      },
      "source": [
        "There are 8 basic comparison operations in Python.\n",
        "\n",
        "\n",
        "|  Symbol | Note | \n",
        "| --- | --- |\n",
        "| `<` |  less than | \n",
        "| `<=` | less than or equal to | \n",
        "| `>` | greater than | \n",
        "| `>=` | greater than or equal to | \n",
        "| `==` | equal to | \n",
        "| `!=` | not equal to | \n",
        "| `is` | identical to (for objects) | \n",
        "| `is not` | not identical to (for objects) | \n",
        "\n",
        "\n",
        "Regarding the first 6, these will work as expected for numerical values. Note, however, that they can be applied to other datatypes as well. Strings are compared on a character-by-character basis, based on a lexicographic ordering. Sequences such as lists are compared on an element by element basis."
      ]
    },
    {
      "cell_type": "code",
      "execution_count": null,
      "metadata": {
        "colab": {
          "base_uri": "https://localhost:8080/"
        },
        "executionInfo": {
          "elapsed": 750,
          "status": "ok",
          "timestamp": 1621106791456,
          "user": {
            "displayName": "muntadher alkaabi",
            "photoUrl": "https://lh3.googleusercontent.com/a-/AOh14Gj1adaCWpR-cnwQQK4viQZvo0gyRf1A0y9AkvnPMt0=s64",
            "userId": "00221067971932357642"
          },
          "user_tz": -180
        },
        "id": "27NTwjrZ5mRz",
        "outputId": "68fe3f7a-af7e-482e-bca0-b5165ead4888",
        "pycharm": {
          "is_executing": false
        }
      },
      "outputs": [
        {
          "name": "stdout",
          "output_type": "stream",
          "text": [
            "False\n",
            "False\n",
            "True\n",
            "True\n"
          ]
        }
      ],
      "source": [
        "print(\"abc\" > \"ac\")\n",
        "print(\"a\" < \"1\")\n",
        "print(\"A\" < \"a\")\n",
        "print((1, 1, 2) < (1, 1, 3))"
      ]
    },
    {
      "cell_type": "markdown",
      "metadata": {
        "id": "Ha1WJefw5mR2"
      },
      "source": [
        "Note that `is` is true only if the two items compared are the *same* object, whereas `==` only checks for eqaulity in a weaker sense. Below, the elements of the two lists `x` and `y` have elements that evaluate as being equal, but the two lists are nevertheless distinct in memory. As such, the first `print` statement should yield `True`, while the second should yield `False`."
      ]
    },
    {
      "cell_type": "code",
      "execution_count": null,
      "metadata": {
        "colab": {
          "base_uri": "https://localhost:8080/"
        },
        "executionInfo": {
          "elapsed": 928,
          "status": "ok",
          "timestamp": 1621106792592,
          "user": {
            "displayName": "muntadher alkaabi",
            "photoUrl": "https://lh3.googleusercontent.com/a-/AOh14Gj1adaCWpR-cnwQQK4viQZvo0gyRf1A0y9AkvnPMt0=s64",
            "userId": "00221067971932357642"
          },
          "user_tz": -180
        },
        "id": "jDpzoBIR5mR2",
        "outputId": "a45ac2af-c032-48da-d9bf-fefa564176fa",
        "pycharm": {
          "is_executing": false
        }
      },
      "outputs": [
        {
          "name": "stdout",
          "output_type": "stream",
          "text": [
            "True\n",
            "False\n"
          ]
        }
      ],
      "source": [
        "x = (1, 1, 2)\n",
        "y = (1, 1, 2)\n",
        "print(x == y)\n",
        "print(x is y)"
      ]
    },
    {
      "cell_type": "code",
      "execution_count": null,
      "metadata": {
        "colab": {
          "base_uri": "https://localhost:8080/"
        },
        "executionInfo": {
          "elapsed": 1047,
          "status": "ok",
          "timestamp": 1621106793148,
          "user": {
            "displayName": "muntadher alkaabi",
            "photoUrl": "https://lh3.googleusercontent.com/a-/AOh14Gj1adaCWpR-cnwQQK4viQZvo0gyRf1A0y9AkvnPMt0=s64",
            "userId": "00221067971932357642"
          },
          "user_tz": -180
        },
        "id": "fD8yRl0c5mR7",
        "outputId": "059f045a-7c15-4efc-d110-9bdf8093c71e",
        "pycharm": {
          "is_executing": false
        }
      },
      "outputs": [
        {
          "name": "stdout",
          "output_type": "stream",
          "text": [
            "hello\n",
            "hello\n",
            "hello\n",
            "x==y:  True\n",
            "x==z:  True\n",
            "x is y:  True\n",
            "x is z:  False\n",
            "x is w:  True\n"
          ]
        }
      ],
      "source": [
        "x = \"hello\"\n",
        "y = x\n",
        "a = \"hel\"\n",
        "b = \"lo\"\n",
        "z = a + b\n",
        "w = x[:]\n",
        "print(x)\n",
        "print(y)\n",
        "print(z)\n",
        "print(\"x==y: \", x == y)\n",
        "print(\"x==z: \", x == z)\n",
        "print(\"x is y: \", x is y)\n",
        "print(\"x is z: \", x is z)\n",
        "print(\"x is w: \", x is w)"
      ]
    },
    {
      "cell_type": "markdown",
      "metadata": {
        "id": "C4o8c6fY5mR-"
      },
      "source": [
        "### The `id()` function\n",
        "\n",
        "The `id()` function can be used to identify an object in memory. It returns an integer value that is guaranteed to uniquely identify an object for the duration of its existence. "
      ]
    },
    {
      "cell_type": "code",
      "execution_count": null,
      "metadata": {
        "colab": {
          "base_uri": "https://localhost:8080/"
        },
        "executionInfo": {
          "elapsed": 1031,
          "status": "ok",
          "timestamp": 1621106793951,
          "user": {
            "displayName": "muntadher alkaabi",
            "photoUrl": "https://lh3.googleusercontent.com/a-/AOh14Gj1adaCWpR-cnwQQK4viQZvo0gyRf1A0y9AkvnPMt0=s64",
            "userId": "00221067971932357642"
          },
          "user_tz": -180
        },
        "id": "mB5Mhnep5mR-",
        "outputId": "55f0ba33-e03c-4b96-f9c2-630254cc89c9",
        "pycharm": {
          "is_executing": false
        }
      },
      "outputs": [
        {
          "name": "stdout",
          "output_type": "stream",
          "text": [
            "id(x):  140539018862384\n",
            "id(y):  140539018862384\n",
            "id(z):  140538951488880\n",
            "id(w):  140539018862384\n"
          ]
        }
      ],
      "source": [
        "print(\"id(x): \", id(x))\n",
        "print(\"id(y): \", id(y))\n",
        "print(\"id(z): \", id(z))\n",
        "print(\"id(w): \", id(w))"
      ]
    },
    {
      "cell_type": "markdown",
      "metadata": {
        "id": "7gc7lEz45mSA"
      },
      "source": [
        "<a id=\"conversions\"></a>\n",
        "### Converting between Types\n",
        "\n",
        "Values of certain data types can be converted to values of other datatypes (actually, a new value of the desired data type is produced). If the conversion cannot take place (becuase the datatypes are incompatible), an exception will be raised."
      ]
    },
    {
      "cell_type": "code",
      "execution_count": null,
      "metadata": {
        "colab": {
          "base_uri": "https://localhost:8080/"
        },
        "executionInfo": {
          "elapsed": 473,
          "status": "ok",
          "timestamp": 1621106794364,
          "user": {
            "displayName": "muntadher alkaabi",
            "photoUrl": "https://lh3.googleusercontent.com/a-/AOh14Gj1adaCWpR-cnwQQK4viQZvo0gyRf1A0y9AkvnPMt0=s64",
            "userId": "00221067971932357642"
          },
          "user_tz": -180
        },
        "id": "qdRO7ryn5mSB",
        "outputId": "9ae46061-29bf-4959-830b-21723a7abe27",
        "pycharm": {
          "is_executing": false
        }
      },
      "outputs": [
        {
          "name": "stdout",
          "output_type": "stream",
          "text": [
            "1\n",
            "1\n",
            "1.0\n",
            "(1+0j)\n",
            "1.0\n",
            "93926537898496\n",
            "140538951529264\n",
            "93926537898496\n",
            "140538952028656\n",
            "140538952028464\n",
            "93926537898496\n"
          ]
        }
      ],
      "source": [
        "x = 1\n",
        "s = str(x)  # convert x to a string\n",
        "s_int = int(s)\n",
        "s_float = float(s)\n",
        "s_comp = complex(s)\n",
        "x_float = float(x)\n",
        "\n",
        "print(s)\n",
        "print(s_int)  # convert to an integer\n",
        "print(s_float)  # convert to a floating point number\n",
        "print(s_comp)  # convert to a complext number\n",
        "print(x_float)\n",
        "\n",
        "# Let's check their IDs\n",
        "print(id(x))\n",
        "print(id(s))\n",
        "print(id(s_int))\n",
        "print(id(s_float))\n",
        "print(id(x_float))\n",
        "print(id(int(x_float)))"
      ]
    },
    {
      "cell_type": "markdown",
      "metadata": {
        "id": "k5Z8nEadkb9d"
      },
      "source": [
        "## Lists,Tuples, Sets, and Dictionaries\n",
        "\n",
        "\n",
        "<h2 id=\"tocheading\">Table of Contents</h2>\n",
        "<div id=\"toc\"></div>"
      ]
    },
    {
      "cell_type": "markdown",
      "metadata": {
        "id": "wcSsrn1Ckb9e"
      },
      "source": [
        "<a id='lists'></a>\n",
        "### Lists \n",
        "\n",
        "Many languages (e.g., Java) have what are often called **arrays**. In Python the object most like them are called **lists**. Like arrays in other languages, Python lists are represented syntactically using `[...]` blocks. Their elements can be referenced via indexes, and just like arrays in other languages, Python lists are **mutable** objects. That is, it is possible to change the value of an individual cell in a list.  In this way, Python lists are unlike Python strings (which are immutable). "
      ]
    },
    {
      "cell_type": "code",
      "execution_count": null,
      "metadata": {
        "colab": {
          "base_uri": "https://localhost:8080/"
        },
        "executionInfo": {
          "elapsed": 571,
          "status": "ok",
          "timestamp": 1621106795879,
          "user": {
            "displayName": "muntadher alkaabi",
            "photoUrl": "https://lh3.googleusercontent.com/a-/AOh14Gj1adaCWpR-cnwQQK4viQZvo0gyRf1A0y9AkvnPMt0=s64",
            "userId": "00221067971932357642"
          },
          "user_tz": -180
        },
        "id": "qpnmbfIdkb9f",
        "outputId": "eb510433-9e1c-4f18-8b61-9ab9d385f3de"
      },
      "outputs": [
        {
          "name": "stdout",
          "output_type": "stream",
          "text": [
            "[0, 1, 2, 3]\n",
            "[3, 1, 2, 3]\n",
            "[3, 4, 5, 3]\n"
          ]
        }
      ],
      "source": [
        "a = [0, 1, 2, 3]  #  a list of integers\n",
        "print(a)\n",
        "a[0] = 3  # overwrite the first element of the list\n",
        "print(a)\n",
        "a[1:3] = [4, 5]\n",
        "# overwrite the last two elements of the list (using values from a new list)\n",
        "print(a)"
      ]
    },
    {
      "cell_type": "markdown",
      "metadata": {
        "id": "o2purc_jkb9f"
      },
      "source": [
        "Note that some operations on lists return other lists. "
      ]
    },
    {
      "cell_type": "code",
      "execution_count": null,
      "metadata": {
        "colab": {
          "base_uri": "https://localhost:8080/"
        },
        "executionInfo": {
          "elapsed": 932,
          "status": "ok",
          "timestamp": 1621106797270,
          "user": {
            "displayName": "muntadher alkaabi",
            "photoUrl": "https://lh3.googleusercontent.com/a-/AOh14Gj1adaCWpR-cnwQQK4viQZvo0gyRf1A0y9AkvnPMt0=s64",
            "userId": "00221067971932357642"
          },
          "user_tz": -180
        },
        "id": "dICizTkNkb9g",
        "outputId": "ab3dbe5d-b52c-424f-fe5d-434d509acc97"
      },
      "outputs": [
        {
          "name": "stdout",
          "output_type": "stream",
          "text": [
            "[1, 2, 3]\n",
            "[4, 5, 6]\n",
            "[1, 2, 3, 4, 5, 6]\n",
            "-------------------------\n",
            "[1, 2, 3]\n",
            "[40, 5, 6]\n",
            "[10, 2, 3, 4, 5, 6]\n"
          ]
        }
      ],
      "source": [
        "a = [1, 2, 3]\n",
        "b = [4, 5, 6]\n",
        "c = a + b\n",
        "print(a)\n",
        "print(b)\n",
        "print(c)\n",
        "print(\"-\" * 25)\n",
        "c[0] = 10\n",
        "b[0] = 40\n",
        "print(a)\n",
        "print(b)\n",
        "print(c)"
      ]
    },
    {
      "cell_type": "markdown",
      "metadata": {
        "id": "9eWWXkVfkb9g"
      },
      "source": [
        "Above, `c` is a new list containing elements copied from `a` and `b`. Subsequent changes to `a` or `b` do not affect `c`, and changes to `c` do not affect `a` or `b`. \n",
        "\n",
        "The length of a list can be obtained using `len()`, and a single element can be added to a list using `append()`. Note the syntax used for each. "
      ]
    },
    {
      "cell_type": "code",
      "execution_count": null,
      "metadata": {
        "colab": {
          "base_uri": "https://localhost:8080/"
        },
        "executionInfo": {
          "elapsed": 1964,
          "status": "ok",
          "timestamp": 1621106799645,
          "user": {
            "displayName": "muntadher alkaabi",
            "photoUrl": "https://lh3.googleusercontent.com/a-/AOh14Gj1adaCWpR-cnwQQK4viQZvo0gyRf1A0y9AkvnPMt0=s64",
            "userId": "00221067971932357642"
          },
          "user_tz": -180
        },
        "id": "dmbAQjgpkb9g",
        "outputId": "b665ce37-8bce-4241-c63f-cf459c8c7f9e"
      },
      "outputs": [
        {
          "name": "stdout",
          "output_type": "stream",
          "text": [
            "[1, 2, [3, 4]]\n",
            "length of 'a':  3\n"
          ]
        }
      ],
      "source": [
        "a = []\n",
        "a.append(1)  # add an element to the end of the list.\n",
        "a.append(2)\n",
        "a.append([3, 4])\n",
        "print(a)\n",
        "print(\"length of 'a': \", len(a))"
      ]
    },
    {
      "cell_type": "markdown",
      "metadata": {
        "id": "3_orbl3hkb9h"
      },
      "source": [
        "Some additional list operations are shown below. Pay careful attention to how `a` and `b` are related."
      ]
    },
    {
      "cell_type": "code",
      "execution_count": null,
      "metadata": {
        "colab": {
          "base_uri": "https://localhost:8080/"
        },
        "executionInfo": {
          "elapsed": 568,
          "status": "ok",
          "timestamp": 1621106800161,
          "user": {
            "displayName": "muntadher alkaabi",
            "photoUrl": "https://lh3.googleusercontent.com/a-/AOh14Gj1adaCWpR-cnwQQK4viQZvo0gyRf1A0y9AkvnPMt0=s64",
            "userId": "00221067971932357642"
          },
          "user_tz": -180
        },
        "id": "x9D0_q3ikb9h",
        "outputId": "dad0c16e-fc32-4a8e-c54e-1f1d5cda1c7e"
      },
      "outputs": [
        {
          "name": "stdout",
          "output_type": "stream",
          "text": [
            "a: [20, 11, 12]\n",
            "b: [20, 11, 12]\n",
            "c: [30, 11, 12]\n"
          ]
        }
      ],
      "source": [
        "a = [10]\n",
        "a.extend([11, 12])  # append elements of one list to the end of another one.\n",
        "b = a\n",
        "c = a.copy()  # copy the elements of a to a new list, and then assign it to c.\n",
        "b[0] = 20\n",
        "c[0] = 30\n",
        "print(\"a:\", a)\n",
        "print(\"b:\", b)\n",
        "print(\"c:\", c)"
      ]
    },
    {
      "cell_type": "code",
      "execution_count": null,
      "metadata": {
        "colab": {
          "base_uri": "https://localhost:8080/"
        },
        "executionInfo": {
          "elapsed": 745,
          "status": "ok",
          "timestamp": 1621106801753,
          "user": {
            "displayName": "muntadher alkaabi",
            "photoUrl": "https://lh3.googleusercontent.com/a-/AOh14Gj1adaCWpR-cnwQQK4viQZvo0gyRf1A0y9AkvnPMt0=s64",
            "userId": "00221067971932357642"
          },
          "user_tz": -180
        },
        "id": "Hkxo12APkb9i",
        "outputId": "6b8020f8-5318-4469-f2eb-34bef02bc2db"
      },
      "outputs": [
        {
          "name": "stdout",
          "output_type": "stream",
          "text": [
            "a reversed: [12, 11, 20]\n",
            "a sorted: [11, 12, 20]\n",
            "b is  []  having length  0\n"
          ]
        }
      ],
      "source": [
        "b.reverse()  # reverse the elements of the list in place.\n",
        "print(\"a reversed:\", a)\n",
        "b.sort()\n",
        "print(\"a sorted:\", a)\n",
        "a.clear()  # empty the list\n",
        "print(\"b is \", b, \" having length \", len(b))"
      ]
    },
    {
      "cell_type": "code",
      "execution_count": null,
      "metadata": {
        "colab": {
          "base_uri": "https://localhost:8080/"
        },
        "executionInfo": {
          "elapsed": 651,
          "status": "ok",
          "timestamp": 1621106802169,
          "user": {
            "displayName": "muntadher alkaabi",
            "photoUrl": "https://lh3.googleusercontent.com/a-/AOh14Gj1adaCWpR-cnwQQK4viQZvo0gyRf1A0y9AkvnPMt0=s64",
            "userId": "00221067971932357642"
          },
          "user_tz": -180
        },
        "id": "EdwHnx1Nkb9j",
        "outputId": "dcc118c5-5dc7-4c24-8539-91e0924ab296"
      },
      "outputs": [
        {
          "name": "stdout",
          "output_type": "stream",
          "text": [
            "['a', 'b', 'c', 'd', 'e']\n",
            "popped:  e ['a', 'b', 'c', 'd']\n",
            "new list, sorted: ['a', 'b', 'b', 'c', 'd', 'd', 'd']\n",
            "count of 'd':  3\n",
            "first index of 'd':  4\n",
            "['a', 'b', 'b', 'c', 'd', 'd', 'd']\n",
            "ele at index 2 removed: ['a', 'b', 'c', 'd', 'd', 'd']\n",
            "elements at index 2-4 removed: ['a', 'b', 'd', 'd']\n"
          ]
        }
      ],
      "source": [
        "list1 = [\"a\", \"b\", \"d\", \"e\"]\n",
        "list1.insert(2, \"c\")  # insert element \"c\" at position 2, increasing the length by 1.\n",
        "print(list1)\n",
        "e = list1.pop()  # remove the last element of the list.\n",
        "print(\"popped: \", e, list1)\n",
        "list1 = [\"d\", \"b\", \"b\", \"c\", \"d\", \"d\", \"a\"]\n",
        "list1.sort()  # sort the list\n",
        "print(\"new list, sorted:\", list1)\n",
        "print(\"count of 'd': \", list1.count(\"d\"))  # count the number of times \"d\" occurs\n",
        "print(\n",
        "    \"first index of 'd': \", list1.index(\"d\")\n",
        ")  # return the index of the first occurrence of \"d\"\n",
        "print(list1)\n",
        "del list1[2]  # remove the element at index 2\n",
        "print(\"ele at index 2 removed:\", list1)\n",
        "del list1[2:4]  # remove the elements from index 2 to 4.\n",
        "print(\"elements at index 2-4 removed:\", list1)"
      ]
    },
    {
      "cell_type": "markdown",
      "metadata": {
        "id": "zvtGlP3ekb9k"
      },
      "source": [
        "<a id='tuples'></a>\n",
        "### Tuples\n",
        "\n",
        "There also exists an immutable counterpart to a list, the **tuple**.  Elements can also be referenced by index, but (as with Python strings) new values cannot be assigned. Unlike a list, Tuples are created using either `(...)` or simply by using a comma-delimeted sequence of 1 or more elements.   "
      ]
    },
    {
      "cell_type": "code",
      "execution_count": null,
      "metadata": {
        "colab": {
          "base_uri": "https://localhost:8080/"
        },
        "executionInfo": {
          "elapsed": 608,
          "status": "ok",
          "timestamp": 1621106803305,
          "user": {
            "displayName": "muntadher alkaabi",
            "photoUrl": "https://lh3.googleusercontent.com/a-/AOh14Gj1adaCWpR-cnwQQK4viQZvo0gyRf1A0y9AkvnPMt0=s64",
            "userId": "00221067971932357642"
          },
          "user_tz": -180
        },
        "id": "9dFd9r4Ckb9k",
        "outputId": "da520e2d-6a60-4eaf-d539-90d3552faecd"
      },
      "outputs": [
        {
          "name": "stdout",
          "output_type": "stream",
          "text": [
            "()\n",
            "(1, 2)\n",
            "(3, 4, 5)\n",
            "(6,)\n",
            "1\n",
            "(7,)\n",
            "2\n"
          ]
        }
      ],
      "source": [
        "a = ()  # the empty tuple\n",
        "b = (1, 2)  # a tuple of 2 elements\n",
        "c = 3, 4, 5  # another way of creating a tuple.\n",
        "d = (6,)  # a singleton tuple\n",
        "e = (7,)  # another singleton tuple\n",
        "print(a)\n",
        "print(b)\n",
        "print(c)\n",
        "print(d)\n",
        "print(len(d))\n",
        "print(e)\n",
        "print(b[1])"
      ]
    },
    {
      "cell_type": "markdown",
      "metadata": {
        "id": "rN-8ilbGkb9l"
      },
      "source": [
        "As with lists, we can combine tuples to form new tuples"
      ]
    },
    {
      "cell_type": "code",
      "execution_count": null,
      "metadata": {
        "colab": {
          "base_uri": "https://localhost:8080/"
        },
        "executionInfo": {
          "elapsed": 727,
          "status": "ok",
          "timestamp": 1621106804586,
          "user": {
            "displayName": "muntadher alkaabi",
            "photoUrl": "https://lh3.googleusercontent.com/a-/AOh14Gj1adaCWpR-cnwQQK4viQZvo0gyRf1A0y9AkvnPMt0=s64",
            "userId": "00221067971932357642"
          },
          "user_tz": -180
        },
        "id": "70s6Qu4rkb9l",
        "outputId": "507b565e-2fdb-4feb-eeef-cfcc7b6b9d5a"
      },
      "outputs": [
        {
          "name": "stdout",
          "output_type": "stream",
          "text": [
            "(1, 2, 3, 'x', 'y', 'z')\n"
          ]
        }
      ],
      "source": [
        "a = (1, 2, 3, 4)\n",
        "b = \"x\", \"y\", \"z\"\n",
        "c = a[0:3] + b\n",
        "print(c)"
      ]
    },
    {
      "cell_type": "markdown",
      "metadata": {
        "id": "tp5Q-11Fkb9m"
      },
      "source": [
        "<a id='sets'></a>\n",
        "### Sets\n",
        "\n",
        "Sets, created using `{...}` or `set(...)` in Python, are unordered collections without duplicate elements. If the same element is added again, the set will not change. \n"
      ]
    },
    {
      "cell_type": "code",
      "execution_count": null,
      "metadata": {
        "colab": {
          "base_uri": "https://localhost:8080/"
        },
        "executionInfo": {
          "elapsed": 726,
          "status": "ok",
          "timestamp": 1621106805840,
          "user": {
            "displayName": "muntadher alkaabi",
            "photoUrl": "https://lh3.googleusercontent.com/a-/AOh14Gj1adaCWpR-cnwQQK4viQZvo0gyRf1A0y9AkvnPMt0=s64",
            "userId": "00221067971932357642"
          },
          "user_tz": -180
        },
        "id": "6uz-ey-Fkb9m",
        "outputId": "d74d0eca-4bc7-4356-b8ab-401df428a7f5"
      },
      "outputs": [
        {
          "name": "stdout",
          "output_type": "stream",
          "text": [
            "{'a', 'd', 'c', 'b'}\n",
            "{'l', 'r', 'w', 'e', 'd', 'h', ' ', 'o'}\n",
            "{'l', 'b', 'c', 'r', 'w', 'e', 'd', 'h', ' ', 'a', 'o'}\n",
            "{'d'}\n",
            "{'a', 'c', 'b'}\n",
            "{'l', 'r', 'w', 'e', 'h', ' ', 'o'}\n",
            "{'l', 'b', 'c', 'r', 'w', 'e', 'h', ' ', 'a', 'o'}\n"
          ]
        }
      ],
      "source": [
        "a = {\"a\", \"b\", \"c\", \"d\"}  # create a new set containing these elements\n",
        "b = set(\n",
        "    \"hello world\"\n",
        ")  # create a set containing the distinct characters of 'hello world'\n",
        "print(a)\n",
        "print(b)\n",
        "print(a | b)  # print the union of a and b.\n",
        "print(a & b)  # print the intersection of a and b.\n",
        "print(a - b)  # print elements of a not in b\n",
        "print(b - a)  # print elements of b not in a.\n",
        "print(b ^ a)  # print elements in either but not both."
      ]
    },
    {
      "cell_type": "markdown",
      "metadata": {
        "id": "eHjsWZt8kb9n"
      },
      "source": [
        "Given the below, it appears that `==` is used to evaluate membership. "
      ]
    },
    {
      "cell_type": "code",
      "execution_count": null,
      "metadata": {
        "colab": {
          "base_uri": "https://localhost:8080/"
        },
        "executionInfo": {
          "elapsed": 460,
          "status": "ok",
          "timestamp": 1621106806785,
          "user": {
            "displayName": "muntadher alkaabi",
            "photoUrl": "https://lh3.googleusercontent.com/a-/AOh14Gj1adaCWpR-cnwQQK4viQZvo0gyRf1A0y9AkvnPMt0=s64",
            "userId": "00221067971932357642"
          },
          "user_tz": -180
        },
        "id": "YzzOzVEckb9n",
        "outputId": "1f8c0183-25d4-464e-bcf8-a16c68a1f086"
      },
      "outputs": [
        {
          "name": "stdout",
          "output_type": "stream",
          "text": [
            "id(a): hello\n",
            "id(d): hello\n",
            "{'lo', 'hel', 'hello'}\n"
          ]
        }
      ],
      "source": [
        "a = \"hello\"\n",
        "b = \"hel\"\n",
        "c = \"lo\"\n",
        "d = b + c\n",
        "s = {a, b, c, d}\n",
        "print(\"id(a):\", a)\n",
        "print(\"id(d):\", d)\n",
        "print(s)"
      ]
    },
    {
      "cell_type": "markdown",
      "metadata": {
        "id": "z4Ed9ETAkb9o"
      },
      "source": [
        "<a id='dictionaries'></a>\n",
        "### Dictionaries\n",
        "\n",
        "Dictionaries are collections of key-value pairs. A dictionary can be created using `d = {key1:value1, key2:value2, ...}` syntax, or else from 2-ary tuples using `dictionary()`. New key value pairs can be assigned, and old values referenced, using `d[key]`. "
      ]
    },
    {
      "cell_type": "code",
      "execution_count": null,
      "metadata": {
        "colab": {
          "base_uri": "https://localhost:8080/"
        },
        "executionInfo": {
          "elapsed": 625,
          "status": "ok",
          "timestamp": 1621106808020,
          "user": {
            "displayName": "muntadher alkaabi",
            "photoUrl": "https://lh3.googleusercontent.com/a-/AOh14Gj1adaCWpR-cnwQQK4viQZvo0gyRf1A0y9AkvnPMt0=s64",
            "userId": "00221067971932357642"
          },
          "user_tz": -180
        },
        "id": "io8EijEXkb9p",
        "outputId": "31aaadd1-337d-4bf5-f817-6589a0cc8c03"
      },
      "outputs": [
        {
          "name": "stdout",
          "output_type": "stream",
          "text": [
            "{'last': 'smith', 'first': 'joe', 'middle': 'william', 'address': {'number': 1234, 'street': 'Elm St', 'city': 'Athens', 'state': 'GA', 'zip': '30602'}}\n",
            "keys: ['address', 'first', 'last', 'middle']\n",
            "True\n",
            "False\n",
            "{'last': 'smith', 'first': 'joe', 'middle': 'william', 'address': {'number': 1234, 'street': 'beech', 'city': 'Athens', 'state': 'GA', 'zip': '30602'}}\n",
            "{'last': 'jones', 'first': 'joe', 'middle': 'william', 'address': {'number': 1234, 'street': 'beech', 'city': 'Athens', 'state': 'GA', 'zip': '30602'}}\n"
          ]
        }
      ],
      "source": [
        "employee = {\"last\": \"smth\", \"first\": \"joe\"}\n",
        "employee[\"middle\"] = \"william\"\n",
        "employee[\"last\"] = \"smith\"\n",
        "addr = {}  # an empty dictionary\n",
        "addr[\"number\"] = 1234\n",
        "addr[\"street\"] = \"Elm St\"\n",
        "addr[\"city\"] = \"Athens\"\n",
        "addr[\"state\"] = \"GA\"\n",
        "addr[\"zip\"] = \"30602\"\n",
        "employee[\"address\"] = addr\n",
        "print(employee)\n",
        "keys = list(employee.keys())  # list the keys of 'employee'\n",
        "print(\"keys: \" + str(sorted(keys)))\n",
        "print(\"last\" in keys)  # Print whether 'last' is in keys or not (prints True or False)\n",
        "print(\"lastt\" in keys)  # Print whether 'lastt' is in keys or not (prints True or False)\n",
        "\n",
        "employee2 = employee.copy()  # create a shallow copy of the employee\n",
        "employee2[\"last\"] = \"jones\"\n",
        "employee2[\"address\"][\n",
        "    \"street\"\n",
        "] = \"beech\"  # reassign the street name of the employee's address.\n",
        "print(employee)\n",
        "print(employee2)"
      ]
    },
    {
      "cell_type": "markdown",
      "metadata": {
        "id": "aHw6g8tekb9q"
      },
      "source": [
        "<a id=\"conversions\"></a>\n",
        "### Conversion Between Types"
      ]
    },
    {
      "cell_type": "code",
      "execution_count": null,
      "metadata": {
        "colab": {
          "base_uri": "https://localhost:8080/"
        },
        "executionInfo": {
          "elapsed": 821,
          "status": "ok",
          "timestamp": 1621106809726,
          "user": {
            "displayName": "muntadher alkaabi",
            "photoUrl": "https://lh3.googleusercontent.com/a-/AOh14Gj1adaCWpR-cnwQQK4viQZvo0gyRf1A0y9AkvnPMt0=s64",
            "userId": "00221067971932357642"
          },
          "user_tz": -180
        },
        "id": "OThtYfdEkb9q",
        "outputId": "9fb769d0-0f87-45e6-95f7-12977e595b80"
      },
      "outputs": [
        {
          "name": "stdout",
          "output_type": "stream",
          "text": [
            "(1, 2, 3, 1, 1)\n",
            "[1, 2, 3, 1, 1]\n",
            "(1, 2, 3, 1, 1)\n",
            "{1, 2, 3}\n",
            "{'one': 1, 'two': 2, 'three': 3}\n",
            "('one', 'two', 'three')\n",
            "('one', 'two', 'three')\n",
            "(1, 2, 3)\n"
          ]
        }
      ],
      "source": [
        "y = (1, 2, 3, 1, 1)\n",
        "z = list(y)  # convert tuple to a list\n",
        "print(y)\n",
        "print(z)\n",
        "print(tuple(z))  # convert z to a tuple\n",
        "print(set(z))  # convert z to a set\n",
        "\n",
        "w = ((\"one\", 1), (\"two\", 2), (\"three\", 3))\n",
        "v = dict(w)\n",
        "print(v)\n",
        "print(tuple(v))\n",
        "print(tuple(v.keys()))\n",
        "print(tuple(v.values()))"
      ]
    },
    {
      "cell_type": "markdown",
      "metadata": {
        "id": "sZWrcBudkxTl"
      },
      "source": [
        "## Functions\n",
        "\n",
        "<h2 id=\"tocheading\">Table of Contents</h2>\n",
        "<div id=\"toc\"></div>"
      ]
    },
    {
      "cell_type": "markdown",
      "metadata": {
        "id": "6YkB94OJkxTm"
      },
      "source": [
        "<a id='basic'></a>\n",
        "### General Syntax of Functions\n",
        "\n",
        "Below is the definition of a small Python **function** that takes two numbers as arguments and returns their squared difference. \n",
        "\n",
        "A function declaration begins with the `def` keyword, followed by the function name and a list of 0 or more arguments enclosed in parentheses. Note a colon `:` follows the argument list.  There is also an optional string that can be used for generating documentation (a *docstring*) This function returns a value (using `return`), but not all functions have explicit return statements.  "
      ]
    },
    {
      "cell_type": "code",
      "execution_count": null,
      "metadata": {
        "id": "Sn_aVvxkkxTn"
      },
      "outputs": [],
      "source": [
        "def squared_diff(a, b):\n",
        "    \"\"\"A trivial arithmetic function\"\"\"\n",
        "    temp = a - b\n",
        "    return temp * temp"
      ]
    },
    {
      "cell_type": "markdown",
      "metadata": {
        "id": "rgGhK0HakxTn"
      },
      "source": [
        "Once defined, the function can be invoked any number of times. "
      ]
    },
    {
      "cell_type": "code",
      "execution_count": null,
      "metadata": {
        "colab": {
          "base_uri": "https://localhost:8080/"
        },
        "executionInfo": {
          "elapsed": 1128,
          "status": "ok",
          "timestamp": 1621106811979,
          "user": {
            "displayName": "muntadher alkaabi",
            "photoUrl": "https://lh3.googleusercontent.com/a-/AOh14Gj1adaCWpR-cnwQQK4viQZvo0gyRf1A0y9AkvnPMt0=s64",
            "userId": "00221067971932357642"
          },
          "user_tz": -180
        },
        "id": "BJWqUZkEkxTn",
        "outputId": "03880915-b30d-43af-b4c4-ea05694c12a4"
      },
      "outputs": [
        {
          "name": "stdout",
          "output_type": "stream",
          "text": [
            "16\n",
            "9\n"
          ]
        }
      ],
      "source": [
        "print(squared_diff(5, 1))\n",
        "print(squared_diff(3, 6))"
      ]
    },
    {
      "cell_type": "markdown",
      "metadata": {
        "id": "9dAwWBS3kxTo"
      },
      "source": [
        "**Indenting the Function Body**\n",
        "\n",
        "Note that the body of the function is indented. This is what separates the function from the rest of the program in which it is defined. More generally, indentation is used to delineate blocks of code. The exact amount of indentation is not important (4 spaces is typical), but it must be the same amount for each line of the block."
      ]
    },
    {
      "cell_type": "markdown",
      "metadata": {
        "id": "crAGKbEgkxTo"
      },
      "source": [
        "Note that a variable (such as `temp` in the above example) first used in the body of a function cannot be accessed outside the scope of the function body. The memory used for `temp` is reclaimed after the function invocation is complete. The same holds for the variables used as arguments. They are *local* to the function invocation. \n",
        "\n",
        "Once defined, the function's name can be used to assign the function to a variable. The variable serves as an alias. "
      ]
    },
    {
      "cell_type": "code",
      "execution_count": null,
      "metadata": {
        "colab": {
          "base_uri": "https://localhost:8080/"
        },
        "executionInfo": {
          "elapsed": 694,
          "status": "ok",
          "timestamp": 1621106812802,
          "user": {
            "displayName": "muntadher alkaabi",
            "photoUrl": "https://lh3.googleusercontent.com/a-/AOh14Gj1adaCWpR-cnwQQK4viQZvo0gyRf1A0y9AkvnPMt0=s64",
            "userId": "00221067971932357642"
          },
          "user_tz": -180
        },
        "id": "PxsnFSKgkxTp",
        "outputId": "defc836b-309f-42a6-f4d5-f1c78d89617b"
      },
      "outputs": [
        {
          "name": "stdout",
          "output_type": "stream",
          "text": [
            "16\n"
          ]
        }
      ],
      "source": [
        "sd = squared_diff\n",
        "print(sd(5, 1))"
      ]
    },
    {
      "cell_type": "markdown",
      "metadata": {
        "id": "-4JNR7uzkxTq"
      },
      "source": [
        "A function without a return statement (or an empty one) does in fact return a value, `None`. "
      ]
    },
    {
      "cell_type": "code",
      "execution_count": null,
      "metadata": {
        "colab": {
          "base_uri": "https://localhost:8080/"
        },
        "executionInfo": {
          "elapsed": 1173,
          "status": "ok",
          "timestamp": 1621106814062,
          "user": {
            "displayName": "muntadher alkaabi",
            "photoUrl": "https://lh3.googleusercontent.com/a-/AOh14Gj1adaCWpR-cnwQQK4viQZvo0gyRf1A0y9AkvnPMt0=s64",
            "userId": "00221067971932357642"
          },
          "user_tz": -180
        },
        "id": "nAyyN14WkxTq",
        "outputId": "0f89a673-003e-44c8-c700-fa7c2bc4e6d6"
      },
      "outputs": [
        {
          "name": "stdout",
          "output_type": "stream",
          "text": [
            "How Many?\n",
            "None\n"
          ]
        }
      ],
      "source": [
        "def trivial():\n",
        "    print(\"How Many?\")\n",
        "\n",
        "\n",
        "print(trivial())"
      ]
    },
    {
      "cell_type": "markdown",
      "metadata": {
        "id": "DMGz5_YEkxTr"
      },
      "source": [
        "<a id='nesting'></a>\n",
        "### Nested Functions\n",
        "\n",
        "It's possible to define functions within other functions, and even assign the function to a variable (thereby creating an alias for it). In the below example, `outer` actually returns a new function, created from argument `a`. The new function is assigned to `y` and then invoked. "
      ]
    },
    {
      "cell_type": "code",
      "execution_count": null,
      "metadata": {
        "colab": {
          "base_uri": "https://localhost:8080/"
        },
        "executionInfo": {
          "elapsed": 544,
          "status": "ok",
          "timestamp": 1621106814405,
          "user": {
            "displayName": "muntadher alkaabi",
            "photoUrl": "https://lh3.googleusercontent.com/a-/AOh14Gj1adaCWpR-cnwQQK4viQZvo0gyRf1A0y9AkvnPMt0=s64",
            "userId": "00221067971932357642"
          },
          "user_tz": -180
        },
        "id": "Lx2DzNRhkxTr",
        "outputId": "2cd89f9d-5469-4c0b-9e9b-a9e34015cdea"
      },
      "outputs": [
        {
          "name": "stdout",
          "output_type": "stream",
          "text": [
            "5\n"
          ]
        }
      ],
      "source": [
        "def outer(a):\n",
        "    def inner(b):\n",
        "        return a + b\n",
        "\n",
        "    x = inner\n",
        "    return x\n",
        "\n",
        "\n",
        "y = outer(2)\n",
        "print(y(3))"
      ]
    },
    {
      "cell_type": "markdown",
      "metadata": {
        "id": "uN4ZrQfDkxTr"
      },
      "source": [
        "<a id='defaults'></a>\n",
        "### Default Values\n",
        "\n",
        "Functions can be defined to allow a variable number of arguments. One way of doing this is to use default values as indicated below "
      ]
    },
    {
      "cell_type": "code",
      "execution_count": null,
      "metadata": {
        "colab": {
          "base_uri": "https://localhost:8080/"
        },
        "executionInfo": {
          "elapsed": 716,
          "status": "ok",
          "timestamp": 1621106815377,
          "user": {
            "displayName": "muntadher alkaabi",
            "photoUrl": "https://lh3.googleusercontent.com/a-/AOh14Gj1adaCWpR-cnwQQK4viQZvo0gyRf1A0y9AkvnPMt0=s64",
            "userId": "00221067971932357642"
          },
          "user_tz": -180
        },
        "id": "PFhiNxBikxTs",
        "outputId": "cd7b42ee-9b10-410f-eb20-31560e0ad2b5"
      },
      "outputs": [
        {
          "name": "stdout",
          "output_type": "stream",
          "text": [
            "6\n",
            "7\n",
            "8\n",
            "9\n"
          ]
        }
      ],
      "source": [
        "def f1(a=1, b=2, c=3):\n",
        "    return a + b + c\n",
        "\n",
        "\n",
        "print(f1())  # returns 6\n",
        "print(f1(2))  # returns 7\n",
        "print(f1(1, 4))  # returns 8\n",
        "print(f1(3, 4, 2))  # returns 9"
      ]
    },
    {
      "cell_type": "markdown",
      "metadata": {
        "id": "kxLL73fMkxTs"
      },
      "source": [
        "The use of compound objects as default values requires special attention. The default value is only evaluated once, at the time the function is defined rather than invoked. And so, it is possible to change the state of the object with successive function invocations.  "
      ]
    },
    {
      "cell_type": "code",
      "execution_count": null,
      "metadata": {
        "colab": {
          "base_uri": "https://localhost:8080/"
        },
        "executionInfo": {
          "elapsed": 576,
          "status": "ok",
          "timestamp": 1621106815843,
          "user": {
            "displayName": "muntadher alkaabi",
            "photoUrl": "https://lh3.googleusercontent.com/a-/AOh14Gj1adaCWpR-cnwQQK4viQZvo0gyRf1A0y9AkvnPMt0=s64",
            "userId": "00221067971932357642"
          },
          "user_tz": -180
        },
        "id": "YJSi00_zkxTt",
        "outputId": "d07d01f3-2a23-4a5e-8a20-5b687b35bc5c"
      },
      "outputs": [
        {
          "name": "stdout",
          "output_type": "stream",
          "text": [
            "[1, 2, 3]\n",
            "[4]\n"
          ]
        }
      ],
      "source": [
        "def f2(ele, thelist=[]):\n",
        "    thelist.append(ele)\n",
        "    return thelist\n",
        "\n",
        "\n",
        "f2(1)\n",
        "f2(2)\n",
        "result = f2(3)\n",
        "print(result)\n",
        "print(f2(4, []))"
      ]
    },
    {
      "cell_type": "markdown",
      "metadata": {
        "id": "2_cwAK9KkxTt"
      },
      "source": [
        "<a id='keywords'></a>\n",
        "### Keyword Arguments\n",
        "\n",
        "Key value pairs can also be used as arguments, both in the definition of the function *and its invocation*. This permits arguments to be referenced by name. When invoked in this fashion, the order of the arguments does not matter. \n",
        "\n",
        "Note that if key-value pairs are only used for some arguments, they must appear *after* all positional arguments. "
      ]
    },
    {
      "cell_type": "code",
      "execution_count": null,
      "metadata": {
        "colab": {
          "base_uri": "https://localhost:8080/"
        },
        "executionInfo": {
          "elapsed": 988,
          "status": "ok",
          "timestamp": 1621106816764,
          "user": {
            "displayName": "muntadher alkaabi",
            "photoUrl": "https://lh3.googleusercontent.com/a-/AOh14Gj1adaCWpR-cnwQQK4viQZvo0gyRf1A0y9AkvnPMt0=s64",
            "userId": "00221067971932357642"
          },
          "user_tz": -180
        },
        "id": "pnwBgk7mkxTt",
        "outputId": "65f7aafc-fddd-48c3-a8e2-6551062721e5"
      },
      "outputs": [
        {
          "name": "stdout",
          "output_type": "stream",
          "text": [
            " a = 0 b = 2 c = 3\n",
            " a = 3 b = 2 c = 1\n",
            " a = 1 b = 2 c = 3\n",
            " a = 4 b = 5 c = 6\n"
          ]
        }
      ],
      "source": [
        "def f3(a, b=2, c=3):\n",
        "    print(\" a = \" + str(a) + \" b = \" + str(b) + \" c = \" + str(c))\n",
        "\n",
        "\n",
        "f3(0)\n",
        "f3(3, 2, 1)\n",
        "f3(b=2, a=1, c=3)\n",
        "f3(4, c=6, b=5)"
      ]
    },
    {
      "cell_type": "markdown",
      "metadata": {
        "id": "FAS0crhykxTu"
      },
      "source": [
        "<a id='variable_arguments'></a>\n",
        "### Variable Argument Lists\n",
        "\n",
        "In a function definition, a formal argument of the form `*variablename` will collect all optional positional arguments and put them into a list. Similarly, a formal argument of the form `**variablename` will collect all optional keyword arguments and put them into a dictionary. "
      ]
    },
    {
      "cell_type": "code",
      "execution_count": null,
      "metadata": {
        "colab": {
          "base_uri": "https://localhost:8080/"
        },
        "executionInfo": {
          "elapsed": 937,
          "status": "ok",
          "timestamp": 1621106817108,
          "user": {
            "displayName": "muntadher alkaabi",
            "photoUrl": "https://lh3.googleusercontent.com/a-/AOh14Gj1adaCWpR-cnwQQK4viQZvo0gyRf1A0y9AkvnPMt0=s64",
            "userId": "00221067971932357642"
          },
          "user_tz": -180
        },
        "id": "LMPIHfZQkxTu",
        "outputId": "83197817-bcbb-4e75-a15a-79a3aba4734f"
      },
      "outputs": [
        {
          "name": "stdout",
          "output_type": "stream",
          "text": [
            "1\n",
            "2\n",
            "(3, 4)\n",
            "7\n",
            "{'a': 5, 'b': 6}\n",
            "********************\n",
            "1\n",
            "2\n",
            "(3, 4)\n",
            "d\n",
            "{'a': 'b'}\n"
          ]
        }
      ],
      "source": [
        "def f4(arg1, arg2, *more_positional_args, c=10, **keyword_args):\n",
        "    print(arg1)\n",
        "    print(arg2)\n",
        "    print(more_positional_args)\n",
        "    print(c)\n",
        "    print(keyword_args)\n",
        "\n",
        "\n",
        "f4(1, 2, 3, 4, a=5, b=6, c=7)\n",
        "\n",
        "print(\"*\" * 20)\n",
        "x = (1, 2, 3, 4)\n",
        "y = {\"a\": \"b\", \"c\": \"d\"}\n",
        "f4(*x, **y)"
      ]
    },
    {
      "cell_type": "markdown",
      "metadata": {
        "id": "ezyM_eyEkxTv"
      },
      "source": [
        "<a id='anonymous'></a>\n",
        "### Anonymous functions\n",
        "\n",
        "An anoymous function can be created with a `lambda` expression. Note that a function defined via a lambda expression does not have a return statement. Instead, it contains a single statement (written on the same line) whose evaluated value is used as the return statement. "
      ]
    },
    {
      "cell_type": "code",
      "execution_count": null,
      "metadata": {
        "colab": {
          "base_uri": "https://localhost:8080/"
        },
        "executionInfo": {
          "elapsed": 971,
          "status": "ok",
          "timestamp": 1621106817861,
          "user": {
            "displayName": "muntadher alkaabi",
            "photoUrl": "https://lh3.googleusercontent.com/a-/AOh14Gj1adaCWpR-cnwQQK4viQZvo0gyRf1A0y9AkvnPMt0=s64",
            "userId": "00221067971932357642"
          },
          "user_tz": -180
        },
        "id": "iChEZX9zkxTv",
        "outputId": "05104bd1-4eef-4f80-f5ab-cffca4c6aaf3"
      },
      "outputs": [
        {
          "name": "stdout",
          "output_type": "stream",
          "text": [
            "9\n",
            "64\n"
          ]
        }
      ],
      "source": [
        "def f5(a):\n",
        "    x = lambda b: b**a\n",
        "    return x\n",
        "\n",
        "\n",
        "sq = f5(2)\n",
        "print(sq(3))\n",
        "cu = f5(3)\n",
        "print(cu(4))"
      ]
    },
    {
      "cell_type": "markdown",
      "metadata": {
        "id": "nhLmcx_LkxTv"
      },
      "source": [
        "<a id='scope'></a>\n",
        "### Note about scope\n",
        "\n",
        "In the written program, where a variable is defined plays an important role when creating functions, particulaly when anonymous functions are created. Below, the variable `a` is defined `outside` of the function definition but is referenced inside of it. \n",
        "\n",
        "Below, in the body of `f6`, local variable `b` is assigned the value of `a`, which again is defined outside of the function. When `f6()` is invoked, the current value of `a` (20) is used, *not* the value of `a` that existed when the function was originally defined. "
      ]
    },
    {
      "cell_type": "code",
      "execution_count": null,
      "metadata": {
        "colab": {
          "base_uri": "https://localhost:8080/"
        },
        "executionInfo": {
          "elapsed": 1320,
          "status": "ok",
          "timestamp": 1621106818896,
          "user": {
            "displayName": "muntadher alkaabi",
            "photoUrl": "https://lh3.googleusercontent.com/a-/AOh14Gj1adaCWpR-cnwQQK4viQZvo0gyRf1A0y9AkvnPMt0=s64",
            "userId": "00221067971932357642"
          },
          "user_tz": -180
        },
        "id": "bsuWhMz5kxTw",
        "outputId": "d724cf15-f167-473e-895c-d84388aa8fbd"
      },
      "outputs": [
        {
          "name": "stdout",
          "output_type": "stream",
          "text": [
            "20\n",
            "20\n"
          ]
        }
      ],
      "source": [
        "a = 10\n",
        "\n",
        "\n",
        "def f6():\n",
        "    b = a\n",
        "    print(a)\n",
        "    print(b)\n",
        "\n",
        "\n",
        "a = 20\n",
        "f6()"
      ]
    },
    {
      "cell_type": "markdown",
      "metadata": {
        "id": "FWoWE83XkxTw"
      },
      "source": [
        "Something similar happes in the definition of the anymous function created by `f7`. Below, `e` is referenced in the anonymous function, but it is defined elsewhere. Whenever the anonymous function is invoked, the current value of `e` is used. "
      ]
    },
    {
      "cell_type": "code",
      "execution_count": null,
      "metadata": {
        "colab": {
          "base_uri": "https://localhost:8080/"
        },
        "executionInfo": {
          "elapsed": 648,
          "status": "ok",
          "timestamp": 1621106819374,
          "user": {
            "displayName": "muntadher alkaabi",
            "photoUrl": "https://lh3.googleusercontent.com/a-/AOh14Gj1adaCWpR-cnwQQK4viQZvo0gyRf1A0y9AkvnPMt0=s64",
            "userId": "00221067971932357642"
          },
          "user_tz": -180
        },
        "id": "x4B0J0rzkxTw",
        "outputId": "726ec792-8f8c-46b0-d421-b29af053aaae"
      },
      "outputs": [
        {
          "name": "stdout",
          "output_type": "stream",
          "text": [
            "25\n",
            "125\n"
          ]
        }
      ],
      "source": [
        "e = 2\n",
        "\n",
        "\n",
        "def f7():\n",
        "    x = lambda b: b**e\n",
        "    return x\n",
        "\n",
        "\n",
        "exp = f7()\n",
        "print(exp(5))\n",
        "e = 3\n",
        "print(exp(5))"
      ]
    },
    {
      "cell_type": "code",
      "execution_count": null,
      "metadata": {
        "colab": {
          "base_uri": "https://localhost:8080/"
        },
        "executionInfo": {
          "elapsed": 817,
          "status": "ok",
          "timestamp": 1621106819899,
          "user": {
            "displayName": "muntadher alkaabi",
            "photoUrl": "https://lh3.googleusercontent.com/a-/AOh14Gj1adaCWpR-cnwQQK4viQZvo0gyRf1A0y9AkvnPMt0=s64",
            "userId": "00221067971932357642"
          },
          "user_tz": -180
        },
        "id": "mXUwK8vkkxTx",
        "outputId": "01cde5f8-a709-4f24-ffcf-b2f4b9d5a9f0"
      },
      "outputs": [
        {
          "name": "stdout",
          "output_type": "stream",
          "text": [
            "25\n",
            "25\n"
          ]
        }
      ],
      "source": [
        "e = 2\n",
        "\n",
        "\n",
        "def f8():\n",
        "    temp = e\n",
        "    x = lambda b: b**temp\n",
        "    return x\n",
        "\n",
        "\n",
        "exp = f8()\n",
        "print(exp(5))\n",
        "e = 3\n",
        "print(exp(5))"
      ]
    },
    {
      "cell_type": "markdown",
      "metadata": {
        "id": "CX2gM2aljWOX"
      },
      "source": [
        "## Namespaces and Scope\n",
        "\n",
        "<h2 id=\"tocheading\">Table of Contents</h2>\n",
        "<div id=\"toc\"></div>"
      ]
    },
    {
      "cell_type": "markdown",
      "metadata": {
        "id": "wzYe7lMDjWOY"
      },
      "source": [
        "<a id='namespaces'></a>\n",
        "### Namespaces\n",
        "\n",
        "When we define a function, the the variables used as arguments to the function (the so-called *formal parameters*) and variables that are defined within the body of the function are all local to that function. Each time the function is invoked, a new **namespace** with associated **symbol table** is created. It is local to that function invocation and maps variable names to values. The same indentifier might be written elsewhere in the program (e.g., in another function definition), but the two occurrences are completely separate. They denote separate variables, for instance, and so changing the value of one does not affect the other. \n",
        "\n",
        "Note that functions are defined within a larger program context, and so namespaces can be nested. When a variable is referenced in the body of a function,  the local symbol table is first examined. If the the variable name is not found, then the enclosing namespace is examined. This is repeated until the **global namespace** is reached. \n",
        "\n",
        "In contrast, if an assignment to a variable appears in the function body, the variable is inferred to be local. This can potentially cause problems, as indicated in `f3` below."
      ]
    },
    {
      "cell_type": "code",
      "execution_count": null,
      "metadata": {
        "colab": {
          "base_uri": "https://localhost:8080/"
        },
        "executionInfo": {
          "elapsed": 787,
          "status": "ok",
          "timestamp": 1621106820610,
          "user": {
            "displayName": "muntadher alkaabi",
            "photoUrl": "https://lh3.googleusercontent.com/a-/AOh14Gj1adaCWpR-cnwQQK4viQZvo0gyRf1A0y9AkvnPMt0=s64",
            "userId": "00221067971932357642"
          },
          "user_tz": -180
        },
        "id": "liWTk-LejWOY",
        "outputId": "c31fe83e-5ec2-4fea-d8da-29342d58f769"
      },
      "outputs": [
        {
          "name": "stdout",
          "output_type": "stream",
          "text": [
            "f1 a:  2\n",
            "f2 a:  1\n",
            "non-function a:  1\n",
            "f1 a:  2\n",
            "f2 a:  10\n",
            "non-function a:  10\n"
          ]
        }
      ],
      "source": [
        "a = \"1\"\n",
        "\n",
        "\n",
        "def f1():\n",
        "    a = \"2\"\n",
        "    print(\"f1 a: \", a)\n",
        "\n",
        "\n",
        "def f2():\n",
        "    print(\"f2 a: \", a)\n",
        "\n",
        "\n",
        "f1()\n",
        "f2()\n",
        "print(\"non-function a: \", a)\n",
        "\n",
        "a = \"10\"\n",
        "\n",
        "f1()\n",
        "f2()\n",
        "print(\"non-function a: \", a)"
      ]
    },
    {
      "cell_type": "code",
      "execution_count": null,
      "metadata": {
        "id": "d6Fi3YYTjWOZ"
      },
      "outputs": [],
      "source": [
        "# Why is this problematic?\n",
        "def f3():\n",
        "    print(\"first f3 a: \" + a)\n",
        "    a = \"3\"\n",
        "    print(\"second f3 a: \" + a)\n",
        "\n",
        "\n",
        "# f3()"
      ]
    },
    {
      "cell_type": "markdown",
      "metadata": {
        "id": "9wWWsXSVjWOZ"
      },
      "source": [
        "In the above definition of `f3`, an assignment for `a` appears within the function body, and so the variable is inferred to be local. However, it is actually referenced in the print line before the assignment occurs. This will raise an exception, as would attempting to use a variable before it is assigned.  "
      ]
    },
    {
      "cell_type": "markdown",
      "metadata": {
        "id": "FwQ67SGPjWOa"
      },
      "source": [
        "**Examples of namespaces**\n",
        "\n",
        "Several namespaces exist, not just the ones user create when defining functions. \n",
        "\n",
        "*  `builtins`: for builtin Python functions, created at start-up of the interpreter. \n",
        "*  `__main__`: the top-level namespace for the interpreter. \n",
        "*  global namespace for each module: created when the module is first read in. \n",
        "*  function invocation namespaces: created when the function is invoked and deleted upon exit.  \n"
      ]
    },
    {
      "cell_type": "markdown",
      "metadata": {
        "id": "WQB1tXp7jWOa"
      },
      "source": [
        "<a id='scope'></a>\n",
        "### Scope\n",
        "\n",
        "**Scope** refers to the textual area of a program where a variable can be directly accessed. Using  the keywords `global` or `nonlocal`, it's possible to access variables existing in a different scope. \n",
        "\n",
        "Below is a slightly modified example taken from the [Python Tutorial](https://docs.python.org/3/tutorial/classes.html#scopes-and-namespaces-example)"
      ]
    },
    {
      "cell_type": "code",
      "execution_count": null,
      "metadata": {
        "colab": {
          "base_uri": "https://localhost:8080/"
        },
        "executionInfo": {
          "elapsed": 530,
          "status": "ok",
          "timestamp": 1621106821597,
          "user": {
            "displayName": "muntadher alkaabi",
            "photoUrl": "https://lh3.googleusercontent.com/a-/AOh14Gj1adaCWpR-cnwQQK4viQZvo0gyRf1A0y9AkvnPMt0=s64",
            "userId": "00221067971932357642"
          },
          "user_tz": -180
        },
        "id": "GlaQDAkHjWOa",
        "outputId": "7fd78fc9-9196-4896-f16f-4acafff02efa"
      },
      "outputs": [
        {
          "name": "stdout",
          "output_type": "stream",
          "text": [
            "After local assignment: scope_test spam\n",
            "After nonlocal assignment: scope_test spam modified\n",
            "After global assignment: scope_test spam modified\n",
            "In global scope: global spam modified\n"
          ]
        }
      ],
      "source": [
        "# Level 1\n",
        "spam = \"global spam\"  # global space\n",
        "\n",
        "\n",
        "def scope_test():\n",
        "\n",
        "    # Level 2\n",
        "    spam = \"scope_test spam\"  # local to scope_test\n",
        "\n",
        "    def do_local():\n",
        "        # Level 3\n",
        "        spam = \"do_local spam\"  # local to do_local\n",
        "\n",
        "    def do_nonlocal():\n",
        "        nonlocal spam  # spam refers to enclosing scope (scope_test)\n",
        "        spam = \"scope_test spam modified\"\n",
        "\n",
        "    def do_global():\n",
        "        global spam  # spam refers to global scope\n",
        "        spam = \"global spam modified\"\n",
        "\n",
        "    do_local()\n",
        "    print(\"After local assignment:\", spam)\n",
        "    do_nonlocal()\n",
        "    print(\"After nonlocal assignment:\", spam)\n",
        "    do_global()\n",
        "    print(\"After global assignment:\", spam)\n",
        "\n",
        "\n",
        "scope_test()\n",
        "print(\"In global scope:\", spam)"
      ]
    },
    {
      "cell_type": "markdown",
      "metadata": {
        "id": "A-Pf85lljWOb"
      },
      "source": [
        "Above, the call to `do_local()` changes the value of `spam` local to that function (denoted here, *Level 3*). The call to `do_nonlocal()`, however, changes that value at *Level 2*. And the call to `do_global()` changes it at the outermost level (*Level 1*). \n",
        "\n",
        "`global` allows one to change the values of variables not defined in any function, while `nonlocal` permits one to change values of variables in the enclosing context. "
      ]
    },
    {
      "cell_type": "markdown",
      "metadata": {
        "id": "TtU7P3uk69Tj"
      },
      "source": [
        "## Python Libraries\n",
        "Python Libraries are a set of useful functions that eliminate the need for writing codes from scratch.Python libraries play a vital role in developing machine learning, data science, data visualization, image and data manipulation applications and more. \n"
      ]
    },
    {
      "cell_type": "markdown",
      "metadata": {
        "id": "EbChcBG07URR"
      },
      "source": [
        "### Math \n",
        "Some of the most popular mathematical functions are defined in the math module. These include trigonometric functions, representation functions, logarithmic functions, angle conversion functions, etc. "
      ]
    },
    {
      "cell_type": "markdown",
      "metadata": {
        "id": "7d7c8YJ9APS4"
      },
      "source": [
        "\n",
        "**Some of the math functions :**    \n",
        "\n",
        "\n",
        "\n"
      ]
    },
    {
      "cell_type": "markdown",
      "metadata": {
        "id": "Ic5eshlTHImd"
      },
      "source": [
        "* math.degrees()\tConverts an angle from radians to degrees\n",
        "* math.radians()\tConverts a degree value into radians\n",
        "\n",
        "\n",
        "---\n",
        "\n",
        "\n",
        "* math.sin()\tReturns the sine of a number\n",
        "* math.sinh()\tReturns the hyperbolic sine of a number\n",
        "* math.asin()\t    Returns the arc sine of a number\n",
        "* math.asinh()\tReturns the inverse hyperbolic sine of a number\n",
        "\n",
        "\n",
        "---\n",
        "\n",
        "\n",
        "*  math.cos()\t    Returns the cosine of a number\n",
        "* math.cosh()\t    Returns the hyperbolic cosine of a number\n",
        "* math.acos()\t    Returns the arc cosine of a number\n",
        "*  math.acosh()\tReturns the inverse hyperbolic cosine of a number\n",
        "\n",
        "\n",
        "---\n",
        "\n",
        "\n",
        "* math.tan()\tReturns the tangent of a number\n",
        "* math.tanh()\tReturns the hyperbolic tangent of a number\n",
        "* math.atan()\t    Returns the arc tangent of a number in radians\n",
        "* math.atanh()\tReturns the inverse hyperbolic tangent of a number"
      ]
    },
    {
      "cell_type": "code",
      "execution_count": null,
      "metadata": {
        "colab": {
          "base_uri": "https://localhost:8080/"
        },
        "executionInfo": {
          "elapsed": 308,
          "status": "ok",
          "timestamp": 1636064916274,
          "user": {
            "displayName": "muntadher alkaabi",
            "photoUrl": "https://lh3.googleusercontent.com/a-/AOh14Gj1adaCWpR-cnwQQK4viQZvo0gyRf1A0y9AkvnPMt0=s64",
            "userId": "00221067971932357642"
          },
          "user_tz": -180
        },
        "id": "btAkzsJE7TpA",
        "outputId": "79772e22-2aa0-47b1-a614-c8cdc0755718"
      },
      "outputs": [
        {
          "name": "stdout",
          "output_type": "stream",
          "text": [
            " sin(30)=-0.9880316240928618\n",
            " cos(30)=0.15425144988758405\n",
            " tan(30)=-6.405331196646276\n"
          ]
        }
      ],
      "source": [
        "import math  # import the math Library\n",
        "\n",
        "# ex1\n",
        "# The following lines show sin, cos and tan ratios for the angle of 30 degrees\n",
        "sin_30 = math.sin(30)\n",
        "cos_30 = math.cos(30)\n",
        "tan_30 = math.tan(30)\n",
        "print(f\" sin(30)={sin_30}\\n cos(30)={cos_30}\\n tan(30)={tan_30}\")"
      ]
    },
    {
      "cell_type": "markdown",
      "metadata": {
        "id": "Z3YqpXkHHQBx"
      },
      "source": [
        "* math.log()\tReturns the natural logarithm of a number, or the logarithm of number to base\n",
        "* math.log10()\tReturns the base-10 logarithm of x"
      ]
    },
    {
      "cell_type": "code",
      "execution_count": null,
      "metadata": {
        "colab": {
          "base_uri": "https://localhost:8080/"
        },
        "executionInfo": {
          "elapsed": 325,
          "status": "ok",
          "timestamp": 1636065059423,
          "user": {
            "displayName": "muntadher alkaabi",
            "photoUrl": "https://lh3.googleusercontent.com/a-/AOh14Gj1adaCWpR-cnwQQK4viQZvo0gyRf1A0y9AkvnPMt0=s64",
            "userId": "00221067971932357642"
          },
          "user_tz": -180
        },
        "id": "acRJjktBEZHK",
        "outputId": "0a7303c8-df1e-4901-f453-36d5525ca6db"
      },
      "outputs": [
        {
          "name": "stdout",
          "output_type": "stream",
          "text": [
            "log(20)=2.995732273553991\n",
            "log10(20)=1.3010299956639813\n"
          ]
        }
      ],
      "source": [
        "# log\n",
        "# The math.log() method returns the natural logarithm of a given number. The natural logarithm is calculated to the base e.\n",
        "print(f\"log(20)={math.log(20)}\")\n",
        "# log 10\n",
        "# The math.log10() method returns the base-10 logarithm of the given number. It is called the standard logarithm.\n",
        "print(f\"log10(20)={math.log10(20)}\")"
      ]
    },
    {
      "cell_type": "markdown",
      "metadata": {
        "id": "GlJyyLOwHZtg"
      },
      "source": [
        "*  math.exp()\t    Returns E raised to the power of x\n",
        "* math.pow()\tReturns the value of x to the power of y\n",
        "* math.sqrt()\tReturns the square root of a number"
      ]
    },
    {
      "cell_type": "code",
      "execution_count": null,
      "metadata": {
        "colab": {
          "base_uri": "https://localhost:8080/"
        },
        "executionInfo": {
          "elapsed": 312,
          "status": "ok",
          "timestamp": 1636065601191,
          "user": {
            "displayName": "muntadher alkaabi",
            "photoUrl": "https://lh3.googleusercontent.com/a-/AOh14Gj1adaCWpR-cnwQQK4viQZvo0gyRf1A0y9AkvnPMt0=s64",
            "userId": "00221067971932357642"
          },
          "user_tz": -180
        },
        "id": "Z-nJAgPZFMWC",
        "outputId": "a6045ab0-a5fd-477c-ec5a-5acdceb8e7c3"
      },
      "outputs": [
        {
          "name": "stdout",
          "output_type": "stream",
          "text": [
            "exp(10)=22026.465794806718\n",
            "e**x=22026.465794806703\n",
            "pow(2,4)=16.0\n",
            "sqrt(100)=10.0\n"
          ]
        }
      ],
      "source": [
        "# exp\n",
        "# The math.exp() method returns a float number after raising e to the power of the given number. In other words, exp(x) gives e**x.\n",
        "print(f\"exp(10)={math.exp(10)}\")\n",
        "# returns a float number after raising e to the power of the given number\n",
        "# using the math.e constant returns the Eular's number: 2.71828182845904.\n",
        "print(f\"e**x={math.e**10}\")\n",
        "# pow\n",
        "# The math.pow() method receives two float arguments, raises the first to the second and returns the result.\n",
        "# In other words, pow(4,4) is equivalent to 4**4.\n",
        "print(f\"pow(2,4)={math.pow(2,4)}\")\n",
        "# sqrt\n",
        "# The math.sqrt() method returns the square root of a given number.\n",
        "print(f\"sqrt(100)={math.sqrt(100)}\")"
      ]
    },
    {
      "cell_type": "markdown",
      "metadata": {
        "id": "51pQwMxCH5DS"
      },
      "source": [
        "* math.factorial()\tReturns the factorial of a number\n",
        "\n",
        "* math.fsum()\t        Returns the sum of all items in any iterable (tuples, arrays, lists, etc.)\n",
        "* math.prod()\tReturns the product of all the elements in an iterable\n",
        "\n",
        "* math.ceil()\t    Rounds a number up to the nearest integer\n",
        "\n",
        "* math.isclose()\tChecks whether two values are close to each other, or not\n",
        "* math.isfinite()\tChecks whether a number is finite or not\n",
        "* math.isinf()\tChecks whether a number is infinite or not\n",
        "* math.isnan()\tChecks whether a value is NaN (not a number) or not\n",
        "* math.isqrt()\tRounds a square root number downwards to the nearest integer"
      ]
    },
    {
      "cell_type": "markdown",
      "metadata": {
        "id": "54gOFbIHIN3w"
      },
      "source": [
        "### OS\n",
        "The OS module in Python provides functions for interacting with the operating system. OS comes under Python\u2019s standard utility modules. This module provides a portable way of using operating system-dependent functionality. The *os* and *os.path* modules include many functions to interact with the file system."
      ]
    },
    {
      "cell_type": "markdown",
      "metadata": {
        "id": "h-depRYsLJIH"
      },
      "source": [
        "**Handling the Current Working Directory**\n"
      ]
    },
    {
      "cell_type": "markdown",
      "metadata": {
        "id": "OdIWN2J9LUDb"
      },
      "source": [
        "os method getcwd() returns  the location of the current working directory."
      ]
    },
    {
      "cell_type": "code",
      "execution_count": null,
      "metadata": {
        "colab": {
          "base_uri": "https://localhost:8080/"
        },
        "executionInfo": {
          "elapsed": 327,
          "status": "ok",
          "timestamp": 1636284971488,
          "user": {
            "displayName": "muntadher alkaabi",
            "photoUrl": "https://lh3.googleusercontent.com/a-/AOh14Gj1adaCWpR-cnwQQK4viQZvo0gyRf1A0y9AkvnPMt0=s64",
            "userId": "00221067971932357642"
          },
          "user_tz": -180
        },
        "id": "F3iK-gciIcZ0",
        "outputId": "10310114-82b2-4865-c1f6-71a154165e79"
      },
      "outputs": [
        {
          "name": "stdout",
          "output_type": "stream",
          "text": [
            "current working directory : /content\n"
          ]
        }
      ],
      "source": [
        "import os  # import os\n",
        "\n",
        "print(f\"current working directory : {os.getcwd()}\")"
      ]
    },
    {
      "cell_type": "markdown",
      "metadata": {
        "id": "ViUp-RuSL6rp"
      },
      "source": [
        "**Creating a Directory**\n",
        "There are different methods available in the OS module for creating a director"
      ]
    },
    {
      "cell_type": "markdown",
      "metadata": {
        "id": "pnx2xWAeL9EN"
      },
      "source": [
        "**os.mkdir()**\n",
        "os.mkdir() method in Python is used to create a directory named path .\n",
        "\n",
        "Note:This method raises FileExistsError if the directory to be created already exists.\n",
        " "
      ]
    },
    {
      "cell_type": "code",
      "execution_count": null,
      "metadata": {
        "id": "nlJRmB3jIcdo"
      },
      "outputs": [],
      "source": [
        "os.mkdir(\"/content/hi\")"
      ]
    },
    {
      "cell_type": "markdown",
      "metadata": {
        "id": "nMWpYsl6MnP4"
      },
      "source": [
        "![Screenshot 2021-11-07 143949.png](data:image/png;base64,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)"
      ]
    },
    {
      "cell_type": "markdown",
      "metadata": {
        "id": "g6RHSC8AMu8C"
      },
      "source": [
        "**os.makedirs()**\n",
        "os.makedirs() method in Python is used to create a directory recursively. That means while making leaf directory if any intermediate-level directory is missing, os.makedirs() method will create them all."
      ]
    },
    {
      "cell_type": "code",
      "execution_count": null,
      "metadata": {
        "executionInfo": {
          "elapsed": 358,
          "status": "ok",
          "timestamp": 1636287830280,
          "user": {
            "displayName": "muntadher alkaabi",
            "photoUrl": "https://lh3.googleusercontent.com/a-/AOh14Gj1adaCWpR-cnwQQK4viQZvo0gyRf1A0y9AkvnPMt0=s64",
            "userId": "00221067971932357642"
          },
          "user_tz": -180
        },
        "id": "s_DHt6G1IchS"
      },
      "outputs": [],
      "source": [
        "os.makedirs(\"/content/hello/codelab/AILAB\")"
      ]
    },
    {
      "cell_type": "markdown",
      "metadata": {
        "id": "bL8Xn1fKNewr"
      },
      "source": [
        "![Screenshot 2021-11-07 144323.png](data:image/png;base64,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)"
      ]
    },
    {
      "cell_type": "markdown",
      "metadata": {
        "id": "nhDxDRxiNkpT"
      },
      "source": [
        "**Listing out Files and Directories with os**\n"
      ]
    },
    {
      "cell_type": "markdown",
      "metadata": {
        "id": "cI5E6MuBOVqP"
      },
      "source": [
        " **os.listdir()** <br>\n",
        "os listdir method  is used to get the list of all files and directories in the specified directory. If we don\u2019t specify any directory, then the list of files and directories in the current working directory will be returned."
      ]
    },
    {
      "cell_type": "code",
      "execution_count": null,
      "metadata": {
        "colab": {
          "base_uri": "https://localhost:8080/"
        },
        "executionInfo": {
          "elapsed": 420,
          "status": "ok",
          "timestamp": 1636285776893,
          "user": {
            "displayName": "muntadher alkaabi",
            "photoUrl": "https://lh3.googleusercontent.com/a-/AOh14Gj1adaCWpR-cnwQQK4viQZvo0gyRf1A0y9AkvnPMt0=s64",
            "userId": "00221067971932357642"
          },
          "user_tz": -180
        },
        "id": "SV-EUBrLOQSf",
        "outputId": "635aa723-00ca-429e-e123-27aaf048644d"
      },
      "outputs": [
        {
          "name": "stdout",
          "output_type": "stream",
          "text": [
            "Files and directories in ' /content/sample_data ' :\n",
            "['anscombe.json', 'README.md', 'mnist_test.csv', 'california_housing_test.csv', 'mnist_train_small.csv', 'california_housing_train.csv']\n"
          ]
        }
      ],
      "source": [
        "# Get the list of all files and directories\n",
        "# in the root directory\n",
        "path = \"/content/sample_data\"\n",
        "dir_list = os.listdir(path)\n",
        "\n",
        "print(\"Files and directories in '\", path, \"' :\")\n",
        "\n",
        "# print the list\n",
        "print(dir_list)"
      ]
    },
    {
      "cell_type": "markdown",
      "metadata": {
        "id": "2MIiFensTIbD"
      },
      "source": [
        "**Deleting Directory or Files using os:**<br>\n",
        "OS module proves different methods for removing directories and files in Python."
      ]
    },
    {
      "cell_type": "markdown",
      "metadata": {
        "id": "fyRbRijATVk-"
      },
      "source": [
        "**os.remove()**<br>\n",
        "method in os is used to remove or delete a file path. This method can not remove or delete a directory.\n",
        "\n",
        "Note:  If the specified path is a directory then OSError will be raised by the method."
      ]
    },
    {
      "cell_type": "markdown",
      "metadata": {
        "id": "I-jlNLjgUZNs"
      },
      "source": [
        "Suppose the file contained in the folder hi :"
      ]
    },
    {
      "cell_type": "markdown",
      "metadata": {
        "id": "zuPoyCp_T7nZ"
      },
      "source": [
        "![Screenshot 2021-11-07 151204.png](data:image/png;base64,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)"
      ]
    },
    {
      "cell_type": "code",
      "execution_count": null,
      "metadata": {
        "id": "RSIC_5u6ThpW"
      },
      "outputs": [],
      "source": [
        "os.remove(\"/content/hi/1f8c065c58768ceadb8d6f76c02ce17c.jpg\")"
      ]
    },
    {
      "cell_type": "markdown",
      "metadata": {
        "id": "Ea8PcQlqUKfv"
      },
      "source": [
        "![image.png](data:image/png;base64,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)"
      ]
    },
    {
      "cell_type": "markdown",
      "metadata": {
        "id": "6vaNp49GUSYl"
      },
      "source": [
        "**os.rmdir()**<br>\n",
        "method in os is used to remove or delete an empty directory. \n",
        "\n",
        "Note : OSError will be raised if the specified path is not an empty directory."
      ]
    },
    {
      "cell_type": "markdown",
      "metadata": {
        "id": "WkmZTaL-Xps_"
      },
      "source": [
        "![image.png](data:image/png;base64,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)"
      ]
    },
    {
      "cell_type": "code",
      "execution_count": null,
      "metadata": {
        "executionInfo": {
          "elapsed": 338,
          "status": "ok",
          "timestamp": 1636288088513,
          "user": {
            "displayName": "muntadher alkaabi",
            "photoUrl": "https://lh3.googleusercontent.com/a-/AOh14Gj1adaCWpR-cnwQQK4viQZvo0gyRf1A0y9AkvnPMt0=s64",
            "userId": "00221067971932357642"
          },
          "user_tz": -180
        },
        "id": "nMBLFeRUUrqJ"
      },
      "outputs": [],
      "source": [
        "os.rmdir(\"/content/hello/codelab/AILAB\")"
      ]
    },
    {
      "cell_type": "markdown",
      "metadata": {
        "id": "PG5bn70KXxUy"
      },
      "source": [
        "![image.png](data:image/png;base64,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)"
      ]
    },
    {
      "cell_type": "markdown",
      "metadata": {
        "id": "NbvzQhV5dGf7"
      },
      "source": [
        "**Check in if the file exists**<br>"
      ]
    },
    {
      "cell_type": "markdown",
      "metadata": {
        "id": "QzJqRK7Bc5I5"
      },
      "source": [
        "**os.path.exists():**<br>\n",
        " This method will check whether a file exists or not by passing the name of the file as a parameter.\n",
        " "
      ]
    },
    {
      "cell_type": "code",
      "execution_count": null,
      "metadata": {
        "colab": {
          "base_uri": "https://localhost:8080/"
        },
        "executionInfo": {
          "elapsed": 533,
          "status": "ok",
          "timestamp": 1636289666522,
          "user": {
            "displayName": "muntadher alkaabi",
            "photoUrl": "https://lh3.googleusercontent.com/a-/AOh14Gj1adaCWpR-cnwQQK4viQZvo0gyRf1A0y9AkvnPMt0=s64",
            "userId": "00221067971932357642"
          },
          "user_tz": -180
        },
        "id": "pAbMiWrPdTSE",
        "outputId": "994b22ba-e563-4e70-a65f-51917fcfe33c"
      },
      "outputs": [
        {
          "data": {
            "text/plain": [
              "True"
            ]
          },
          "metadata": {},
          "output_type": "display_data"
        }
      ],
      "source": [
        "os.path.exists(\"/content/codelab.txt\")  # check if file path are exists or not\n",
        "# os.path.exists return True if the file exists else return False"
      ]
    },
    {
      "cell_type": "markdown",
      "metadata": {},
      "source": [
        "**Rename the file**"
      ]
    },
    {
      "cell_type": "markdown",
      "metadata": {
        "id": "qsWiYdMjcIu7"
      },
      "source": [
        "**os.rename():**<br>\n",
        " A file hi.txt can be renamed to codelab.txt, using the function os.rename(). \n",
        " \n",
        "Note : The name of the file changes only if, the file exists and the user has sufficient privilege permission to change the file."
      ]
    },
    {
      "cell_type": "markdown",
      "metadata": {
        "id": "HEjqDaz1cjgr"
      },
      "source": [
        "![image.png](data:image/png;base64,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)"
      ]
    },
    {
      "cell_type": "code",
      "execution_count": null,
      "metadata": {
        "executionInfo": {
          "elapsed": 414,
          "status": "ok",
          "timestamp": 1636289447154,
          "user": {
            "displayName": "muntadher alkaabi",
            "photoUrl": "https://lh3.googleusercontent.com/a-/AOh14Gj1adaCWpR-cnwQQK4viQZvo0gyRf1A0y9AkvnPMt0=s64",
            "userId": "00221067971932357642"
          },
          "user_tz": -180
        },
        "id": "yB6epi8vcUsj"
      },
      "outputs": [],
      "source": [
        "os.rename(\n",
        "    src=\"/content/hi.txt\", dst=\"/content/codelab.txt\"\n",
        ")  # rename the old file to the new file name"
      ]
    },
    {
      "cell_type": "markdown",
      "metadata": {
        "id": "JVfK1yHScpgz"
      },
      "source": [
        "![image.png](data:image/png;base64,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)"
      ]
    },
    {
      "cell_type": "markdown",
      "metadata": {
        "id": "mRl6V_K2Xysz"
      },
      "source": [
        "**Creating files in python**"
      ]
    },
    {
      "cell_type": "markdown",
      "metadata": {
        "id": "wE7t-zyxanMj"
      },
      "source": [
        "**open:** \n",
        "open file and return a corresponding file object.\n",
        "\n",
        "**file** : is a path-like object giving the pathname (absolute or relative to the current working directory) of the file to be opened or an integer file descriptor of the file to be wrapped. (If a file descriptor is given, it is closed when the returned I/O object is closed unless closefd is set to False.)\n",
        "\n",
        "**mode** :  is an optional string that specifies the mode in which the file is opened. It defaults to 'r' which means open for reading in text mode. Other common values are 'w' for writing (truncating the file if it already exists)\n",
        "\n",
        "[read more.](https://docs.python.org/3/library/functions.html#open)"
      ]
    },
    {
      "cell_type": "code",
      "execution_count": null,
      "metadata": {
        "colab": {
          "base_uri": "https://localhost:8080/"
        },
        "executionInfo": {
          "elapsed": 315,
          "status": "ok",
          "timestamp": 1636289231000,
          "user": {
            "displayName": "muntadher alkaabi",
            "photoUrl": "https://lh3.googleusercontent.com/a-/AOh14Gj1adaCWpR-cnwQQK4viQZvo0gyRf1A0y9AkvnPMt0=s64",
            "userId": "00221067971932357642"
          },
          "user_tz": -180
        },
        "id": "R-WIAzQBaVdi",
        "outputId": "e05a6eb8-9fb6-4294-97b8-c48bb88077fa"
      },
      "outputs": [
        {
          "name": "stdout",
          "output_type": "stream",
          "text": [
            "the info in file hi.txt :\n",
            " hi codelab\n"
          ]
        }
      ],
      "source": [
        "# write\n",
        "with open(file=\"hi.txt\", mode=\"w\") as f:  # open the file\n",
        "    f.write(\"hi codelab\")  # write info to the opened file\n",
        "\n",
        "# read\n",
        "with open(file=\"hi.txt\", mode=\"r\") as f:  # open the file\n",
        "    info = f.read()  # read the info in the file\n",
        "    print(f\"the info in file hi.txt :\\n {info}\")  # printthe info"
      ]
    },
    {
      "cell_type": "markdown",
      "metadata": {
        "id": "woUNfapkciAW"
      },
      "source": [
        "![image.png](data:image/png;base64,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)"
      ]
    },
    {
      "cell_type": "markdown",
      "metadata": {
        "id": "ZLce-CdjkzL8"
      },
      "source": [
        "## Controlling the Flow of Program Execution\n",
        "\n",
        "As in most programing languages, Python allows program execution to branch when certain conditions are met, and it also allows arbitrary execution loops. Without such features, Python would not be very useful (or Turing complete). \n",
        "\n",
        "<h2 id=\"tocheading\">Table of Contents</h2>\n",
        "<div id=\"toc\"></div>"
      ]
    },
    {
      "cell_type": "markdown",
      "metadata": {
        "id": "9zJOA_A0kzL9"
      },
      "source": [
        "### If Statements\n",
        "\n",
        "In Python, *if-then-else* statements are specified using the keywords `if`, `elif` (else if), and `else` (else).  The general form is given below: \n",
        "\n",
        "    if condition1:\n",
        "        do_something\n",
        "    elif condition2:\n",
        "        do_something_else\n",
        "    ...\n",
        "    elif condition_n:\n",
        "        do_something_else\n",
        "    else:\n",
        "        if_all_else_fails_do_this\n",
        "\n",
        "The `elif` and  `else` clauses are optional. There can be many `elif` clauses, but there can be only 1 `else` clause in the `if`-`elif`-`else` sequence."
      ]
    },
    {
      "cell_type": "code",
      "execution_count": null,
      "metadata": {
        "colab": {
          "base_uri": "https://localhost:8080/"
        },
        "executionInfo": {
          "elapsed": 830,
          "status": "ok",
          "timestamp": 1621106822914,
          "user": {
            "displayName": "muntadher alkaabi",
            "photoUrl": "https://lh3.googleusercontent.com/a-/AOh14Gj1adaCWpR-cnwQQK4viQZvo0gyRf1A0y9AkvnPMt0=s64",
            "userId": "00221067971932357642"
          },
          "user_tz": -180
        },
        "id": "ChXSrEH-kzL-",
        "outputId": "b7239f12-e162-418a-8e91-895e7cedb503"
      },
      "outputs": [
        {
          "name": "stdout",
          "output_type": "stream",
          "text": [
            "value 3 is less than 5\n",
            "value 5 is in range [5,7)\n",
            "value 8 is in range [7,10)\n",
            "value 13 is greater than 10\n"
          ]
        }
      ],
      "source": [
        "def number_test(x):\n",
        "    if x > 10:\n",
        "        print(\"value \" + str(x) + \" is greater than 10\")\n",
        "    elif x >= 7 and x < 10:\n",
        "        print(\"value \" + str(x) + \" is in range [7,10)\")\n",
        "    elif x >= 5 and x < 7:\n",
        "        print(\"value \" + str(x) + \" is in range [5,7)\")\n",
        "    else:\n",
        "        print(\"value \" + str(x) + \" is less than 5\")\n",
        "\n",
        "\n",
        "number_test(3)\n",
        "number_test(5)\n",
        "number_test(8)\n",
        "number_test(13)"
      ]
    },
    {
      "cell_type": "markdown",
      "metadata": {
        "id": "QWDUUF9zkzL_"
      },
      "source": [
        "### While Loops\n",
        "\n",
        "Python provides both `while` loops and `for` loops. The former are arguably lower-level but not as natural-looking to a human eye. \n",
        "\n",
        "Below is a simple `while` loop. So long as the condition specified evaluates to a value comparable to `True`, the code in the body of the loop will be executed. As such, without the statement incrementing `i`, the loop would halt. "
      ]
    },
    {
      "cell_type": "code",
      "execution_count": null,
      "metadata": {
        "colab": {
          "base_uri": "https://localhost:8080/"
        },
        "executionInfo": {
          "elapsed": 762,
          "status": "ok",
          "timestamp": 1621106823357,
          "user": {
            "displayName": "muntadher alkaabi",
            "photoUrl": "https://lh3.googleusercontent.com/a-/AOh14Gj1adaCWpR-cnwQQK4viQZvo0gyRf1A0y9AkvnPMt0=s64",
            "userId": "00221067971932357642"
          },
          "user_tz": -180
        },
        "id": "8DkzWw_ukzL_",
        "outputId": "0bf53096-2b43-439a-d313-1711eaf4b9b8"
      },
      "outputs": [
        {
          "name": "stdout",
          "output_type": "stream",
          "text": [
            "h\n",
            "e\n",
            "l\n",
            "l\n",
            "o\n",
            " \n",
            "w\n",
            "o\n",
            "r\n",
            "l\n",
            "d\n"
          ]
        }
      ],
      "source": [
        "string = \"hello world\"\n",
        "length = len(string)\n",
        "i = 0\n",
        "while i < length:\n",
        "    print(string[i])\n",
        "    i = i + 1"
      ]
    },
    {
      "cell_type": "markdown",
      "metadata": {
        "id": "E-pqIt_GkzMA"
      },
      "source": [
        "Loops, including `while` loops, can contain `break` statements (which aborts execution of the loop) and `continue` statements (which tell the loop to proceed to the next cycle)."
      ]
    },
    {
      "cell_type": "code",
      "execution_count": 2,
      "metadata": {
        "colab": {
          "base_uri": "https://localhost:8080/"
        },
        "executionInfo": {
          "elapsed": 1115,
          "status": "ok",
          "timestamp": 1621106824251,
          "user": {
            "displayName": "muntadher alkaabi",
            "photoUrl": "https://lh3.googleusercontent.com/a-/AOh14Gj1adaCWpR-cnwQQK4viQZvo0gyRf1A0y9AkvnPMt0=s64",
            "userId": "00221067971932357642"
          },
          "user_tz": -180
        },
        "id": "_LKmclDYkzMA",
        "outputId": "8dafdf13-b8ee-4b3d-9d6d-f4addfff1590"
      },
      "outputs": [
        {
          "name": "stdout",
          "output_type": "stream",
          "text": [
            "found 'r' in 'hello world!'\n",
            "could not find 'z' in 'hello world!'\n",
            "occurrences of 'l': 3\n"
          ]
        }
      ],
      "source": [
        "def member(string, element):\n",
        "    length = len(string)\n",
        "    i = 0\n",
        "    while i < length:\n",
        "        if string[i] == element:\n",
        "            break\n",
        "        i = i + 1\n",
        "    if i != length:\n",
        "        print(\"found '\" + element + \"' in '\" + string + \"'\")\n",
        "        return True\n",
        "    else:\n",
        "        print(\"could not find '\" + element + \"' in '\" + string + \"'\")\n",
        "        return False\n",
        "\n",
        "\n",
        "def count(string, element):\n",
        "    length = len(string)\n",
        "    i = 0\n",
        "    counter = 0\n",
        "    while i < length:\n",
        "        if string[i] != element:\n",
        "            i = i + 1\n",
        "            continue\n",
        "        counter = counter + 1\n",
        "        i = i + 1\n",
        "    return counter\n",
        "\n",
        "\n",
        "member(\"hello world!\", \"r\")\n",
        "member(\"hello world!\", \"z\")\n",
        "print(\"occurrences of 'l': \" + str(count(\"hello world!\", \"l\")))"
      ]
    },
    {
      "cell_type": "markdown",
      "metadata": {
        "id": "qn1b52XekzMB"
      },
      "source": [
        "Below we sort a string, identifying its unique members. Then we use a `while` loop together with the previously defined `count` function to count the occurrences of each character. "
      ]
    },
    {
      "cell_type": "code",
      "execution_count": 3,
      "metadata": {
        "colab": {
          "base_uri": "https://localhost:8080/"
        },
        "executionInfo": {
          "elapsed": 1020,
          "status": "ok",
          "timestamp": 1621106824743,
          "user": {
            "displayName": "muntadher alkaabi",
            "photoUrl": "https://lh3.googleusercontent.com/a-/AOh14Gj1adaCWpR-cnwQQK4viQZvo0gyRf1A0y9AkvnPMt0=s64",
            "userId": "00221067971932357642"
          },
          "user_tz": -180
        },
        "id": "P-k5RA2HkzMC",
        "outputId": "4ce7e3e5-75ca-47c6-98f9-811167265ff7"
      },
      "outputs": [
        {
          "name": "stdout",
          "output_type": "stream",
          "text": [
            "[(' ', 1), ('d', 1), ('e', 1), ('h', 1), ('l', 3), ('o', 2), ('r', 1), ('w', 1)]\n"
          ]
        }
      ],
      "source": [
        "def unique_characters(raw_string):\n",
        "    # instead of set(raw_string), we'll create the set iteratively\n",
        "    # returning its characters as a sorted list\n",
        "    result = set()\n",
        "    i = 0\n",
        "    length = len(raw_string)\n",
        "    while i < length:\n",
        "        result.add(raw_string[i])\n",
        "        i = i + 1\n",
        "    return sorted(list(result))\n",
        "\n",
        "\n",
        "def character_count(raw_string):\n",
        "    sorted_string = unique_characters(raw_string)\n",
        "    length = len(sorted_string)\n",
        "    i = 0\n",
        "    result = []\n",
        "    while i < length:\n",
        "        result.append((sorted_string[i], count(raw_string, sorted_string[i])))\n",
        "        i = i + 1\n",
        "    return result\n",
        "\n",
        "\n",
        "print(character_count(\"hello world\"))"
      ]
    },
    {
      "cell_type": "markdown",
      "metadata": {
        "id": "ZVTHSM4kkzMC"
      },
      "source": [
        "It turns out that as far as loops and evaluating the truth of conditional statements are concerned, a great many values and not just `True` and `False` will suffice. E.g., nonzero numbers, or nonempty strings or lists will be taken as `True`, and 0 and empty lists, etc., will be taken as `False`. "
      ]
    },
    {
      "cell_type": "code",
      "execution_count": null,
      "metadata": {
        "colab": {
          "base_uri": "https://localhost:8080/"
        },
        "executionInfo": {
          "elapsed": 1181,
          "status": "ok",
          "timestamp": 1621106825588,
          "user": {
            "displayName": "muntadher alkaabi",
            "photoUrl": "https://lh3.googleusercontent.com/a-/AOh14Gj1adaCWpR-cnwQQK4viQZvo0gyRf1A0y9AkvnPMt0=s64",
            "userId": "00221067971932357642"
          },
          "user_tz": -180
        },
        "id": "gide2wqZkzMD",
        "outputId": "e8902e49-e044-4af4-ce2e-9fe46aeba970"
      },
      "outputs": [
        {
          "name": "stdout",
          "output_type": "stream",
          "text": [
            "True :aaaa\n",
            "1 :bbbb\n",
            "[6] :cccc\n",
            "hello :cccc\n",
            "world :cccc\n",
            "False :\n",
            "0 :\n",
            "[] :\n",
            "{} :\n",
            " :\n"
          ]
        }
      ],
      "source": [
        "def cond_test(x, s):\n",
        "    count = 0\n",
        "    print(x, \":\", end=\"\")\n",
        "    while x:\n",
        "        print(s, end=\"\")\n",
        "        count = count + 1\n",
        "        if count > 3:\n",
        "            break\n",
        "    print(\"\")\n",
        "\n",
        "\n",
        "cond_test(True, \"a\")\n",
        "cond_test(1, \"b\")\n",
        "cond_test([6], \"c\")\n",
        "cond_test((\"hello\"), \"c\")\n",
        "cond_test(\"world\", \"c\")\n",
        "cond_test(False, \"a\")\n",
        "cond_test(0, \"a\")\n",
        "cond_test([], \"a\")\n",
        "cond_test({}, \"a\")\n",
        "cond_test(\"\", \"a\")"
      ]
    },
    {
      "cell_type": "markdown",
      "metadata": {
        "id": "o6s2x1_FkzMD"
      },
      "source": [
        "### For Loops and the Range function\n",
        "\n",
        "In Python, `for` statements iterate over sequences and utilize the `in` keyword. Like `while` loops, `for` loops can contain `break` and `continue`. They can also contain `else` statements; these are executed when the loop ends via something other than `break`)."
      ]
    },
    {
      "cell_type": "code",
      "execution_count": null,
      "metadata": {
        "colab": {
          "base_uri": "https://localhost:8080/"
        },
        "executionInfo": {
          "elapsed": 1199,
          "status": "ok",
          "timestamp": 1621106826224,
          "user": {
            "displayName": "muntadher alkaabi",
            "photoUrl": "https://lh3.googleusercontent.com/a-/AOh14Gj1adaCWpR-cnwQQK4viQZvo0gyRf1A0y9AkvnPMt0=s64",
            "userId": "00221067971932357642"
          },
          "user_tz": -180
        },
        "id": "u3oKEbmDkzME",
        "outputId": "d1de42fe-237a-42f7-935c-551c51b74fc1"
      },
      "outputs": [
        {
          "name": "stdout",
          "output_type": "stream",
          "text": [
            "l , 3\n",
            "r , 1\n",
            "w , 1\n",
            "e , 1\n",
            "d , 1\n",
            "h , 1\n",
            "  , 1\n",
            "o , 2\n"
          ]
        }
      ],
      "source": [
        "raw_string = \"hello world\"\n",
        "characters = set(raw_string)\n",
        "for w in characters:\n",
        "    print(w, \",\", raw_string.count(w))"
      ]
    },
    {
      "cell_type": "markdown",
      "metadata": {
        "id": "AknjJNLCkzME"
      },
      "source": [
        "The `range()` function can be used to generate a sequence of numbers, which can then be used in a loop. "
      ]
    },
    {
      "cell_type": "code",
      "execution_count": null,
      "metadata": {
        "colab": {
          "base_uri": "https://localhost:8080/"
        },
        "executionInfo": {
          "elapsed": 509,
          "status": "ok",
          "timestamp": 1621106826226,
          "user": {
            "displayName": "muntadher alkaabi",
            "photoUrl": "https://lh3.googleusercontent.com/a-/AOh14Gj1adaCWpR-cnwQQK4viQZvo0gyRf1A0y9AkvnPMt0=s64",
            "userId": "00221067971932357642"
          },
          "user_tz": -180
        },
        "id": "8NrBd138kzME",
        "outputId": "39d16d16-f468-4aac-da5f-b6fddb95e672"
      },
      "outputs": [
        {
          "name": "stdout",
          "output_type": "stream",
          "text": [
            "0 0\n",
            "1 1\n",
            "2 4\n",
            "3 9\n",
            "4 16\n",
            "5 25\n",
            "6 36\n",
            "7 49\n",
            "8 64\n",
            "9 81\n",
            "10 100\n"
          ]
        }
      ],
      "source": [
        "x = range(11)\n",
        "for i in x:\n",
        "    print(i, i * i)"
      ]
    },
    {
      "cell_type": "markdown",
      "metadata": {
        "id": "_Mn-MisakzMF"
      },
      "source": [
        "Minimum and maximum (exlcusive) values can also be specified, as can an integer step-size."
      ]
    },
    {
      "cell_type": "code",
      "execution_count": null,
      "metadata": {
        "colab": {
          "base_uri": "https://localhost:8080/"
        },
        "executionInfo": {
          "elapsed": 532,
          "status": "ok",
          "timestamp": 1621106827177,
          "user": {
            "displayName": "muntadher alkaabi",
            "photoUrl": "https://lh3.googleusercontent.com/a-/AOh14Gj1adaCWpR-cnwQQK4viQZvo0gyRf1A0y9AkvnPMt0=s64",
            "userId": "00221067971932357642"
          },
          "user_tz": -180
        },
        "id": "kv_Ow0JFkzMF",
        "outputId": "be91fd81-f370-4101-f306-7733adf1142f"
      },
      "outputs": [
        {
          "name": "stdout",
          "output_type": "stream",
          "text": [
            "20\n",
            "22\n",
            "24\n",
            "26\n",
            "28\n",
            "30\n"
          ]
        }
      ],
      "source": [
        "x = range(20, 31, 2)\n",
        "for i in x:\n",
        "    print(i)"
      ]
    },
    {
      "cell_type": "code",
      "execution_count": null,
      "metadata": {
        "id": "xNcjOG08HHbu"
      },
      "outputs": [],
      "source": [
        "import tensorflow"
      ]
    },
    {
      "cell_type": "markdown",
      "metadata": {
        "id": "lzfLpS5wHHuK"
      },
      "source": [
        "## Python Classes/Objects\n",
        "Python is an object oriented programming language.\n",
        "\n",
        "Almost everything in Python is an object, with its properties and methods.\n",
        "\n",
        "A Class is like an object constructor, or a \"blueprint\" for creating objects.\n",
        "\n"
      ]
    },
    {
      "cell_type": "markdown",
      "metadata": {
        "id": "d8rAz2rPHOnr"
      },
      "source": [
        "### Create a Class\n",
        "To create a class, use the keyword class:\n",
        "\n"
      ]
    },
    {
      "cell_type": "code",
      "execution_count": 1,
      "metadata": {
        "id": "3KGcrs-GHMk2"
      },
      "outputs": [],
      "source": [
        "class MyClass:\n",
        "    x = 5"
      ]
    },
    {
      "cell_type": "markdown",
      "metadata": {
        "id": "VPhNka58HW8P"
      },
      "source": [
        "### Create Object\n",
        "Now we can use the class named MyClass to create objects:\n",
        "\n"
      ]
    },
    {
      "cell_type": "code",
      "execution_count": null,
      "metadata": {
        "colab": {
          "base_uri": "https://localhost:8080/"
        },
        "executionInfo": {
          "elapsed": 2105,
          "status": "ok",
          "timestamp": 1621106830821,
          "user": {
            "displayName": "muntadher alkaabi",
            "photoUrl": "https://lh3.googleusercontent.com/a-/AOh14Gj1adaCWpR-cnwQQK4viQZvo0gyRf1A0y9AkvnPMt0=s64",
            "userId": "00221067971932357642"
          },
          "user_tz": -180
        },
        "id": "laNJI79ZHMp1",
        "outputId": "c2169175-e3b5-430e-9b77-a6716085b5e0"
      },
      "outputs": [
        {
          "name": "stdout",
          "output_type": "stream",
          "text": [
            "5\n"
          ]
        }
      ],
      "source": [
        "# Create an object named p1, and print the value of x:\n",
        "\n",
        "p1 = MyClass()\n",
        "print(p1.x)"
      ]
    },
    {
      "cell_type": "markdown",
      "metadata": {
        "id": "V0eK1YW-HfGU"
      },
      "source": [
        "### The __init__() Function\n",
        "The examples above are classes and objects in their simplest form, and are not really useful in real life applications.\n",
        "\n",
        "To understand the meaning of classes we have to understand the built-in __init__() function.\n",
        "\n",
        "All classes have a function called __init__(), which is always executed when the class is being initiated.\n",
        "\n",
        "Use the __init__() function to assign values to object properties, or other operations that are necessary to do when the object is being created:"
      ]
    },
    {
      "cell_type": "code",
      "execution_count": null,
      "metadata": {
        "colab": {
          "base_uri": "https://localhost:8080/"
        },
        "executionInfo": {
          "elapsed": 1947,
          "status": "ok",
          "timestamp": 1621106831284,
          "user": {
            "displayName": "muntadher alkaabi",
            "photoUrl": "https://lh3.googleusercontent.com/a-/AOh14Gj1adaCWpR-cnwQQK4viQZvo0gyRf1A0y9AkvnPMt0=s64",
            "userId": "00221067971932357642"
          },
          "user_tz": -180
        },
        "id": "0dNCZLpJHeV2",
        "outputId": "41a4a361-e416-4152-f375-8e2202e2ee97"
      },
      "outputs": [
        {
          "name": "stdout",
          "output_type": "stream",
          "text": [
            "John\n",
            "36\n",
            "****************************************\n",
            "ali\n",
            "40\n"
          ]
        }
      ],
      "source": [
        "# Create a class named Person, use the __init__() function to assign values for name and age:\n",
        "\n",
        "\n",
        "class Person:\n",
        "    def __init__(self, name, age):\n",
        "        self.name = name\n",
        "        self.age = age\n",
        "\n",
        "\n",
        "p1 = Person(\"John\", 36)\n",
        "p2 = Person(\"ali\", 40)\n",
        "\n",
        "print(p1.name)\n",
        "print(p1.age)\n",
        "print(\"*\" * 40)\n",
        "print(p2.name)\n",
        "print(p2.age)\n",
        "\n",
        "# Note: The __init__() function is called automatically every time the class is being used to create a new object."
      ]
    },
    {
      "cell_type": "markdown",
      "metadata": {
        "id": "ZIgJYfZAIJ_T"
      },
      "source": [
        "### Object Methods\n",
        "Objects can also contain methods. Methods in objects are functions that belong to the object.\n",
        "\n",
        "Let us create a method in the Person class:"
      ]
    },
    {
      "cell_type": "code",
      "execution_count": null,
      "metadata": {
        "colab": {
          "base_uri": "https://localhost:8080/"
        },
        "executionInfo": {
          "elapsed": 828,
          "status": "ok",
          "timestamp": 1621106831285,
          "user": {
            "displayName": "muntadher alkaabi",
            "photoUrl": "https://lh3.googleusercontent.com/a-/AOh14Gj1adaCWpR-cnwQQK4viQZvo0gyRf1A0y9AkvnPMt0=s64",
            "userId": "00221067971932357642"
          },
          "user_tz": -180
        },
        "id": "m_7AMj4yHeZf",
        "outputId": "e2e094ec-d92f-4448-f822-3a8d0fc14aba"
      },
      "outputs": [
        {
          "name": "stdout",
          "output_type": "stream",
          "text": [
            "Hello my name is John\n"
          ]
        }
      ],
      "source": [
        "class Person:\n",
        "    def __init__(self, name, age):\n",
        "        self.name = name\n",
        "        self.age = age\n",
        "\n",
        "    def myfunc(self):\n",
        "        print(\"Hello my name is \" + self.name)\n",
        "\n",
        "\n",
        "p1 = Person(\"John\", 36)\n",
        "p1.myfunc()\n",
        "# Note: The self parameter is a reference to the current instance of the class, and is used to access variables that belong to the class."
      ]
    },
    {
      "cell_type": "markdown",
      "metadata": {
        "id": "Ch5apAO8IV9Y"
      },
      "source": [
        "### The self Parameter\n",
        "The self parameter is a reference to the current instance of the class, and is used to access variables that belongs to the class.\n",
        "\n",
        "It does not have to be named self , you can call it whatever you like, but it has to be the first parameter of any function in the class:"
      ]
    },
    {
      "cell_type": "code",
      "execution_count": 3,
      "metadata": {
        "colab": {
          "base_uri": "https://localhost:8080/"
        },
        "executionInfo": {
          "elapsed": 853,
          "status": "ok",
          "timestamp": 1621106833255,
          "user": {
            "displayName": "muntadher alkaabi",
            "photoUrl": "https://lh3.googleusercontent.com/a-/AOh14Gj1adaCWpR-cnwQQK4viQZvo0gyRf1A0y9AkvnPMt0=s64",
            "userId": "00221067971932357642"
          },
          "user_tz": -180
        },
        "id": "Uci2rpoUIVJU",
        "outputId": "f0fde283-fa54-4285-fe06-9a9c855605ee"
      },
      "outputs": [
        {
          "name": "stdout",
          "output_type": "stream",
          "text": [
            "Hello my name is John\n"
          ]
        }
      ],
      "source": [
        "class Person:\n",
        "    def __init__(mysillyobject, name, age):\n",
        "        mysillyobject.name = name\n",
        "        mysillyobject.age = age\n",
        "\n",
        "    def myfunc(abc):\n",
        "        print(\"Hello my name is \" + abc.name)\n",
        "\n",
        "\n",
        "p1 = Person(\"John\", 36)\n",
        "p1.myfunc()"
      ]
    },
    {
      "cell_type": "markdown",
      "metadata": {
        "id": "RuEYylyyIykE"
      },
      "source": [
        "### Modify Object Properties\n",
        "You can modify properties on objects like this:"
      ]
    },
    {
      "cell_type": "code",
      "execution_count": null,
      "metadata": {
        "id": "lObR5zAUIVNC"
      },
      "outputs": [],
      "source": [
        "p1.age = 40"
      ]
    },
    {
      "cell_type": "markdown",
      "metadata": {
        "id": "DZ3usOtgI5c0"
      },
      "source": [
        "### Delete Object Properties\n",
        "You can delete properties on objects by using the del keyword:"
      ]
    },
    {
      "cell_type": "code",
      "execution_count": null,
      "metadata": {
        "id": "nctDwQVDIVQ9"
      },
      "outputs": [],
      "source": [
        "del p1.age"
      ]
    },
    {
      "cell_type": "code",
      "execution_count": null,
      "metadata": {
        "colab": {
          "base_uri": "https://localhost:8080/",
          "height": 162
        },
        "executionInfo": {
          "elapsed": 902,
          "status": "error",
          "timestamp": 1621106835434,
          "user": {
            "displayName": "muntadher alkaabi",
            "photoUrl": "https://lh3.googleusercontent.com/a-/AOh14Gj1adaCWpR-cnwQQK4viQZvo0gyRf1A0y9AkvnPMt0=s64",
            "userId": "00221067971932357642"
          },
          "user_tz": -180
        },
        "id": "XY3K4GHjIVUd",
        "outputId": "bd024d24-90a0-48d1-dd8d-4d8b3805c63d"
      },
      "outputs": [
        {
          "ename": "AttributeError",
          "evalue": "ignored",
          "output_type": "error",
          "traceback": [
            "\u001b[0;31m---------------------------------------------------------------------------\u001b[0m",
            "\u001b[0;31mAttributeError\u001b[0m                            Traceback (most recent call last)",
            "\u001b[0;32m<ipython-input-76-bdf2744a45d7>\u001b[0m in \u001b[0;36m<module>\u001b[0;34m()\u001b[0m\n\u001b[0;32m----> 1\u001b[0;31m \u001b[0mp1\u001b[0m\u001b[0;34m.\u001b[0m\u001b[0mage\u001b[0m\u001b[0;34m\u001b[0m\u001b[0;34m\u001b[0m\u001b[0m\n\u001b[0m",
            "\u001b[0;31mAttributeError\u001b[0m: 'Person' object has no attribute 'age'"
          ]
        }
      ],
      "source": [
        "p1.age"
      ]
    },
    {
      "cell_type": "markdown",
      "metadata": {
        "id": "ELbUMKIVJDQu"
      },
      "source": [
        "**Delete Objects:**\n",
        "You can delete objects by using the del keyword:"
      ]
    },
    {
      "cell_type": "code",
      "execution_count": null,
      "metadata": {
        "id": "LbZOFYLiI-jX"
      },
      "outputs": [],
      "source": [
        "del p1"
      ]
    },
    {
      "cell_type": "markdown",
      "metadata": {
        "id": "y2FlhfK6JIaE"
      },
      "source": [
        "### The pass Statement\n",
        "class definitions cannot be empty, but if you for some reason have a class definition with no content, put in the pass statement to avoid getting an error."
      ]
    },
    {
      "cell_type": "code",
      "execution_count": 4,
      "metadata": {
        "id": "26T-MhIBJJzp"
      },
      "outputs": [],
      "source": [
        "class Person:\n",
        "    pass"
      ]
    },
    {
      "cell_type": "markdown",
      "metadata": {
        "id": "tfS6HDtnGbed"
      },
      "source": [
        "## Iterators\n",
        "Python Iterators\n",
        "An iterator is an object that contains a countable number of values.\n",
        "\n",
        "An iterator is an object that can be iterated upon, meaning that you can traverse through all the values.\n",
        "\n",
        "Technically, in Python, an iterator is an object which implements the iterator protocol, which consist of the methods __iter__() and __next__().\n",
        "\n"
      ]
    },
    {
      "cell_type": "markdown",
      "metadata": {
        "id": "ujbqpdMTGiXX"
      },
      "source": [
        "### Iterator vs Iterable\n",
        "Lists, tuples, dictionaries, and sets are all iterable objects. They are iterable containers which you can get an iterator from.\n",
        "\n",
        "All these objects have a iter() method which is used to get an iterator:"
      ]
    },
    {
      "cell_type": "code",
      "execution_count": null,
      "metadata": {
        "colab": {
          "base_uri": "https://localhost:8080/"
        },
        "executionInfo": {
          "elapsed": 868,
          "status": "ok",
          "timestamp": 1621106838536,
          "user": {
            "displayName": "muntadher alkaabi",
            "photoUrl": "https://lh3.googleusercontent.com/a-/AOh14Gj1adaCWpR-cnwQQK4viQZvo0gyRf1A0y9AkvnPMt0=s64",
            "userId": "00221067971932357642"
          },
          "user_tz": -180
        },
        "id": "OQxACz7hGhnO",
        "outputId": "a5c68d31-8409-47c6-bf6a-d8ca8ec6f71d"
      },
      "outputs": [
        {
          "name": "stdout",
          "output_type": "stream",
          "text": [
            "apple\n",
            "banana\n",
            "cherry\n"
          ]
        }
      ],
      "source": [
        "mytuple = (\"apple\", \"banana\", \"cherry\")\n",
        "myit = iter(mytuple)\n",
        "\n",
        "print(next(myit))\n",
        "print(next(myit))\n",
        "print(next(myit))"
      ]
    },
    {
      "cell_type": "markdown",
      "metadata": {
        "id": "gk9i3DtbGpf4"
      },
      "source": [
        "Even strings are iterable objects, and can return an iterator:\n",
        "\n"
      ]
    },
    {
      "cell_type": "code",
      "execution_count": null,
      "metadata": {
        "colab": {
          "base_uri": "https://localhost:8080/"
        },
        "executionInfo": {
          "elapsed": 504,
          "status": "ok",
          "timestamp": 1621106838971,
          "user": {
            "displayName": "muntadher alkaabi",
            "photoUrl": "https://lh3.googleusercontent.com/a-/AOh14Gj1adaCWpR-cnwQQK4viQZvo0gyRf1A0y9AkvnPMt0=s64",
            "userId": "00221067971932357642"
          },
          "user_tz": -180
        },
        "id": "JtCT6n4QGecM",
        "outputId": "5ea5e389-3594-403c-8f26-91ef8a71dd40"
      },
      "outputs": [
        {
          "name": "stdout",
          "output_type": "stream",
          "text": [
            "b\n",
            "a\n",
            "n\n",
            "a\n",
            "n\n",
            "a\n"
          ]
        }
      ],
      "source": [
        "mystr = \"banana\"\n",
        "myit = iter(mystr)\n",
        "\n",
        "print(next(myit))\n",
        "print(next(myit))\n",
        "print(next(myit))\n",
        "print(next(myit))\n",
        "print(next(myit))\n",
        "print(next(myit))"
      ]
    },
    {
      "cell_type": "markdown",
      "metadata": {
        "id": "a_PRi4_oGwVA"
      },
      "source": [
        "### Looping Through an Iterator\n",
        "We can also use a for loop to iterate through an iterable object:\n",
        "\n"
      ]
    },
    {
      "cell_type": "code",
      "execution_count": null,
      "metadata": {
        "colab": {
          "base_uri": "https://localhost:8080/"
        },
        "executionInfo": {
          "elapsed": 1017,
          "status": "ok",
          "timestamp": 1621106840259,
          "user": {
            "displayName": "muntadher alkaabi",
            "photoUrl": "https://lh3.googleusercontent.com/a-/AOh14Gj1adaCWpR-cnwQQK4viQZvo0gyRf1A0y9AkvnPMt0=s64",
            "userId": "00221067971932357642"
          },
          "user_tz": -180
        },
        "id": "eta_n_1PGsml",
        "outputId": "63a01a67-fa18-466f-bd9e-80b311cc72ba"
      },
      "outputs": [
        {
          "name": "stdout",
          "output_type": "stream",
          "text": [
            "apple\n",
            "banana\n",
            "cherry\n"
          ]
        }
      ],
      "source": [
        "mytuple = (\"apple\", \"banana\", \"cherry\")\n",
        "\n",
        "for x in mytuple:\n",
        "    print(x)\n",
        "\n",
        "# The for loop actually creates an iterator object and executes the next() method for each loop."
      ]
    },
    {
      "cell_type": "markdown",
      "metadata": {
        "id": "cAw4y1XwJnaU"
      },
      "source": [
        "### Create an Iterator\n",
        "To create an object/class as an iterator you have to implement the methods __iter__() and __next__() to your object.\n",
        "\n",
        "As you have learned in the Python Classes/Objects chapter, all classes have a function called __init__(), which allows you to do some initializing when the object is being created.\n",
        "\n",
        "The __iter__() method acts similar, you can do operations (initializing etc.), but must always return the iterator object itself.\n",
        "\n",
        "The __next__() method also allows you to do operations, and must return the next item in the sequence."
      ]
    },
    {
      "cell_type": "code",
      "execution_count": 5,
      "metadata": {
        "colab": {
          "base_uri": "https://localhost:8080/"
        },
        "executionInfo": {
          "elapsed": 1189,
          "status": "ok",
          "timestamp": 1621106841249,
          "user": {
            "displayName": "muntadher alkaabi",
            "photoUrl": "https://lh3.googleusercontent.com/a-/AOh14Gj1adaCWpR-cnwQQK4viQZvo0gyRf1A0y9AkvnPMt0=s64",
            "userId": "00221067971932357642"
          },
          "user_tz": -180
        },
        "id": "CoOZviE1G1Cx",
        "outputId": "eaff5823-d1c3-4550-d552-b70cdee783bc"
      },
      "outputs": [
        {
          "name": "stdout",
          "output_type": "stream",
          "text": [
            "1\n",
            "2\n",
            "3\n",
            "4\n",
            "5\n"
          ]
        }
      ],
      "source": [
        "class MyNumbers:\n",
        "    def __iter__(self):\n",
        "        self.a = 1\n",
        "        return self\n",
        "\n",
        "    def __next__(self):\n",
        "        x = self.a\n",
        "        self.a += 1\n",
        "        return x\n",
        "\n",
        "\n",
        "myclass = MyNumbers()\n",
        "myiter = iter(myclass)\n",
        "\n",
        "print(next(myiter))\n",
        "print(next(myiter))\n",
        "print(next(myiter))\n",
        "print(next(myiter))\n",
        "print(next(myiter))"
      ]
    },
    {
      "cell_type": "markdown",
      "metadata": {},
      "source": [
        "## Python exercise"
      ]
    },
    {
      "cell_type": "markdown",
      "metadata": {
        "id": "wayUiS3YDfrp"
      },
      "source": [
        "### Create a database for university students.\n",
        "Now is the time to put into practice what we learned this week we will create a database for university students. Each student has his own id that contains student information and also his grades and can be used to calculate a student's mean of the student grade."
      ]
    },
    {
      "cell_type": "markdown",
      "metadata": {
        "id": "SR0seEpIouwu"
      },
      "source": [
        "1 - Define a dictionary  called Students\n",
        "\n",
        "2 - The keys of the Students should Special id\n",
        "\n",
        "3 - Create class call (Student).\n",
        "\n",
        "4 - In (Student) Create method call it (student_info) , it contains\n",
        "(student_name,student_age ,gender ,address,city and a dictionary called student_grade that have the keys of (\u2018Math\u2019, \u2019Science\u2019, \u2018English\u2019)\n",
        "\n",
        "5 - Create a method inside the Student class call (student_evaluation), so it returns the mean of the student_grade.\n"
      ]
    },
    {
      "cell_type": "code",
      "execution_count": 16,
      "metadata": {
        "executionInfo": {
          "elapsed": 352,
          "status": "ok",
          "timestamp": 1636317348019,
          "user": {
            "displayName": "muntadher alkaabi",
            "photoUrl": "https://lh3.googleusercontent.com/a-/AOh14Gj1adaCWpR-cnwQQK4viQZvo0gyRf1A0y9AkvnPMt0=s64",
            "userId": "00221067971932357642"
          },
          "user_tz": -180
        },
        "id": "Z6lIDHsqohTM"
      },
      "outputs": [],
      "source": [
        "Students = {}"
      ]
    },
    {
      "cell_type": "markdown",
      "metadata": {},
      "source": [
        "### Inheritance\n",
        "Inheritance is a process by which one class acquires the properties and methods of another, and it is used to define a subclass, derived class, that inherits the features of its base class.\n"
      ]
    },
    {
      "cell_type": "code",
      "execution_count": 6,
      "metadata": {
        "executionInfo": {
          "elapsed": 2,
          "status": "ok",
          "timestamp": 1636317348472,
          "user": {
            "displayName": "muntadher alkaabi",
            "photoUrl": "https://lh3.googleusercontent.com/a-/AOh14Gj1adaCWpR-cnwQQK4viQZvo0gyRf1A0y9AkvnPMt0=s64",
            "userId": "00221067971932357642"
          },
          "user_tz": -180
        },
        "id": "G0u4KhdapMUe"
      },
      "outputs": [],
      "source": [
        "class Person:\n",
        "    def __init__(self, name, age, gender, address, city):\n",
        "\n",
        "        self.name = name\n",
        "        self.age = age\n",
        "        self.gender = gender\n",
        "        self.address = address\n",
        "        self.city = city\n",
        "\n",
        "    def print_info(self):\n",
        "\n",
        "        return {\n",
        "            \"name\": self.name,\n",
        "            \"age\": self.age,\n",
        "            \"gender\": self.gender,\n",
        "            \"address\": self.address,\n",
        "            \"city\": self.city,\n",
        "        }\n",
        "\n",
        "\n",
        "class Student(Person):\n",
        "    def __init__(self, name, age, gender, address, city, grade):\n",
        "        # By using the super() function, you do not have to use the name of the parent element,\n",
        "        # it will automatically inherit the methods and properties from its parent.\n",
        "        super().__init__(name, age, gender, address, city)\n",
        "        self.grade = grade\n",
        "\n",
        "    def student_evaluation(self):\n",
        "\n",
        "        \"\"\"\n",
        "        Here we use both python's built in functions (sum, len) to help us in finding the mean\n",
        "        sum function take the list of numbers as an input value and return their sum as an output\n",
        "        len function take a list and return the number of item of the list as an output\n",
        "        \"\"\"\n",
        "\n",
        "        print(self.grade)\n",
        "        the_mean_value = sum(self.grade.values()) / len(self.grade.values())\n",
        "\n",
        "        return the_mean_value"
      ]
    },
    {
      "cell_type": "markdown",
      "metadata": {
        "id": "YQ91PTYOjivf"
      },
      "source": [
        "6 - Define  at least three students using an input  method with a loop"
      ]
    },
    {
      "cell_type": "code",
      "execution_count": null,
      "metadata": {
        "colab": {
          "base_uri": "https://localhost:8080/"
        },
        "executionInfo": {
          "elapsed": 39939,
          "status": "ok",
          "timestamp": 1636317389146,
          "user": {
            "displayName": "muntadher alkaabi",
            "photoUrl": "https://lh3.googleusercontent.com/a-/AOh14Gj1adaCWpR-cnwQQK4viQZvo0gyRf1A0y9AkvnPMt0=s64",
            "userId": "00221067971932357642"
          },
          "user_tz": -180
        },
        "id": "IfAPwGI_8yv-",
        "outputId": "3075be5a-e43b-42e0-e7c5-205fc3ec55f1"
      },
      "outputs": [],
      "source": [
        "j = 0\n",
        "while True:\n",
        "    j += 1\n",
        "    student_name = input(f\"{j}\\nEnter name of student : \")\n",
        "    student_age = int(input(\"Enter age of student : \"))\n",
        "    gender = input(\"Enter gender of student: \")\n",
        "    address = input(\"Enter address of student : \")\n",
        "    city = input(\"Enter city of student : \")\n",
        "    math = int(input(\"Enter Math degree of student : \"))\n",
        "    science = int(input(\"Enter Science degree of student : \"))\n",
        "    english = int(input(\"Enter English degree of student : \"))\n",
        "    Students[j] = Student(\n",
        "        student_name,\n",
        "        student_age,\n",
        "        gender,\n",
        "        address,\n",
        "        city,\n",
        "        {\"Math\": math, \"Science\": science, \"English\": english},\n",
        "    )\n",
        "    end_loop = input(\" if you finish your input enter end:)  \")\n",
        "    if end_loop == \"end\":\n",
        "        break  # break the loop\n",
        "    print(\"*\" * 50)"
      ]
    }
  ],
  "metadata": {
    "colab": {
      "collapsed_sections": [
        "EFg25iKI5mQ3"
      ],
      "name": "1- Python Basics.ipynb",
      "provenance": []
    },
    "kernelspec": {
      "display_name": "Python 3",
      "language": "python",
      "name": "python3"
    },
    "language_info": {
      "codemirror_mode": {
        "name": "ipython",
        "version": 3
      },
      "file_extension": ".py",
      "mimetype": "text/x-python",
      "name": "python",
      "nbconvert_exporter": "python",
      "pygments_lexer": "ipython3",
      "version": "3.8.7"
    }
  },
  "nbformat": 4,
  "nbformat_minor": 0
}