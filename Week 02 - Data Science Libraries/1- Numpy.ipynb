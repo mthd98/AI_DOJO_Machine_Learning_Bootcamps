{
 "cells": [
  {
   "cell_type": "markdown",
   "metadata": {
    "id": "K1LGPsaehJdf"
   },
   "source": [
    "# Numpy\n",
    "\n",
    "<!--<badge>--><a href=\"https://colab.research.google.com/github/TheAIDojo/Machine_Learning_Bootcamp/blob/main/Week 02 - Data Science Libraries/1- Numpy.ipynb\" target=\"_parent\"><img src=\"https://colab.research.google.com/assets/colab-badge.svg\" alt=\"Open In Colab\"/></a><!--</badge>-->\n",
    "\n",
    "Numpy (http://www.numpy.org/) is a Python software library providing support for the creation and manipulation of mult-dimensional arrays. These notes provide a brief overview of NumPy's features. More detail can be found in the NumPy Quickstart Tutorial.\n",
    "\n",
    "*  [Quick Start](https://docs.scipy.org/doc/numpy/user/quickstart.html)\n",
    "*  [Cheatsheet](https://assets.datacamp.com/blog_assets/Numpy_Python_Cheat_Sheet.pdf)"
   ]
  },
  {
   "cell_type": "markdown",
   "metadata": {
    "id": "LhFdJ57WA3oZ"
   },
   "source": [
    "Since Numpy is a 3rd party library, we need to install it first. using `!` in the beginning of a cell runs the command using the terminal instead of python, we use `pip` which is Python's package manager to install.\n"
   ]
  },
  {
   "cell_type": "code",
   "execution_count": null,
   "metadata": {
    "colab": {
     "base_uri": "https://localhost:8080/"
    },
    "executionInfo": {
     "elapsed": 3993,
     "status": "ok",
     "timestamp": 1636373352943,
     "user": {
      "displayName": "muntadher alkaabi",
      "photoUrl": "https://lh3.googleusercontent.com/a-/AOh14Gj1adaCWpR-cnwQQK4viQZvo0gyRf1A0y9AkvnPMt0=s64",
      "userId": "00221067971932357642"
     },
     "user_tz": -180
    },
    "id": "geO9lSo7A0L3",
    "outputId": "5bad69c2-eb6f-45ed-8981-7085d0d6da79"
   },
   "outputs": [
    {
     "name": "stdout",
     "output_type": "stream",
     "text": [
      "Requirement already satisfied: numpy in /usr/local/lib/python3.7/dist-packages (1.19.5)\n"
     ]
    }
   ],
   "source": [
    "!pip install numpy"
   ]
  },
  {
   "cell_type": "markdown",
   "metadata": {
    "id": "VjjhnMUHhJdg"
   },
   "source": [
    "## NumPy Arrays\n",
    "\n",
    "The fundamental data type defined by NumPy is the `ndarray`, or multi-dimensional array, which itself defines several fields, among them: \n",
    "\n",
    "  * `ndarray.ndim` the number of dimensions defined by the array. \n",
    "  * `ndarray.shape`, a tuple of integers indicating the cardinality of each dimension. \n",
    "  * `ndarray.size`, the number of elements in the array. \n",
    "  * `ndarray.dtype`, the data type of the array elements (e.g., ints, floats, etc. ). \n"
   ]
  },
  {
   "cell_type": "markdown",
   "metadata": {
    "id": "OcudhJxahJdg"
   },
   "source": [
    "## Creating Arrays\n",
    "\n",
    "There are a number of way to create a new array, including arrays of 0s and 1s. There are also ways of creating new arrays by reshaping existing ones. "
   ]
  },
  {
   "cell_type": "code",
   "execution_count": null,
   "metadata": {
    "colab": {
     "base_uri": "https://localhost:8080/"
    },
    "executionInfo": {
     "elapsed": 64,
     "status": "ok",
     "timestamp": 1638014076183,
     "user": {
      "displayName": "muntadher alkaabi",
      "photoUrl": "https://lh3.googleusercontent.com/a-/AOh14Gj1adaCWpR-cnwQQK4viQZvo0gyRf1A0y9AkvnPMt0=s64",
      "userId": "00221067971932357642"
     },
     "user_tz": -180
    },
    "id": "LCNT3OPAhJdg",
    "outputId": "04c10aeb-e055-4c8a-b39f-f6e4c4d1e3ca"
   },
   "outputs": [
    {
     "name": "stdout",
     "output_type": "stream",
     "text": [
      "Array 0:\n",
      "----------------------------------------\n",
      "[[1 2 3]\n",
      " [4 5 6]\n",
      " [4 5 6]]\n",
      "dimensions: 2\n",
      "shape: (3, 3)\n",
      "size: 9\n",
      "dtype: int64\n",
      "\n",
      "\n",
      "Array 1:\n",
      "----------------------------------------\n",
      "[1. 2. 3. 4. 5.]\n",
      "dimensions: 1\n",
      "shape: (5,)\n",
      "size: 5\n",
      "dtype: float64\n",
      "\n",
      "\n",
      "Array 2:\n",
      "----------------------------------------\n",
      "[[1. 1.]\n",
      " [1. 1.]]\n",
      "dimensions: 2\n",
      "shape: (2, 2)\n",
      "size: 4\n",
      "dtype: float64\n",
      "\n",
      "\n",
      "Array 3:\n",
      "----------------------------------------\n",
      "[[0 0 0 0 0]\n",
      " [0 0 0 0 0]]\n",
      "dimensions: 2\n",
      "shape: (2, 5)\n",
      "size: 10\n",
      "dtype: int16\n",
      "\n",
      "\n",
      "Array 4:\n",
      "----------------------------------------\n",
      "[0 1 2 3 4 5 6 7 8 9]\n",
      "dimensions: 1\n",
      "shape: (10,)\n",
      "size: 10\n",
      "dtype: int64\n",
      "\n",
      "\n",
      "Array 5:\n",
      "----------------------------------------\n",
      "[0.  0.5 1.  1.5 2.  2.5 3.  3.5 4.  4.5 5.  5.5 6.  6.5 7.  7.5 8.  8.5\n",
      " 9.  9.5]\n",
      "dimensions: 1\n",
      "shape: (20,)\n",
      "size: 20\n",
      "dtype: float64\n",
      "\n",
      "\n",
      "Array 6:\n",
      "----------------------------------------\n",
      "[ 0.          3.33333333  6.66666667 10.         13.33333333 16.66666667\n",
      " 20.         23.33333333 26.66666667 30.        ]\n",
      "dimensions: 1\n",
      "shape: (10,)\n",
      "size: 10\n",
      "dtype: float64\n",
      "\n",
      "\n",
      "Array 7:\n",
      "----------------------------------------\n",
      "[[0.24830542 0.31335183 0.50459325]\n",
      " [0.10734511 0.11296924 0.86011966]]\n",
      "dimensions: 2\n",
      "shape: (2, 3)\n",
      "size: 6\n",
      "dtype: float64\n",
      "\n",
      "\n",
      "Array 8:\n",
      "----------------------------------------\n",
      "[[0 0 0 0 0 0 0 0 0 0]]\n",
      "dimensions: 2\n",
      "shape: (1, 10)\n",
      "size: 10\n",
      "dtype: int16\n",
      "\n",
      "\n",
      "Array 9:\n",
      "----------------------------------------\n",
      "[[1 1 1 1 1 1 1 1 1 1]]\n",
      "dimensions: 2\n",
      "shape: (1, 10)\n",
      "size: 10\n",
      "dtype: int16\n",
      "\n",
      "\n",
      "Array 10:\n",
      "----------------------------------------\n",
      "[[[8 8 8 8 8 8]\n",
      "  [8 8 8 8 8 8]]\n",
      "\n",
      " [[8 8 8 8 8 8]\n",
      "  [8 8 8 8 8 8]]]\n",
      "dimensions: 3\n",
      "shape: (2, 2, 6)\n",
      "size: 24\n",
      "dtype: int64\n",
      "\n",
      "\n",
      "Array 11:\n",
      "----------------------------------------\n",
      "[[1. 0. 0. 0.]\n",
      " [0. 1. 0. 0.]\n",
      " [0. 0. 1. 0.]\n",
      " [0. 0. 0. 1.]]\n",
      "dimensions: 2\n",
      "shape: (4, 4)\n",
      "size: 16\n",
      "dtype: float64\n",
      "\n",
      "\n"
     ]
    }
   ],
   "source": [
    "import numpy as np  # this is a third party library and needs to be installed first before importing it\n",
    "import time  # this is a built in library, you don't need to install it. We will use it lates to measure the difference between running operations on lists vs numpy vectors\n",
    "\n",
    "# We define this function to quickly show the different properties of a Numpy array\n",
    "def describe_it(ar):\n",
    "    \"\"\"Print out a summary of an array.\"\"\"\n",
    "    print(f\"dimensions: {ar.ndim}\")\n",
    "    print(f\"shape: {ar.shape}\")\n",
    "    print(f\"size: {ar.size}\")\n",
    "    print(f\"dtype: {ar.dtype}\")\n",
    "\n",
    "\n",
    "line1 = [1, 2, 3]\n",
    "line2 = [4, 5, 6]\n",
    "\n",
    "array1 = np.array([line1, line2, line2])  # create a 2 x 3 array from the two lines.\n",
    "\n",
    "array2 = np.array(\n",
    "    (1, 2, 3, 4, 5), dtype=np.float64\n",
    ")  # create a 1x5 arrray of 64 bit floats.\n",
    "\n",
    "array3 = np.ones((2, 2))  # create a 2x2 arrray of ones (floats, by default).\n",
    "\n",
    "array4 = np.zeros((2, 5), dtype=np.int16)  # create a 2x5 arrray of integer zeros.\n",
    "\n",
    "array5 = np.arange(10)  # create an ndarray of 10 elements (0-9)\n",
    "\n",
    "array6 = np.arange(0, 10, 0.5)  # create an ndarray of 0 to 10 with step size of 0.5\n",
    "\n",
    "array7 = np.linspace(0, 30, 10)  # create an ndarray of 10 numbers in range [0,30]\n",
    "\n",
    "array8 = np.random.rand(\n",
    "    2, 3\n",
    ")  # create a 2x3 array with random numbers taken from uniform dist. [0,1]\n",
    "\n",
    "\n",
    "array9 = array4.reshape(1, 10)  # reshape array 4 into 1 row of 10.\n",
    "\n",
    "\n",
    "array10 = np.ones_like(array9)  # creat an array of ones have the same shape of array9\n",
    "\n",
    "array11 = np.full(\n",
    "    shape=(2, 2, 6), fill_value=8\n",
    ")  # creat an array with shape of 2*2*6 and full it with 8\n",
    "array12 = np.eye(N=4)  # creat 2-D array with ones on the diagonal and zeros elsewhere\n",
    "\n",
    "# we're putting them in an array to print them all at once\n",
    "arrays = [\n",
    "    array1,\n",
    "    array2,\n",
    "    array3,\n",
    "    array4,\n",
    "    array5,\n",
    "    array6,\n",
    "    array7,\n",
    "    array8,\n",
    "    array9,\n",
    "    array10,\n",
    "    array11,\n",
    "    array12,\n",
    "]\n",
    "\n",
    "for i in range(len(arrays)):\n",
    "    array = arrays[i]\n",
    "    print(f\"Array {i}:\")\n",
    "    print(\"-\" * 40)\n",
    "    print(array)\n",
    "    describe_it(array)\n",
    "    print(\"\\n\")"
   ]
  },
  {
   "cell_type": "markdown",
   "metadata": {
    "id": "U3gvj4b6hJdi"
   },
   "source": [
    "A numpy array has a single data type for all its elements. E.g., it is not possible to create an array holding values of both `int` and `str`. However, it is possible to create an array using values of different types. If the values are all numerical, the NumPy might be able to use a common numerical datatype. The use of strings will results in an array consisting entirely of strings. "
   ]
  },
  {
   "cell_type": "code",
   "execution_count": null,
   "metadata": {
    "colab": {
     "base_uri": "https://localhost:8080/"
    },
    "executionInfo": {
     "elapsed": 60,
     "status": "ok",
     "timestamp": 1638014076185,
     "user": {
      "displayName": "muntadher alkaabi",
      "photoUrl": "https://lh3.googleusercontent.com/a-/AOh14Gj1adaCWpR-cnwQQK4viQZvo0gyRf1A0y9AkvnPMt0=s64",
      "userId": "00221067971932357642"
     },
     "user_tz": -180
    },
    "id": "-PBwXhf-hJdi",
    "outputId": "4e1af90a-823e-4f36-d6f8-67067e8e0c42"
   },
   "outputs": [
    {
     "name": "stdout",
     "output_type": "stream",
     "text": [
      "\n",
      "Array 1:\n",
      "1 <class 'numpy.int64'>\n",
      "2 <class 'numpy.int64'>\n",
      "\n",
      "Array 2:\n",
      "1.0 <class 'numpy.float64'>\n",
      "2.0 <class 'numpy.float64'>\n",
      "\n",
      "Array 3:\n",
      "1 <class 'numpy.str_'>\n",
      "2 <class 'numpy.str_'>\n"
     ]
    }
   ],
   "source": [
    "data = np.array([1, 2])\n",
    "print(\"\\nArray 1:\")\n",
    "for i in data:\n",
    "    print(i, type(i))\n",
    "\n",
    "data = np.array([1, 2.0])\n",
    "print(\"\\nArray 2:\")\n",
    "for i in data:\n",
    "    print(i, type(i))\n",
    "\n",
    "data = np.array([1, \"2\"])\n",
    "print(\"\\nArray 3:\")\n",
    "for i in data:\n",
    "    print(i, type(i))"
   ]
  },
  {
   "cell_type": "markdown",
   "metadata": {
    "id": "lnyYuR2_hJdj"
   },
   "source": [
    "### Arithmetic Operations\n",
    "\n",
    "Many basic arithmetic operations have been defined for arrays."
   ]
  },
  {
   "cell_type": "code",
   "execution_count": null,
   "metadata": {
    "colab": {
     "base_uri": "https://localhost:8080/"
    },
    "executionInfo": {
     "elapsed": 53,
     "status": "ok",
     "timestamp": 1638014076186,
     "user": {
      "displayName": "muntadher alkaabi",
      "photoUrl": "https://lh3.googleusercontent.com/a-/AOh14Gj1adaCWpR-cnwQQK4viQZvo0gyRf1A0y9AkvnPMt0=s64",
      "userId": "00221067971932357642"
     },
     "user_tz": -180
    },
    "id": "h9DHQRGRhJdj",
    "outputId": "1fd4e2b7-61f6-46ef-dbeb-87da62d10c9e"
   },
   "outputs": [
    {
     "name": "stdout",
     "output_type": "stream",
     "text": [
      "a + b: [2. 2. 4. 4. 6.]\n",
      "a - b: [0. 2. 2. 4. 4.]\n",
      "a * b: [1. 0. 3. 0. 5.]\n",
      "a / b: [1.         0.         0.33333333 0.         0.2       ]\n",
      "----------------------------------------\n",
      "a + 10: [11 12 13 14 15]\n",
      "a - 10: [-9 -8 -7 -6 -5]\n",
      "a * 10: [10 20 30 40 50]\n",
      "a / 10: [0.1 0.2 0.3 0.4 0.5]\n",
      "a ** 10: [ 1  4  9 16 25]\n",
      "----------------------------------------\n",
      "a.c: [55]\n",
      "---------------------------------------- \n",
      "statistics over whole array (all elements)\n",
      "c min 1\n",
      "c max 5\n",
      "c sum 15\n",
      "c mean 3.0\n",
      "---------------------------------------- \n",
      "statistics by axis\n",
      "d min (columns) [10 20]\n",
      "d min (rows) [10 30 50 70]\n",
      "d max (columns) [70 80]\n",
      "d max (rows) [20 40 60 80]\n",
      "d sum (columns) [160 200]\n",
      "d sum (rows) [ 30  70 110 150]\n",
      "d mean (columns) [40. 50.]\n",
      "d mean (rows) [15. 35. 55. 75.]\n"
     ]
    }
   ],
   "source": [
    "a = np.array([1, 2, 3, 4, 5])\n",
    "b = np.array([1.0, 0.0, 1.0, 0.0, 1.0])\n",
    "\n",
    "print(\"a + b:\", a + b)  # element-wise addition\n",
    "print(\"a - b:\", a - b)  # element-wise subtraction\n",
    "print(\"a * b:\", a * b)  # element-wise product\n",
    "print(\"a / b:\", b / a)  # element-wise division\n",
    "print(\"-\" * 40)\n",
    "\n",
    "print(\"a + 10:\", a + 10)  # scalar addition\n",
    "print(\"a - 10:\", a - 10)  # scalar subtraction\n",
    "print(\"a * 10:\", a * 10)  # scalar product\n",
    "print(\"a / 10:\", a / 10)  # scalar division\n",
    "print(\"a ** 10:\", a**2)  # scalar exponentiation\n",
    "\n",
    "print(\"-\" * 40)\n",
    "c = np.array([[1], [2], [3], [4], [5]])\n",
    "print(\"a.c:\", a.dot(c))  # dot product of a and c.\n",
    "\n",
    "print(\"-\" * 40, \"\\nstatistics over whole array (all elements)\")\n",
    "\n",
    "print(\"c min\", c.min())\n",
    "print(\"c max\", c.max())\n",
    "print(\"c sum\", c.sum())\n",
    "print(\"c mean\", c.mean())\n",
    "\n",
    "print(\"-\" * 40, \"\\nstatistics by axis\")\n",
    "d = np.array([[10, 20], [30, 40], [50, 60], [70, 80]])\n",
    "\n",
    "print(\"d min (columns)\", d.min(axis=0))\n",
    "print(\"d min (rows)\", d.min(axis=1))\n",
    "print(\"d max (columns)\", d.max(axis=0))\n",
    "print(\"d max (rows)\", d.max(axis=1))\n",
    "print(\"d sum (columns)\", d.sum(axis=0))\n",
    "print(\"d sum (rows)\", d.sum(axis=1))\n",
    "print(\"d mean (columns)\", d.mean(axis=0))\n",
    "print(\"d mean (rows)\", d.mean(axis=1))"
   ]
  },
  {
   "cell_type": "markdown",
   "metadata": {
    "id": "gmt6myGXhJdj"
   },
   "source": [
    "\n",
    "## Indexing and Slicing\n",
    "\n",
    "We can access individual elements of arrays as well as \"slices\" using square brackets and `:`. "
   ]
  },
  {
   "cell_type": "code",
   "execution_count": null,
   "metadata": {
    "colab": {
     "base_uri": "https://localhost:8080/"
    },
    "executionInfo": {
     "elapsed": 50,
     "status": "ok",
     "timestamp": 1638014076187,
     "user": {
      "displayName": "muntadher alkaabi",
      "photoUrl": "https://lh3.googleusercontent.com/a-/AOh14Gj1adaCWpR-cnwQQK4viQZvo0gyRf1A0y9AkvnPMt0=s64",
      "userId": "00221067971932357642"
     },
     "user_tz": -180
    },
    "id": "8Iwg8BJ9hJdj",
    "outputId": "c8967d97-97cf-45bf-ec03-25efc42eebf1"
   },
   "outputs": [
    {
     "name": "stdout",
     "output_type": "stream",
     "text": [
      "----------------------------------------\n",
      "array:\n",
      "[[ 0  1  2  3  4  5  6  7  8  9]\n",
      " [10 11 12 13 14 15 16 17 18 19]\n",
      " [20 21 22 23 24 25 26 27 28 29]\n",
      " [30 31 32 33 34 35 36 37 38 39]\n",
      " [40 41 42 43 44 45 46 47 48 49]]\n",
      "----------------------------------------\n",
      "first row:\n",
      "[0 1 2 3 4 5 6 7 8 9]\n",
      "----------------------------------------\n",
      "rows 2-4\n",
      "[[20 21 22 23 24 25 26 27 28 29]\n",
      " [30 31 32 33 34 35 36 37 38 39]\n",
      " [40 41 42 43 44 45 46 47 48 49]]\n",
      "----------------------------------------\n",
      "2nd element of 2nd row\n",
      "11\n",
      "----------------------------------------\n",
      "every element of column 4\n",
      "[ 4 14 24 34 44]\n",
      "----------------------------------------\n",
      "every element of columns 2 and 3\n",
      "[[ 2  3]\n",
      " [12 13]\n",
      " [22 23]\n",
      " [32 33]\n",
      " [42 43]]\n",
      "----------------------------------------\n",
      "boolen indexing every element bigger that a threshold\n",
      "[11 12 13 14 15 16 17 18 19 20 21 22 23 24 25 26 27 28 29 30 31 32 33 34\n",
      " 35 36 37 38 39 40 41 42 43 44 45 46 47 48 49]\n"
     ]
    }
   ],
   "source": [
    "a = np.arange(50).reshape(5, 10)\n",
    "\n",
    "print(\"-\" * 40)\n",
    "print(\"array:\")\n",
    "print(a)\n",
    "print(\"-\" * 40)\n",
    "print(\"first row:\")\n",
    "print(a[0])\n",
    "print(\"-\" * 40)\n",
    "print(\"rows 2-4\")\n",
    "print(a[2:])\n",
    "print(\"-\" * 40)\n",
    "print(\"2nd element of 2nd row\")\n",
    "print(a[1, 1])\n",
    "print(\"-\" * 40)\n",
    "print(\"every element of column 4\")\n",
    "print(a[:, 4])\n",
    "print(\"-\" * 40)\n",
    "print(\"every element of columns 2 and 3\")\n",
    "print(a[:, 2:4])\n",
    "print(\"-\" * 40)\n",
    "print(\"boolen indexing every element bigger that a threshold\")\n",
    "print(a[a > 10])"
   ]
  },
  {
   "cell_type": "code",
   "execution_count": null,
   "metadata": {
    "colab": {
     "base_uri": "https://localhost:8080/"
    },
    "executionInfo": {
     "elapsed": 46,
     "status": "ok",
     "timestamp": 1638014076188,
     "user": {
      "displayName": "muntadher alkaabi",
      "photoUrl": "https://lh3.googleusercontent.com/a-/AOh14Gj1adaCWpR-cnwQQK4viQZvo0gyRf1A0y9AkvnPMt0=s64",
      "userId": "00221067971932357642"
     },
     "user_tz": -180
    },
    "id": "gDIlTzd9hJdk",
    "outputId": "acaa1449-3c97-40a4-bc22-b3e3e394b96f"
   },
   "outputs": [
    {
     "name": "stdout",
     "output_type": "stream",
     "text": [
      "[ 1  4  7 10]\n"
     ]
    }
   ],
   "source": [
    "a = np.array([1, 2, 3, 4, 5, 6, 7, 8, 9, 10])\n",
    "print(a[0:10:3])  # Note the step size of 3"
   ]
  },
  {
   "cell_type": "markdown",
   "metadata": {
    "id": "3mOX3wkIhJdk"
   },
   "source": [
    "In a multidimensional array, `...` can be used to stand for multiple instances of `:`, enough to form a complete index in an expression. "
   ]
  },
  {
   "cell_type": "code",
   "execution_count": null,
   "metadata": {
    "colab": {
     "base_uri": "https://localhost:8080/"
    },
    "executionInfo": {
     "elapsed": 42,
     "status": "ok",
     "timestamp": 1638014076188,
     "user": {
      "displayName": "muntadher alkaabi",
      "photoUrl": "https://lh3.googleusercontent.com/a-/AOh14Gj1adaCWpR-cnwQQK4viQZvo0gyRf1A0y9AkvnPMt0=s64",
      "userId": "00221067971932357642"
     },
     "user_tz": -180
    },
    "id": "XeRUAyynhJdk",
    "outputId": "6df91a8a-e249-40f5-8974-4b8a9bc59923"
   },
   "outputs": [
    {
     "name": "stdout",
     "output_type": "stream",
     "text": [
      "----------------------------------------\n",
      "[[[ 0  1  2]\n",
      "  [ 3  4  5]\n",
      "  [ 6  7  8]]\n",
      "\n",
      " [[ 9 10 11]\n",
      "  [12 13 14]\n",
      "  [15 16 17]]\n",
      "\n",
      " [[18 19 20]\n",
      "  [21 22 23]\n",
      "  [24 25 26]]]\n",
      "----------------------------------------\n",
      "first: \n",
      "[[ 9 10 11]\n",
      " [12 13 14]\n",
      " [15 16 17]]\n",
      "----------------------------------------\n",
      "second: \n",
      "[12 13 14]\n",
      "----------------------------------------\n",
      "third: \n",
      "[[ 2  5  8]\n",
      " [11 14 17]\n",
      " [20 23 26]]\n"
     ]
    }
   ],
   "source": [
    "a = np.arange(27).reshape(3, 3, 3)  # create a 3x3x3 array with ints 0-26\n",
    "\n",
    "print(\"-\" * 40)\n",
    "print(a)\n",
    "print(\"-\" * 40)\n",
    "print(\"first: \")\n",
    "print(a[1, ...])  # same as a[1,:,:]\n",
    "\n",
    "print(\"-\" * 40)\n",
    "print(\"second: \")\n",
    "print(a[1, 1, ...])  # same as a[1,1,:]\n",
    "print(\"-\" * 40)\n",
    "print(\"third: \")\n",
    "print(a[..., 2])  # same as a[:,:,2]"
   ]
  },
  {
   "cell_type": "markdown",
   "metadata": {
    "id": "E7IwTNsXhJdl"
   },
   "source": [
    "Iterating over all elemetns of a multidimensional array is easy, and there is a builtin method for flattening an array. "
   ]
  },
  {
   "cell_type": "code",
   "execution_count": null,
   "metadata": {
    "colab": {
     "base_uri": "https://localhost:8080/",
     "height": 130
    },
    "executionInfo": {
     "elapsed": 42,
     "status": "error",
     "timestamp": 1638014076191,
     "user": {
      "displayName": "muntadher alkaabi",
      "photoUrl": "https://lh3.googleusercontent.com/a-/AOh14Gj1adaCWpR-cnwQQK4viQZvo0gyRf1A0y9AkvnPMt0=s64",
      "userId": "00221067971932357642"
     },
     "user_tz": -180
    },
    "id": "GJZ_IruOhJdl",
    "outputId": "646e9981-7ed4-48d2-93b2-0bd4bea31637"
   },
   "outputs": [
    {
     "ename": "SyntaxError",
     "evalue": "ignored",
     "output_type": "error",
     "traceback": [
      "\u001b[0;36m  File \u001b[0;32m\"<ipython-input-7-feda37d94185>\"\u001b[0;36m, line \u001b[0;32m18\u001b[0m\n\u001b[0;31m    for i in c :\u001b[0m\n\u001b[0m                ^\u001b[0m\n\u001b[0;31mSyntaxError\u001b[0m\u001b[0;31m:\u001b[0m unexpected EOF while parsing\n"
     ]
    }
   ],
   "source": [
    "a = np.arange(30).reshape(\n",
    "    3, 10\n",
    ")  # create an 1D array from 0 to 30 then reshaping it to new shape(3,10)\n",
    "print(a)\n",
    "print(\"-\" * 40)\n",
    "# to iterate over each element in a 2D array.\n",
    "for e in a.flat:\n",
    "    print(e, end=\" \")\n",
    "\n",
    "print()\n",
    "print(\"-\" * 40)\n",
    "\n",
    "# alternatively, flatten beforehand\n",
    "b = a.flatten()\n",
    "for e in b:\n",
    "    print(e, end=\" \")\n",
    "\n",
    "\n",
    "c = a.reshape(-1)"
   ]
  },
  {
   "cell_type": "markdown",
   "metadata": {
    "id": "wtd4_2p6hJdl"
   },
   "source": [
    "As noted earlier, arrays can be reshaped using `reshape`. To transpose an array, use `.T`."
   ]
  },
  {
   "cell_type": "code",
   "execution_count": null,
   "metadata": {
    "id": "FGqqnZJEhJdl"
   },
   "outputs": [],
   "source": [
    "a = np.array([[1, 2, 3, 4], [5, 6, 7, 8]])\n",
    "print(\"a\")\n",
    "print(a)\n",
    "print(\"-\" * 40)\n",
    "print(\"a reshaped\")\n",
    "print(a.reshape(2, 2, 2))\n",
    "print(\"-\" * 40)\n",
    "print(\"a transposed\")\n",
    "print(a.T)"
   ]
  },
  {
   "cell_type": "markdown",
   "metadata": {
    "id": "pmenxFM9hJdm"
   },
   "source": [
    "Arrays can also be combined, or \"stacked\"."
   ]
  },
  {
   "cell_type": "code",
   "execution_count": null,
   "metadata": {
    "id": "fO26bGz1hJdm"
   },
   "outputs": [],
   "source": [
    "a = np.array([1, 2, 3, 4, 5])\n",
    "b = np.array([6, 7, 8, 9, 10])\n",
    "c = np.array([11, 12, 13, 14, 15])\n",
    "d = np.vstack((a, b, c))  # Stack arrays in sequence vertically (row wise).\n",
    "print(d)\n",
    "print(\"-\" * 40)\n",
    "e = np.hstack((a, b, c))  # Stack arrays in sequence horizontally (column wise).\n",
    "print(e)"
   ]
  },
  {
   "cell_type": "markdown",
   "metadata": {
    "id": "VCOe5m-gxerd"
   },
   "source": [
    "### Matrix operations with Numpy\n"
   ]
  },
  {
   "cell_type": "markdown",
   "metadata": {
    "id": "bidDtYgR_hKm"
   },
   "source": [
    "Below is an image explaining how matrix multiplication work, other operations are straight forward."
   ]
  },
  {
   "cell_type": "markdown",
   "metadata": {
    "id": "mOJrDtHjR2vB"
   },
   "source": [
    "![VK2Qtby.jpg](data:image/jpeg;base64,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)"
   ]
  },
  {
   "cell_type": "code",
   "execution_count": null,
   "metadata": {
    "colab": {
     "base_uri": "https://localhost:8080/"
    },
    "executionInfo": {
     "elapsed": 4,
     "status": "ok",
     "timestamp": 1638014077060,
     "user": {
      "displayName": "muntadher alkaabi",
      "photoUrl": "https://lh3.googleusercontent.com/a-/AOh14Gj1adaCWpR-cnwQQK4viQZvo0gyRf1A0y9AkvnPMt0=s64",
      "userId": "00221067971932357642"
     },
     "user_tz": -180
    },
    "id": "--3SkLjvxd7M",
    "outputId": "47fd5872-a34e-470f-c093-1bb3a6808df1"
   },
   "outputs": [
    {
     "name": "stdout",
     "output_type": "stream",
     "text": [
      "Dot  two array :\n",
      "[[13 17]\n",
      " [15 11]]\n",
      "Sum of array :14\n",
      "Add two array :\n",
      "[[6 6]\n",
      " [5 5]]\n",
      "Mean of array :\n",
      "2.0\n",
      "Matmul two array :\n",
      "[[13 17]\n",
      " [15 11]]\n",
      "Multiply two array :\n",
      " [[9 5]\n",
      " [4 6]]\n"
     ]
    }
   ],
   "source": [
    "a = np.array([[3, 1], [1, 3]])\n",
    "b = np.array([[3, 5], [4, 2]])\n",
    "z = np.dot(a, b)\n",
    "print(f\"Dot  two array :\\n{z}\")\n",
    "z = np.sum(b)\n",
    "print(f\"Sum of array :{z}\")\n",
    "print(f\"Add two array :\\n{np.add(a,b)}\")\n",
    "print(f\"Mean of array :\\n{np.mean(a)}\")\n",
    "print(f\"Matmul two array :\\n{np.matmul(a,b)}\")\n",
    "print(f\"Multiply two array :\\n {np.multiply(a,b)}\")"
   ]
  },
  {
   "cell_type": "markdown",
   "metadata": {
    "id": "3Yvf5rSZAKRX"
   },
   "source": [
    "The purpose of using Numpy is to take advantage of its fast matrix operations, the below example illustrates that advantage. Extrapolating that to real world examples that take a few hours to complete using Numpy implementation whereas the non-vectorized implementation would take days or weeks."
   ]
  },
  {
   "cell_type": "code",
   "execution_count": null,
   "metadata": {
    "colab": {
     "base_uri": "https://localhost:8080/"
    },
    "executionInfo": {
     "elapsed": 2833,
     "status": "ok",
     "timestamp": 1638014081691,
     "user": {
      "displayName": "muntadher alkaabi",
      "photoUrl": "https://lh3.googleusercontent.com/a-/AOh14Gj1adaCWpR-cnwQQK4viQZvo0gyRf1A0y9AkvnPMt0=s64",
      "userId": "00221067971932357642"
     },
     "user_tz": -180
    },
    "id": "V62NkV4PAJ_n",
    "outputId": "482f66a7-1bfb-49f5-e82a-b52015313594"
   },
   "outputs": [
    {
     "name": "stdout",
     "output_type": "stream",
     "text": [
      "Sum using loop:\n",
      "49999995000000\n",
      "Time:\n",
      "2.9090890884399414\n",
      "----------------------------------------\n",
      "Sum using vectorized implementation:\n",
      "49999995000000\n",
      "Time:\n",
      "0.013360977172851562\n"
     ]
    }
   ],
   "source": [
    "start_time = time.time()\n",
    "a = np.arange(10000000)\n",
    "b = 0\n",
    "for i in a:\n",
    "    b = b + i\n",
    "print(f\"Sum using loop:\\n{b}\\nTime:\\n{time.time()-start_time}\")\n",
    "print(\"-\" * 40)\n",
    "start_time = time.time()\n",
    "print(\n",
    "    f\"Sum using vectorized implementation:\\n{a.sum()}\\nTime:\\n{time.time()-start_time}\"\n",
    ")"
   ]
  },
  {
   "cell_type": "markdown",
   "metadata": {
    "id": "s2oNCgd9WSJa"
   },
   "source": [
    "# pickle \n",
    "“Pickling” is the process whereby a Python object hierarchy is converted into a byte stream, and “unpickling” is the inverse operation, whereby a byte stream (from a binary file or bytes-like object) is converted back into an object hierarchy."
   ]
  },
  {
   "cell_type": "code",
   "execution_count": null,
   "metadata": {
    "id": "JigbenMNdKIv"
   },
   "outputs": [],
   "source": [
    "import pickle  # import pickle library\n",
    "import numpy as np"
   ]
  },
  {
   "cell_type": "markdown",
   "metadata": {
    "id": "zI-JvC3NeTvY"
   },
   "source": [
    "# save and load objects using pickle"
   ]
  },
  {
   "cell_type": "markdown",
   "metadata": {
    "id": "I3P4Mgtmebqu"
   },
   "source": [
    "## save "
   ]
  },
  {
   "cell_type": "code",
   "execution_count": null,
   "metadata": {
    "id": "nRBux6CuWsEI"
   },
   "outputs": [],
   "source": [
    "dogs_dict = {\n",
    "    \"Ozzy\": 3,\n",
    "    \"Filou\": 8,\n",
    "    \"Luna\": 5,\n",
    "    \"Skippy\": 10,\n",
    "    \"Barco\": 12,\n",
    "    \"Balou\": 9,\n",
    "    \"Laika\": 16,\n",
    "}  # create a dict for dog names\n",
    "# open a file with the name of dogs names\n",
    "with open(\"dogs_names\", \"bw\") as f:\n",
    "\n",
    "    pickle.dump(obj=dogs_dict, file=f)  # save the object using dump method in pickle"
   ]
  },
  {
   "cell_type": "markdown",
   "metadata": {
    "id": "hQOj1wuWedMQ"
   },
   "source": [
    "# load "
   ]
  },
  {
   "cell_type": "code",
   "execution_count": null,
   "metadata": {
    "colab": {
     "base_uri": "https://localhost:8080/"
    },
    "executionInfo": {
     "elapsed": 7,
     "status": "ok",
     "timestamp": 1638014083918,
     "user": {
      "displayName": "muntadher alkaabi",
      "photoUrl": "https://lh3.googleusercontent.com/a-/AOh14Gj1adaCWpR-cnwQQK4viQZvo0gyRf1A0y9AkvnPMt0=s64",
      "userId": "00221067971932357642"
     },
     "user_tz": -180
    },
    "id": "CjzD-TTSdXs-",
    "outputId": "50514382-8992-4159-f4ed-e04c02aa5103"
   },
   "outputs": [
    {
     "name": "stdout",
     "output_type": "stream",
     "text": [
      "{'Ozzy': 3, 'Filou': 8, 'Luna': 5, 'Skippy': 10, 'Barco': 12, 'Balou': 9, 'Laika': 16}\n"
     ]
    }
   ],
   "source": [
    "with open(\"dogs_names\", \"br\") as f:  # open a file with the name of dogs names\n",
    "\n",
    "    dogs_dict_2 = pickle.load(\n",
    "        f\n",
    "    )  # load the object that in the file uisng load method in pickle\n",
    "print(dogs_dict_2)"
   ]
  },
  {
   "cell_type": "code",
   "execution_count": null,
   "metadata": {
    "id": "JeFg4h6_jeHW"
   },
   "outputs": [],
   "source": []
  },
  {
   "cell_type": "markdown",
   "metadata": {
    "id": "HUPe1mlyjemC"
   },
   "source": [
    "# normal vs uniform distribution \n",
    "![image.png](data:image/png;base64,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)"
   ]
  },
  {
   "cell_type": "markdown",
   "metadata": {
    "id": "cl5hX0HOPOKV"
   },
   "source": [
    "**Normal Distribution** is a probability distribution which peaks out in the middle and gradually decreases towards both ends of axis. \n",
    "\n",
    "**Uniform Distribution** is a probability distribution where probability of x is constant. That is to say, all points in range are equally likely to occur consequently it looks like a rectangle. \n",
    "\n"
   ]
  },
  {
   "cell_type": "code",
   "execution_count": null,
   "metadata": {
    "id": "oh-edPOreqnZ"
   },
   "outputs": [],
   "source": [
    "# Let's create an array of random numbers from uniform distribution\n",
    "uniform = np.random.uniform(-4, 4, 1000000)\n",
    "\n",
    "# Let's create an array of random numbers from normal distribution\n",
    "normal = np.random.randn(1000000)"
   ]
  },
  {
   "cell_type": "markdown",
   "metadata": {
    "id": "d83tubAJP_YQ"
   },
   "source": [
    "![image.png](data:image/png;base64,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)"
   ]
  },
  {
   "cell_type": "code",
   "execution_count": null,
   "metadata": {
    "id": "nJkVmvkfP22b"
   },
   "outputs": [],
   "source": []
  },
  {
   "cell_type": "code",
   "execution_count": null,
   "metadata": {
    "id": "aO2SqeV8Q2MS"
   },
   "outputs": [],
   "source": []
  }
 ],
 "metadata": {
  "colab": {
   "collapsed_sections": [],
   "name": "2- Numpy.ipynb",
   "provenance": []
  },
  "kernelspec": {
   "display_name": "Python 3",
   "language": "python",
   "name": "python3"
  },
  "language_info": {
   "codemirror_mode": {
    "name": "ipython",
    "version": 3
   },
   "file_extension": ".py",
   "mimetype": "text/x-python",
   "name": "python",
   "nbconvert_exporter": "python",
   "pygments_lexer": "ipython3",
   "version": "3.7.4"
  },
  "pycharm": {
   "stem_cell": {
    "cell_type": "raw",
    "metadata": {
     "collapsed": false
    },
    "source": []
   }
  }
 },
 "nbformat": 4,
 "nbformat_minor": 0
}